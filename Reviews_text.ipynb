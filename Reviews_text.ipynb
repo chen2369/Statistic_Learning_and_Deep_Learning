{
  "cells": [
    {
      "cell_type": "markdown",
      "source": [
        "### 1. 把德文評論全部翻譯成英文"
      ],
      "metadata": {
        "id": "eBFm7e0u_VXw"
      }
    },
    {
      "cell_type": "code",
      "source": [
        "!pip install gdown\n",
        "!gdown --id \"1h8aZsJbKFowbRErlH5F8xrpXPXLuNegE\"  \n",
        "!gdown --id \"12hgzs-_vviSx_ngSL2VKyA7CoG_VqwID\"  \n",
        "# !gdown --id \"1d4Ee2J_FP39ZSLQZoElpOXYExQ5inmZc\" "
      ],
      "metadata": {
        "colab": {
          "base_uri": "https://localhost:8080/"
        },
        "id": "OsAKptEOAXeb",
        "outputId": "7f3a0d24-d8e0-4053-ae7e-7314a54fa379"
      },
      "execution_count": null,
      "outputs": [
        {
          "output_type": "stream",
          "name": "stdout",
          "text": [
            "Requirement already satisfied: gdown in /usr/local/lib/python3.7/dist-packages (3.6.4)\n",
            "Requirement already satisfied: tqdm in /usr/local/lib/python3.7/dist-packages (from gdown) (4.62.3)\n",
            "Requirement already satisfied: requests in /usr/local/lib/python3.7/dist-packages (from gdown) (2.23.0)\n",
            "Requirement already satisfied: six in /usr/local/lib/python3.7/dist-packages (from gdown) (1.15.0)\n",
            "Requirement already satisfied: chardet<4,>=3.0.2 in /usr/local/lib/python3.7/dist-packages (from requests->gdown) (3.0.4)\n",
            "Requirement already satisfied: certifi>=2017.4.17 in /usr/local/lib/python3.7/dist-packages (from requests->gdown) (2021.10.8)\n",
            "Requirement already satisfied: urllib3!=1.25.0,!=1.25.1,<1.26,>=1.21.1 in /usr/local/lib/python3.7/dist-packages (from requests->gdown) (1.24.3)\n",
            "Requirement already satisfied: idna<3,>=2.5 in /usr/local/lib/python3.7/dist-packages (from requests->gdown) (2.10)\n",
            "Downloading...\n",
            "From: https://drive.google.com/uc?id=1h8aZsJbKFowbRErlH5F8xrpXPXLuNegE\n",
            "To: /content/reviews_summary.csv\n",
            "100% 125M/125M [00:01<00:00, 109MB/s]\n",
            "Downloading...\n",
            "From: https://drive.google.com/uc?id=12hgzs-_vviSx_ngSL2VKyA7CoG_VqwID\n",
            "To: /content/english_reviews_summary.csv\n",
            "100% 234M/234M [00:01<00:00, 145MB/s]\n"
          ]
        }
      ]
    },
    {
      "cell_type": "code",
      "source": [
        "!pip install googletrans==4.0.0-rc1"
      ],
      "metadata": {
        "id": "FndYiI-j_hH5",
        "colab": {
          "base_uri": "https://localhost:8080/"
        },
        "outputId": "ddb21680-0be3-4d52-8ba6-a081dd5fc2d1"
      },
      "execution_count": null,
      "outputs": [
        {
          "output_type": "stream",
          "name": "stdout",
          "text": [
            "Collecting googletrans==4.0.0-rc1\n",
            "  Downloading googletrans-4.0.0rc1.tar.gz (20 kB)\n",
            "Collecting httpx==0.13.3\n",
            "  Downloading httpx-0.13.3-py3-none-any.whl (55 kB)\n",
            "\u001b[K     |████████████████████████████████| 55 kB 2.8 MB/s \n",
            "\u001b[?25hRequirement already satisfied: certifi in /usr/local/lib/python3.7/dist-packages (from httpx==0.13.3->googletrans==4.0.0-rc1) (2021.10.8)\n",
            "Requirement already satisfied: chardet==3.* in /usr/local/lib/python3.7/dist-packages (from httpx==0.13.3->googletrans==4.0.0-rc1) (3.0.4)\n",
            "Collecting sniffio\n",
            "  Downloading sniffio-1.2.0-py3-none-any.whl (10 kB)\n",
            "Collecting httpcore==0.9.*\n",
            "  Downloading httpcore-0.9.1-py3-none-any.whl (42 kB)\n",
            "\u001b[K     |████████████████████████████████| 42 kB 1.4 MB/s \n",
            "\u001b[?25hRequirement already satisfied: idna==2.* in /usr/local/lib/python3.7/dist-packages (from httpx==0.13.3->googletrans==4.0.0-rc1) (2.10)\n",
            "Collecting hstspreload\n",
            "  Downloading hstspreload-2021.12.1-py3-none-any.whl (1.3 MB)\n",
            "\u001b[K     |████████████████████████████████| 1.3 MB 18.0 MB/s \n",
            "\u001b[?25hCollecting rfc3986<2,>=1.3\n",
            "  Downloading rfc3986-1.5.0-py2.py3-none-any.whl (31 kB)\n",
            "Collecting h2==3.*\n",
            "  Downloading h2-3.2.0-py2.py3-none-any.whl (65 kB)\n",
            "\u001b[K     |████████████████████████████████| 65 kB 4.0 MB/s \n",
            "\u001b[?25hCollecting h11<0.10,>=0.8\n",
            "  Downloading h11-0.9.0-py2.py3-none-any.whl (53 kB)\n",
            "\u001b[K     |████████████████████████████████| 53 kB 2.5 MB/s \n",
            "\u001b[?25hCollecting hyperframe<6,>=5.2.0\n",
            "  Downloading hyperframe-5.2.0-py2.py3-none-any.whl (12 kB)\n",
            "Collecting hpack<4,>=3.0\n",
            "  Downloading hpack-3.0.0-py2.py3-none-any.whl (38 kB)\n",
            "Building wheels for collected packages: googletrans\n",
            "  Building wheel for googletrans (setup.py) ... \u001b[?25l\u001b[?25hdone\n",
            "  Created wheel for googletrans: filename=googletrans-4.0.0rc1-py3-none-any.whl size=17415 sha256=14649b86a13db964be043fa2f07ac70e50856590af393bf670dfc151f1724663\n",
            "  Stored in directory: /root/.cache/pip/wheels/43/34/00/4fe71786ea6d12314b29037620c36d857e5d104ac2748bf82a\n",
            "Successfully built googletrans\n",
            "Installing collected packages: hyperframe, hpack, sniffio, h2, h11, rfc3986, httpcore, hstspreload, httpx, googletrans\n",
            "Successfully installed googletrans-4.0.0rc1 h11-0.9.0 h2-3.2.0 hpack-3.0.0 hstspreload-2021.12.1 httpcore-0.9.1 httpx-0.13.3 hyperframe-5.2.0 rfc3986-1.5.0 sniffio-1.2.0\n"
          ]
        }
      ]
    },
    {
      "cell_type": "code",
      "source": [
        "import pandas as pd\n",
        "reviews_summary = pd.read_csv('reviews_summary.csv')  # 要翻譯的dataset"
      ],
      "metadata": {
        "id": "7d5WSC8IAH6P"
      },
      "execution_count": null,
      "outputs": []
    },
    {
      "cell_type": "code",
      "source": [
        "reviews_summary.head()"
      ],
      "metadata": {
        "colab": {
          "base_uri": "https://localhost:8080/",
          "height": 563
        },
        "id": "TeynOrU9A7cA",
        "outputId": "cafaa7ab-f230-4ef0-f632-0ed947f9e16f"
      },
      "execution_count": null,
      "outputs": [
        {
          "output_type": "execute_result",
          "data": {
            "text/html": [
              "\n",
              "  <div id=\"df-99ea0eb3-68d9-4401-aa99-b4bacf2234f9\">\n",
              "    <div class=\"colab-df-container\">\n",
              "      <div>\n",
              "<style scoped>\n",
              "    .dataframe tbody tr th:only-of-type {\n",
              "        vertical-align: middle;\n",
              "    }\n",
              "\n",
              "    .dataframe tbody tr th {\n",
              "        vertical-align: top;\n",
              "    }\n",
              "\n",
              "    .dataframe thead th {\n",
              "        text-align: right;\n",
              "    }\n",
              "</style>\n",
              "<table border=\"1\" class=\"dataframe\">\n",
              "  <thead>\n",
              "    <tr style=\"text-align: right;\">\n",
              "      <th></th>\n",
              "      <th>listing_id</th>\n",
              "      <th>id</th>\n",
              "      <th>date</th>\n",
              "      <th>reviewer_id</th>\n",
              "      <th>reviewer_name</th>\n",
              "      <th>comments</th>\n",
              "    </tr>\n",
              "  </thead>\n",
              "  <tbody>\n",
              "    <tr>\n",
              "      <th>0</th>\n",
              "      <td>2015</td>\n",
              "      <td>69544350</td>\n",
              "      <td>2016-04-11</td>\n",
              "      <td>7178145</td>\n",
              "      <td>Rahel</td>\n",
              "      <td>Mein Freund und ich hatten gute gemütliche vie...</td>\n",
              "    </tr>\n",
              "    <tr>\n",
              "      <th>1</th>\n",
              "      <td>2015</td>\n",
              "      <td>69990732</td>\n",
              "      <td>2016-04-15</td>\n",
              "      <td>41944715</td>\n",
              "      <td>Hannah</td>\n",
              "      <td>Jan was very friendly and welcoming host! The ...</td>\n",
              "    </tr>\n",
              "    <tr>\n",
              "      <th>2</th>\n",
              "      <td>2015</td>\n",
              "      <td>71605267</td>\n",
              "      <td>2016-04-26</td>\n",
              "      <td>30048708</td>\n",
              "      <td>Victor</td>\n",
              "      <td>Un appartement tres bien situé dans un quartie...</td>\n",
              "    </tr>\n",
              "    <tr>\n",
              "      <th>3</th>\n",
              "      <td>2015</td>\n",
              "      <td>73819566</td>\n",
              "      <td>2016-05-10</td>\n",
              "      <td>63697857</td>\n",
              "      <td>Judy</td>\n",
              "      <td>It is really nice area, food, park, transport ...</td>\n",
              "    </tr>\n",
              "    <tr>\n",
              "      <th>4</th>\n",
              "      <td>2015</td>\n",
              "      <td>74293504</td>\n",
              "      <td>2016-05-14</td>\n",
              "      <td>10414887</td>\n",
              "      <td>Romina</td>\n",
              "      <td>Buena ubicación, el departamento no está orden...</td>\n",
              "    </tr>\n",
              "  </tbody>\n",
              "</table>\n",
              "</div>\n",
              "      <button class=\"colab-df-convert\" onclick=\"convertToInteractive('df-99ea0eb3-68d9-4401-aa99-b4bacf2234f9')\"\n",
              "              title=\"Convert this dataframe to an interactive table.\"\n",
              "              style=\"display:none;\">\n",
              "        \n",
              "  <svg xmlns=\"http://www.w3.org/2000/svg\" height=\"24px\"viewBox=\"0 0 24 24\"\n",
              "       width=\"24px\">\n",
              "    <path d=\"M0 0h24v24H0V0z\" fill=\"none\"/>\n",
              "    <path d=\"M18.56 5.44l.94 2.06.94-2.06 2.06-.94-2.06-.94-.94-2.06-.94 2.06-2.06.94zm-11 1L8.5 8.5l.94-2.06 2.06-.94-2.06-.94L8.5 2.5l-.94 2.06-2.06.94zm10 10l.94 2.06.94-2.06 2.06-.94-2.06-.94-.94-2.06-.94 2.06-2.06.94z\"/><path d=\"M17.41 7.96l-1.37-1.37c-.4-.4-.92-.59-1.43-.59-.52 0-1.04.2-1.43.59L10.3 9.45l-7.72 7.72c-.78.78-.78 2.05 0 2.83L4 21.41c.39.39.9.59 1.41.59.51 0 1.02-.2 1.41-.59l7.78-7.78 2.81-2.81c.8-.78.8-2.07 0-2.86zM5.41 20L4 18.59l7.72-7.72 1.47 1.35L5.41 20z\"/>\n",
              "  </svg>\n",
              "      </button>\n",
              "      \n",
              "  <style>\n",
              "    .colab-df-container {\n",
              "      display:flex;\n",
              "      flex-wrap:wrap;\n",
              "      gap: 12px;\n",
              "    }\n",
              "\n",
              "    .colab-df-convert {\n",
              "      background-color: #E8F0FE;\n",
              "      border: none;\n",
              "      border-radius: 50%;\n",
              "      cursor: pointer;\n",
              "      display: none;\n",
              "      fill: #1967D2;\n",
              "      height: 32px;\n",
              "      padding: 0 0 0 0;\n",
              "      width: 32px;\n",
              "    }\n",
              "\n",
              "    .colab-df-convert:hover {\n",
              "      background-color: #E2EBFA;\n",
              "      box-shadow: 0px 1px 2px rgba(60, 64, 67, 0.3), 0px 1px 3px 1px rgba(60, 64, 67, 0.15);\n",
              "      fill: #174EA6;\n",
              "    }\n",
              "\n",
              "    [theme=dark] .colab-df-convert {\n",
              "      background-color: #3B4455;\n",
              "      fill: #D2E3FC;\n",
              "    }\n",
              "\n",
              "    [theme=dark] .colab-df-convert:hover {\n",
              "      background-color: #434B5C;\n",
              "      box-shadow: 0px 1px 3px 1px rgba(0, 0, 0, 0.15);\n",
              "      filter: drop-shadow(0px 1px 2px rgba(0, 0, 0, 0.3));\n",
              "      fill: #FFFFFF;\n",
              "    }\n",
              "  </style>\n",
              "\n",
              "      <script>\n",
              "        const buttonEl =\n",
              "          document.querySelector('#df-99ea0eb3-68d9-4401-aa99-b4bacf2234f9 button.colab-df-convert');\n",
              "        buttonEl.style.display =\n",
              "          google.colab.kernel.accessAllowed ? 'block' : 'none';\n",
              "\n",
              "        async function convertToInteractive(key) {\n",
              "          const element = document.querySelector('#df-99ea0eb3-68d9-4401-aa99-b4bacf2234f9');\n",
              "          const dataTable =\n",
              "            await google.colab.kernel.invokeFunction('convertToInteractive',\n",
              "                                                     [key], {});\n",
              "          if (!dataTable) return;\n",
              "\n",
              "          const docLinkHtml = 'Like what you see? Visit the ' +\n",
              "            '<a target=\"_blank\" href=https://colab.research.google.com/notebooks/data_table.ipynb>data table notebook</a>'\n",
              "            + ' to learn more about interactive tables.';\n",
              "          element.innerHTML = '';\n",
              "          dataTable['output_type'] = 'display_data';\n",
              "          await google.colab.output.renderOutput(dataTable, element);\n",
              "          const docLink = document.createElement('div');\n",
              "          docLink.innerHTML = docLinkHtml;\n",
              "          element.appendChild(docLink);\n",
              "        }\n",
              "      </script>\n",
              "    </div>\n",
              "  </div>\n",
              "  "
            ],
            "text/plain": [
              "   listing_id  ...                                           comments\n",
              "0        2015  ...  Mein Freund und ich hatten gute gemütliche vie...\n",
              "1        2015  ...  Jan was very friendly and welcoming host! The ...\n",
              "2        2015  ...  Un appartement tres bien situé dans un quartie...\n",
              "3        2015  ...  It is really nice area, food, park, transport ...\n",
              "4        2015  ...  Buena ubicación, el departamento no está orden...\n",
              "\n",
              "[5 rows x 6 columns]"
            ]
          },
          "metadata": {},
          "execution_count": 4
        }
      ]
    },
    {
      "cell_type": "code",
      "source": [
        "'''不要重跑這段'''\n",
        "from googletrans import Translator\n",
        "import time\n",
        "\n",
        "reviews_list = reviews_summary['comments'].tolist()\n",
        "# print(reviews_list)\n",
        "\n",
        "translator = Translator()\n",
        "\n",
        "english_comments = []\n",
        "count = 0\n",
        "\n",
        "for review in reviews_list:\n",
        "  try:\n",
        "    eng_comment = translator.translate(review, dest='en')\n",
        "    print(eng_comment.text, count)\n",
        "    english_comments.append(eng_comment.text)\n",
        "    count += 1\n",
        "  except:\n",
        "    pass\n",
        "    english_comments.append(' ')\n",
        "    count += 1\n",
        "\n",
        "  time.sleep(1)"
      ],
      "metadata": {
        "id": "rwHMzzi8_2Ry"
      },
      "execution_count": null,
      "outputs": []
    },
    {
      "cell_type": "code",
      "source": [
        "'''這段也千萬不要重跑~'''\n",
        "english_comments_df = pd.DataFrame(english_comments)\n",
        "english_comments_df.to_csv('english_reviews_summary.csv')"
      ],
      "metadata": {
        "id": "vRv768SXBSAu"
      },
      "execution_count": null,
      "outputs": []
    },
    {
      "cell_type": "markdown",
      "source": [
        "### 2. 用Afinn對評論進行情感分析"
      ],
      "metadata": {
        "id": "Bvnb05n_B69o"
      }
    },
    {
      "cell_type": "code",
      "execution_count": null,
      "metadata": {
        "id": "S6GUVEyslXDX"
      },
      "outputs": [],
      "source": [
        "reviews = pd.read_csv('english_reviews_summary.csv')"
      ]
    },
    {
      "cell_type": "code",
      "source": [
        "reviews.head()"
      ],
      "metadata": {
        "colab": {
          "base_uri": "https://localhost:8080/",
          "height": 600
        },
        "id": "8vD50FSwbTZ8",
        "outputId": "361524ff-aa4f-4c7c-f991-c7e4ad2e2b04"
      },
      "execution_count": null,
      "outputs": [
        {
          "output_type": "execute_result",
          "data": {
            "text/html": [
              "\n",
              "  <div id=\"df-e5d4b965-b0a2-4ba2-93f3-9ad9ea5436bb\">\n",
              "    <div class=\"colab-df-container\">\n",
              "      <div>\n",
              "<style scoped>\n",
              "    .dataframe tbody tr th:only-of-type {\n",
              "        vertical-align: middle;\n",
              "    }\n",
              "\n",
              "    .dataframe tbody tr th {\n",
              "        vertical-align: top;\n",
              "    }\n",
              "\n",
              "    .dataframe thead th {\n",
              "        text-align: right;\n",
              "    }\n",
              "</style>\n",
              "<table border=\"1\" class=\"dataframe\">\n",
              "  <thead>\n",
              "    <tr style=\"text-align: right;\">\n",
              "      <th></th>\n",
              "      <th>Unnamed: 0</th>\n",
              "      <th>index</th>\n",
              "      <th>listing_id</th>\n",
              "      <th>id</th>\n",
              "      <th>date</th>\n",
              "      <th>reviewer_id</th>\n",
              "      <th>reviewer_name</th>\n",
              "      <th>comments</th>\n",
              "      <th>english_comments</th>\n",
              "    </tr>\n",
              "  </thead>\n",
              "  <tbody>\n",
              "    <tr>\n",
              "      <th>0</th>\n",
              "      <td>0</td>\n",
              "      <td>0</td>\n",
              "      <td>2015</td>\n",
              "      <td>69544350</td>\n",
              "      <td>2016-04-11</td>\n",
              "      <td>7178145</td>\n",
              "      <td>Rahel</td>\n",
              "      <td>Mein Freund und ich hatten gute gemütliche vie...</td>\n",
              "      <td>My friend and I had good cozy four nights in J...</td>\n",
              "    </tr>\n",
              "    <tr>\n",
              "      <th>1</th>\n",
              "      <td>1</td>\n",
              "      <td>1</td>\n",
              "      <td>2015</td>\n",
              "      <td>69990732</td>\n",
              "      <td>2016-04-15</td>\n",
              "      <td>41944715</td>\n",
              "      <td>Hannah</td>\n",
              "      <td>Jan was very friendly and welcoming host! The ...</td>\n",
              "      <td>Jan was very friendly and welcoming host! The ...</td>\n",
              "    </tr>\n",
              "    <tr>\n",
              "      <th>2</th>\n",
              "      <td>2</td>\n",
              "      <td>2</td>\n",
              "      <td>2015</td>\n",
              "      <td>71605267</td>\n",
              "      <td>2016-04-26</td>\n",
              "      <td>30048708</td>\n",
              "      <td>Victor</td>\n",
              "      <td>Un appartement tres bien situé dans un quartie...</td>\n",
              "      <td>An apartment very well located in a very nice ...</td>\n",
              "    </tr>\n",
              "    <tr>\n",
              "      <th>3</th>\n",
              "      <td>3</td>\n",
              "      <td>3</td>\n",
              "      <td>2015</td>\n",
              "      <td>73819566</td>\n",
              "      <td>2016-05-10</td>\n",
              "      <td>63697857</td>\n",
              "      <td>Judy</td>\n",
              "      <td>It is really nice area, food, park, transport ...</td>\n",
              "      <td>It is really nice area, food, park, transport ...</td>\n",
              "    </tr>\n",
              "    <tr>\n",
              "      <th>4</th>\n",
              "      <td>4</td>\n",
              "      <td>4</td>\n",
              "      <td>2015</td>\n",
              "      <td>74293504</td>\n",
              "      <td>2016-05-14</td>\n",
              "      <td>10414887</td>\n",
              "      <td>Romina</td>\n",
              "      <td>Buena ubicación, el departamento no está orden...</td>\n",
              "      <td>Good location, the department is not ordered, ...</td>\n",
              "    </tr>\n",
              "  </tbody>\n",
              "</table>\n",
              "</div>\n",
              "      <button class=\"colab-df-convert\" onclick=\"convertToInteractive('df-e5d4b965-b0a2-4ba2-93f3-9ad9ea5436bb')\"\n",
              "              title=\"Convert this dataframe to an interactive table.\"\n",
              "              style=\"display:none;\">\n",
              "        \n",
              "  <svg xmlns=\"http://www.w3.org/2000/svg\" height=\"24px\"viewBox=\"0 0 24 24\"\n",
              "       width=\"24px\">\n",
              "    <path d=\"M0 0h24v24H0V0z\" fill=\"none\"/>\n",
              "    <path d=\"M18.56 5.44l.94 2.06.94-2.06 2.06-.94-2.06-.94-.94-2.06-.94 2.06-2.06.94zm-11 1L8.5 8.5l.94-2.06 2.06-.94-2.06-.94L8.5 2.5l-.94 2.06-2.06.94zm10 10l.94 2.06.94-2.06 2.06-.94-2.06-.94-.94-2.06-.94 2.06-2.06.94z\"/><path d=\"M17.41 7.96l-1.37-1.37c-.4-.4-.92-.59-1.43-.59-.52 0-1.04.2-1.43.59L10.3 9.45l-7.72 7.72c-.78.78-.78 2.05 0 2.83L4 21.41c.39.39.9.59 1.41.59.51 0 1.02-.2 1.41-.59l7.78-7.78 2.81-2.81c.8-.78.8-2.07 0-2.86zM5.41 20L4 18.59l7.72-7.72 1.47 1.35L5.41 20z\"/>\n",
              "  </svg>\n",
              "      </button>\n",
              "      \n",
              "  <style>\n",
              "    .colab-df-container {\n",
              "      display:flex;\n",
              "      flex-wrap:wrap;\n",
              "      gap: 12px;\n",
              "    }\n",
              "\n",
              "    .colab-df-convert {\n",
              "      background-color: #E8F0FE;\n",
              "      border: none;\n",
              "      border-radius: 50%;\n",
              "      cursor: pointer;\n",
              "      display: none;\n",
              "      fill: #1967D2;\n",
              "      height: 32px;\n",
              "      padding: 0 0 0 0;\n",
              "      width: 32px;\n",
              "    }\n",
              "\n",
              "    .colab-df-convert:hover {\n",
              "      background-color: #E2EBFA;\n",
              "      box-shadow: 0px 1px 2px rgba(60, 64, 67, 0.3), 0px 1px 3px 1px rgba(60, 64, 67, 0.15);\n",
              "      fill: #174EA6;\n",
              "    }\n",
              "\n",
              "    [theme=dark] .colab-df-convert {\n",
              "      background-color: #3B4455;\n",
              "      fill: #D2E3FC;\n",
              "    }\n",
              "\n",
              "    [theme=dark] .colab-df-convert:hover {\n",
              "      background-color: #434B5C;\n",
              "      box-shadow: 0px 1px 3px 1px rgba(0, 0, 0, 0.15);\n",
              "      filter: drop-shadow(0px 1px 2px rgba(0, 0, 0, 0.3));\n",
              "      fill: #FFFFFF;\n",
              "    }\n",
              "  </style>\n",
              "\n",
              "      <script>\n",
              "        const buttonEl =\n",
              "          document.querySelector('#df-e5d4b965-b0a2-4ba2-93f3-9ad9ea5436bb button.colab-df-convert');\n",
              "        buttonEl.style.display =\n",
              "          google.colab.kernel.accessAllowed ? 'block' : 'none';\n",
              "\n",
              "        async function convertToInteractive(key) {\n",
              "          const element = document.querySelector('#df-e5d4b965-b0a2-4ba2-93f3-9ad9ea5436bb');\n",
              "          const dataTable =\n",
              "            await google.colab.kernel.invokeFunction('convertToInteractive',\n",
              "                                                     [key], {});\n",
              "          if (!dataTable) return;\n",
              "\n",
              "          const docLinkHtml = 'Like what you see? Visit the ' +\n",
              "            '<a target=\"_blank\" href=https://colab.research.google.com/notebooks/data_table.ipynb>data table notebook</a>'\n",
              "            + ' to learn more about interactive tables.';\n",
              "          element.innerHTML = '';\n",
              "          dataTable['output_type'] = 'display_data';\n",
              "          await google.colab.output.renderOutput(dataTable, element);\n",
              "          const docLink = document.createElement('div');\n",
              "          docLink.innerHTML = docLinkHtml;\n",
              "          element.appendChild(docLink);\n",
              "        }\n",
              "      </script>\n",
              "    </div>\n",
              "  </div>\n",
              "  "
            ],
            "text/plain": [
              "   Unnamed: 0  ...                                   english_comments\n",
              "0           0  ...  My friend and I had good cozy four nights in J...\n",
              "1           1  ...  Jan was very friendly and welcoming host! The ...\n",
              "2           2  ...  An apartment very well located in a very nice ...\n",
              "3           3  ...  It is really nice area, food, park, transport ...\n",
              "4           4  ...  Good location, the department is not ordered, ...\n",
              "\n",
              "[5 rows x 9 columns]"
            ]
          },
          "metadata": {},
          "execution_count": 6
        }
      ]
    },
    {
      "cell_type": "code",
      "source": [
        "reviews.english_comments[0]"
      ],
      "metadata": {
        "id": "JLtPzNSXwqLz",
        "outputId": "8be8d9cc-6390-4d78-a873-843abdbaa5bf",
        "colab": {
          "base_uri": "https://localhost:8080/",
          "height": 122
        }
      },
      "execution_count": null,
      "outputs": [
        {
          "output_type": "execute_result",
          "data": {
            "application/vnd.google.colaboratory.intrinsic+json": {
              "type": "string"
            },
            "text/plain": [
              "'My friend and I had good cozy four nights in Jans Studio.It is incredibly quiet and even has a steamed piano for people who like to play.The location is excellent and there is a great alimentari and a cheap cultivation in the street.The bathroom is very old but functional and the insarked standard is ok, a little chaotic but you have the feeling you are at someone at home!Jan is an open-minded funny man and also tried for fresh towels and other!We thank.'"
            ]
          },
          "metadata": {},
          "execution_count": 7
        }
      ]
    },
    {
      "cell_type": "code",
      "execution_count": null,
      "metadata": {
        "colab": {
          "base_uri": "https://localhost:8080/",
          "height": 224
        },
        "id": "I8BcDS2KmVwR",
        "outputId": "385e1e19-242e-43a7-b2e6-4fe9536f2a62"
      },
      "outputs": [
        {
          "output_type": "stream",
          "name": "stdout",
          "text": [
            "(401963, 2)\n"
          ]
        },
        {
          "output_type": "execute_result",
          "data": {
            "text/html": [
              "\n",
              "  <div id=\"df-9f7ed999-b90c-4345-a255-4eaf04c8fbc4\">\n",
              "    <div class=\"colab-df-container\">\n",
              "      <div>\n",
              "<style scoped>\n",
              "    .dataframe tbody tr th:only-of-type {\n",
              "        vertical-align: middle;\n",
              "    }\n",
              "\n",
              "    .dataframe tbody tr th {\n",
              "        vertical-align: top;\n",
              "    }\n",
              "\n",
              "    .dataframe thead th {\n",
              "        text-align: right;\n",
              "    }\n",
              "</style>\n",
              "<table border=\"1\" class=\"dataframe\">\n",
              "  <thead>\n",
              "    <tr style=\"text-align: right;\">\n",
              "      <th></th>\n",
              "      <th>listing_id</th>\n",
              "      <th>english_comments</th>\n",
              "    </tr>\n",
              "  </thead>\n",
              "  <tbody>\n",
              "    <tr>\n",
              "      <th>0</th>\n",
              "      <td>2015</td>\n",
              "      <td>My friend and I had good cozy four nights in J...</td>\n",
              "    </tr>\n",
              "    <tr>\n",
              "      <th>1</th>\n",
              "      <td>2015</td>\n",
              "      <td>Jan was very friendly and welcoming host! The ...</td>\n",
              "    </tr>\n",
              "    <tr>\n",
              "      <th>2</th>\n",
              "      <td>2015</td>\n",
              "      <td>An apartment very well located in a very nice ...</td>\n",
              "    </tr>\n",
              "    <tr>\n",
              "      <th>3</th>\n",
              "      <td>2015</td>\n",
              "      <td>It is really nice area, food, park, transport ...</td>\n",
              "    </tr>\n",
              "    <tr>\n",
              "      <th>4</th>\n",
              "      <td>2015</td>\n",
              "      <td>Good location, the department is not ordered, ...</td>\n",
              "    </tr>\n",
              "  </tbody>\n",
              "</table>\n",
              "</div>\n",
              "      <button class=\"colab-df-convert\" onclick=\"convertToInteractive('df-9f7ed999-b90c-4345-a255-4eaf04c8fbc4')\"\n",
              "              title=\"Convert this dataframe to an interactive table.\"\n",
              "              style=\"display:none;\">\n",
              "        \n",
              "  <svg xmlns=\"http://www.w3.org/2000/svg\" height=\"24px\"viewBox=\"0 0 24 24\"\n",
              "       width=\"24px\">\n",
              "    <path d=\"M0 0h24v24H0V0z\" fill=\"none\"/>\n",
              "    <path d=\"M18.56 5.44l.94 2.06.94-2.06 2.06-.94-2.06-.94-.94-2.06-.94 2.06-2.06.94zm-11 1L8.5 8.5l.94-2.06 2.06-.94-2.06-.94L8.5 2.5l-.94 2.06-2.06.94zm10 10l.94 2.06.94-2.06 2.06-.94-2.06-.94-.94-2.06-.94 2.06-2.06.94z\"/><path d=\"M17.41 7.96l-1.37-1.37c-.4-.4-.92-.59-1.43-.59-.52 0-1.04.2-1.43.59L10.3 9.45l-7.72 7.72c-.78.78-.78 2.05 0 2.83L4 21.41c.39.39.9.59 1.41.59.51 0 1.02-.2 1.41-.59l7.78-7.78 2.81-2.81c.8-.78.8-2.07 0-2.86zM5.41 20L4 18.59l7.72-7.72 1.47 1.35L5.41 20z\"/>\n",
              "  </svg>\n",
              "      </button>\n",
              "      \n",
              "  <style>\n",
              "    .colab-df-container {\n",
              "      display:flex;\n",
              "      flex-wrap:wrap;\n",
              "      gap: 12px;\n",
              "    }\n",
              "\n",
              "    .colab-df-convert {\n",
              "      background-color: #E8F0FE;\n",
              "      border: none;\n",
              "      border-radius: 50%;\n",
              "      cursor: pointer;\n",
              "      display: none;\n",
              "      fill: #1967D2;\n",
              "      height: 32px;\n",
              "      padding: 0 0 0 0;\n",
              "      width: 32px;\n",
              "    }\n",
              "\n",
              "    .colab-df-convert:hover {\n",
              "      background-color: #E2EBFA;\n",
              "      box-shadow: 0px 1px 2px rgba(60, 64, 67, 0.3), 0px 1px 3px 1px rgba(60, 64, 67, 0.15);\n",
              "      fill: #174EA6;\n",
              "    }\n",
              "\n",
              "    [theme=dark] .colab-df-convert {\n",
              "      background-color: #3B4455;\n",
              "      fill: #D2E3FC;\n",
              "    }\n",
              "\n",
              "    [theme=dark] .colab-df-convert:hover {\n",
              "      background-color: #434B5C;\n",
              "      box-shadow: 0px 1px 3px 1px rgba(0, 0, 0, 0.15);\n",
              "      filter: drop-shadow(0px 1px 2px rgba(0, 0, 0, 0.3));\n",
              "      fill: #FFFFFF;\n",
              "    }\n",
              "  </style>\n",
              "\n",
              "      <script>\n",
              "        const buttonEl =\n",
              "          document.querySelector('#df-9f7ed999-b90c-4345-a255-4eaf04c8fbc4 button.colab-df-convert');\n",
              "        buttonEl.style.display =\n",
              "          google.colab.kernel.accessAllowed ? 'block' : 'none';\n",
              "\n",
              "        async function convertToInteractive(key) {\n",
              "          const element = document.querySelector('#df-9f7ed999-b90c-4345-a255-4eaf04c8fbc4');\n",
              "          const dataTable =\n",
              "            await google.colab.kernel.invokeFunction('convertToInteractive',\n",
              "                                                     [key], {});\n",
              "          if (!dataTable) return;\n",
              "\n",
              "          const docLinkHtml = 'Like what you see? Visit the ' +\n",
              "            '<a target=\"_blank\" href=https://colab.research.google.com/notebooks/data_table.ipynb>data table notebook</a>'\n",
              "            + ' to learn more about interactive tables.';\n",
              "          element.innerHTML = '';\n",
              "          dataTable['output_type'] = 'display_data';\n",
              "          await google.colab.output.renderOutput(dataTable, element);\n",
              "          const docLink = document.createElement('div');\n",
              "          docLink.innerHTML = docLinkHtml;\n",
              "          element.appendChild(docLink);\n",
              "        }\n",
              "      </script>\n",
              "    </div>\n",
              "  </div>\n",
              "  "
            ],
            "text/plain": [
              "   listing_id                                   english_comments\n",
              "0        2015  My friend and I had good cozy four nights in J...\n",
              "1        2015  Jan was very friendly and welcoming host! The ...\n",
              "2        2015  An apartment very well located in a very nice ...\n",
              "3        2015  It is really nice area, food, park, transport ...\n",
              "4        2015  Good location, the department is not ordered, ..."
            ]
          },
          "metadata": {},
          "execution_count": 8
        }
      ],
      "source": [
        "# 刪掉不會用到的刪掉不會用到的columns\n",
        "reviews.drop(['Unnamed: 0', 'index', 'id', 'date', 'reviewer_id', 'reviewer_name', 'comments'], axis=1, inplace=True)\n",
        "print(reviews.shape)\n",
        "reviews.head()"
      ]
    },
    {
      "cell_type": "code",
      "execution_count": null,
      "metadata": {
        "colab": {
          "base_uri": "https://localhost:8080/"
        },
        "id": "fKJZq4hg2BVL",
        "outputId": "7c67ee2c-6aad-4b03-de71-eb8ded0d6f27"
      },
      "outputs": [
        {
          "output_type": "stream",
          "name": "stdout",
          "text": [
            "Collecting afinn\n",
            "  Downloading afinn-0.1.tar.gz (52 kB)\n",
            "\u001b[?25l\r\u001b[K     |██████▎                         | 10 kB 18.2 MB/s eta 0:00:01\r\u001b[K     |████████████▌                   | 20 kB 21.0 MB/s eta 0:00:01\r\u001b[K     |██████████████████▊             | 30 kB 12.1 MB/s eta 0:00:01\r\u001b[K     |█████████████████████████       | 40 kB 9.7 MB/s eta 0:00:01\r\u001b[K     |███████████████████████████████▏| 51 kB 7.9 MB/s eta 0:00:01\r\u001b[K     |████████████████████████████████| 52 kB 721 kB/s \n",
            "\u001b[?25hBuilding wheels for collected packages: afinn\n",
            "  Building wheel for afinn (setup.py) ... \u001b[?25l\u001b[?25hdone\n",
            "  Created wheel for afinn: filename=afinn-0.1-py3-none-any.whl size=53448 sha256=ea9398c10b9d1876baa4947442312b6d2e12d48fa2763f408d8dd15890af20e5\n",
            "  Stored in directory: /root/.cache/pip/wheels/9d/16/3a/9f0953027434eab5dadf3f33ab3298fa95afa8292fcf7aba75\n",
            "Successfully built afinn\n",
            "Installing collected packages: afinn\n",
            "Successfully installed afinn-0.1\n"
          ]
        }
      ],
      "source": [
        "!pip install afinn\n",
        "from afinn import Afinn"
      ]
    },
    {
      "cell_type": "code",
      "execution_count": null,
      "metadata": {
        "id": "z840GHhLi-Vv"
      },
      "outputs": [],
      "source": [
        "import numpy as np\n",
        "afinn = Afinn(language='en')\n",
        "\n",
        "def afinn_score(text):\n",
        "    try:\n",
        "        score = afinn.score(text)\n",
        "        return score\n",
        "    except:\n",
        "        return np.nan\n",
        "\n",
        "reviews['comments_afinn'] = reviews['english_comments'].apply(afinn_score)"
      ]
    },
    {
      "cell_type": "code",
      "source": [
        "print(reviews.shape)\n",
        "reviews.head()"
      ],
      "metadata": {
        "id": "vvtpV81tGcAR"
      },
      "execution_count": null,
      "outputs": []
    },
    {
      "cell_type": "code",
      "execution_count": null,
      "metadata": {
        "id": "_HAIsYEkv2vL"
      },
      "outputs": [],
      "source": [
        "reviews = reviews[reviews[\"comments_afinn\"].isnull()==False]\n",
        "print(reviews.shape)"
      ]
    },
    {
      "cell_type": "markdown",
      "source": [
        "#### 計算每間房間Afinn score的平均分數"
      ],
      "metadata": {
        "id": "Jl2lyIFYcVuN"
      }
    },
    {
      "cell_type": "code",
      "execution_count": null,
      "metadata": {
        "id": "LhKwmMpOc-0t"
      },
      "outputs": [],
      "source": [
        "afinn_list = reviews['comments_afinn'].tolist()\n",
        "room_list = reviews['listing_id'].tolist()\n",
        "\n",
        "score_dict = {}\n",
        "for i in range(len(room_list)):\n",
        "    if room_list[i] not in score_dict:\n",
        "        score_dict[room_list[i]] = [afinn_list[i]]\n",
        "    else:\n",
        "        score_dict[room_list[i]].append(afinn_list[i])\n",
        "\n",
        "print(len(score_dict))"
      ]
    },
    {
      "cell_type": "code",
      "execution_count": null,
      "metadata": {
        "id": "UMfOZ91OeOju"
      },
      "outputs": [],
      "source": [
        "# 幫每個房間算房間算 afinn 的平均\n",
        "for key, val in score_dict.items():\n",
        "    score_dict[key] = round(sum(val) / len(val), 2)"
      ]
    },
    {
      "cell_type": "code",
      "execution_count": null,
      "metadata": {
        "id": "YeyaJkHwgYfs"
      },
      "outputs": [],
      "source": [
        "print(score_dict)\n",
        "print(len(score_dict))"
      ]
    },
    {
      "cell_type": "code",
      "execution_count": null,
      "metadata": {
        "id": "HJ6R4tN9hcRr"
      },
      "outputs": [],
      "source": [
        "# 每一間房間的平均Afinn分數\n",
        "score_df = pd.DataFrame.from_dict(score_dict, orient='index').reset_index()\n",
        "score_df.columns = ['Listing_id', 'afinn_avg']\n",
        "score_df.head()"
      ]
    },
    {
      "cell_type": "markdown",
      "metadata": {
        "id": "bdyg9Tvp9mF9"
      },
      "source": [
        "#### Output"
      ]
    },
    {
      "cell_type": "code",
      "source": [
        "from google.colab import drive\n",
        "drive.mount('/content/drive')"
      ],
      "metadata": {
        "id": "camdsRaUdDzv"
      },
      "execution_count": null,
      "outputs": []
    },
    {
      "cell_type": "code",
      "source": [
        "score_df.to_csv('/content/drive/MyDrive/Colab Notebooks/統計學習與深度學習專案/文字處理/data_reviews.csv')"
      ],
      "metadata": {
        "id": "77mVhPJhfHtx"
      },
      "execution_count": null,
      "outputs": []
    },
    {
      "cell_type": "markdown",
      "source": [
        "### 3. 串 listings_summary 跟 description\n",
        "處理description text 的 code 再 Descriptions text 那份"
      ],
      "metadata": {
        "id": "Wk-vboXqfnSk"
      }
    },
    {
      "cell_type": "code",
      "source": [
        "!gdown --id \"1NadaQWvHuwmyqCN-9m-HTZJGKmu0RNtv\"  # description 的 afinn 分數和和 PCA 們 \n",
        "!gdown --id \"1mjCpzl8CmYWvlsOeaygwGFV_sEjf3cqv\"  # listings_summary_cleaned"
      ],
      "metadata": {
        "id": "QffhzR8Wf7ye"
      },
      "execution_count": null,
      "outputs": []
    },
    {
      "cell_type": "markdown",
      "source": [
        "#### Listings_summary_cleaned"
      ],
      "metadata": {
        "id": "K8EV0SkRkZIZ"
      }
    },
    {
      "cell_type": "code",
      "source": [
        "df = pd.read_csv('listings_summary_cleaned.csv')\n",
        "df.head()"
      ],
      "metadata": {
        "id": "rGqzfInikRR_"
      },
      "execution_count": null,
      "outputs": []
    },
    {
      "cell_type": "markdown",
      "source": [
        "#### Description 分數 + PCA"
      ],
      "metadata": {
        "id": "fb3_uJOJiypT"
      }
    },
    {
      "cell_type": "code",
      "source": [
        "pd.set_option('display.max_columns', None)\n",
        "description_score = pd.read_csv('data_des.csv')\n",
        "print(description_score.shape)\n",
        "description_score.head(1)"
      ],
      "metadata": {
        "id": "p035-_w4iiMO"
      },
      "execution_count": null,
      "outputs": []
    },
    {
      "cell_type": "code",
      "source": [
        "# 只保留需要的欄位\n",
        "use_cols = ['id', 'des_pc0',\t'des_pc1',\t'des_pc2',\t'des_pc3',\t'des_pc4',\t'des_pc5',\t'des_pc6',\t'des_pc7',\t'des_afinn_score']\n",
        "description_score = description_score[use_cols]\n",
        "print(description_score.shape)\n",
        "description_score.head()"
      ],
      "metadata": {
        "id": "lq_s21Vui2Ye"
      },
      "execution_count": null,
      "outputs": []
    },
    {
      "cell_type": "code",
      "source": [
        "# 串資料：listings_summary_cleaned + description\n",
        "df_description = df.merge(description_score, left_on='id', right_on='id', how='left', right_index=False)"
      ],
      "metadata": {
        "id": "2Ev2ihHxi9n6"
      },
      "execution_count": null,
      "outputs": []
    },
    {
      "cell_type": "code",
      "source": [
        "# 檢查description有幾筆值\n",
        "df_description.isna().sum()[df_description.isna().sum() > 0].to_frame(name=\"Num of NaN\")"
      ],
      "metadata": {
        "id": "OdZpwHJJyKds"
      },
      "execution_count": null,
      "outputs": []
    },
    {
      "cell_type": "markdown",
      "source": [
        "description 的 194 筆缺值統一補平均"
      ],
      "metadata": {
        "id": "V7ZUxKf8yQFo"
      }
    },
    {
      "cell_type": "code",
      "source": [
        "fill_cols = ['des_pc0', 'des_pc1', 'des_pc2', 'des_pc3', 'des_pc4', 'des_pc5', 'des_pc6', 'des_pc7', 'des_afinn_score']\n",
        "\n",
        "for col in fill_cols:\n",
        "    df_description[col].fillna(description_score[col].mean(), inplace=True)"
      ],
      "metadata": {
        "id": "064qvlZPyNAG"
      },
      "execution_count": null,
      "outputs": []
    },
    {
      "cell_type": "code",
      "source": [
        "df_description.isna().sum()[df_description.isna().sum() > 0].to_frame(name=\"Num of NaN\")  # 缺值都補上平均了"
      ],
      "metadata": {
        "id": "S8grQmg1ySxz"
      },
      "execution_count": null,
      "outputs": []
    },
    {
      "cell_type": "code",
      "source": [
        "print(df_description.shape)\n",
        "print(df.shape)\n",
        "df_description.head()  # 行數是正確的(多9行)"
      ],
      "metadata": {
        "id": "fOltm9O6ynt1"
      },
      "execution_count": null,
      "outputs": []
    },
    {
      "cell_type": "markdown",
      "source": [
        "#### reviews 的 Afinn 分數 (上面的的score_df)"
      ],
      "metadata": {
        "id": "yX35d87ezcUE"
      }
    },
    {
      "cell_type": "code",
      "source": [
        "score_df.head(3)"
      ],
      "metadata": {
        "id": "M9KB92SQzWQT"
      },
      "execution_count": null,
      "outputs": []
    },
    {
      "cell_type": "code",
      "source": [
        "# 串資料：df_description + score_df\n",
        "df_description_reviews = df_description.merge(score_df, left_on='id', right_on='Listing_id', how='left', right_index=False)\n",
        "df_description_reviews.drop('Listing_id', axis=1, inplace=True)"
      ],
      "metadata": {
        "id": "OCgTD7uDz_3U"
      },
      "execution_count": null,
      "outputs": []
    },
    {
      "cell_type": "code",
      "source": [
        "df_description_reviews.isna().sum()[df_description_reviews.isna().sum() > 0].to_frame(name=\"Num of NaN\")"
      ],
      "metadata": {
        "id": "109uJHj-0Rzu"
      },
      "execution_count": null,
      "outputs": []
    },
    {
      "cell_type": "markdown",
      "source": [
        "reviews 的 3861 筆缺值統一補平均"
      ],
      "metadata": {
        "id": "2iDmXgQu0vb2"
      }
    },
    {
      "cell_type": "code",
      "source": [
        "df_description_reviews['afinn_avg'].fillna(score_df['afinn_avg'].mean(), inplace=True)"
      ],
      "metadata": {
        "id": "9Tak4od10pk5"
      },
      "execution_count": null,
      "outputs": []
    },
    {
      "cell_type": "code",
      "source": [
        "df_description_reviews.isna().sum()[df_description_reviews.isna().sum() > 0].to_frame(name=\"Num of NaN\")  # 缺值都補上平均了"
      ],
      "metadata": {
        "id": "7H-9aEYA00Fd"
      },
      "execution_count": null,
      "outputs": []
    },
    {
      "cell_type": "code",
      "source": [
        "print(df.shape)\n",
        "print(df_description.shape)\n",
        "print(df_description_reviews.shape)\n",
        "\n",
        "df_description_reviews.head()  # 行數是正確的"
      ],
      "metadata": {
        "id": "KndgJmiV1PES"
      },
      "execution_count": null,
      "outputs": []
    },
    {
      "cell_type": "markdown",
      "source": [
        "Output"
      ],
      "metadata": {
        "id": "zkneGzA-1YzH"
      }
    },
    {
      "cell_type": "code",
      "source": [
        "df_description_reviews.to_csv('/content/drive/MyDrive/Colab Notebooks/統計學習與深度學習專案/文字處理/listings_summary_cleaned_text.csv')"
      ],
      "metadata": {
        "id": "Tc1i-MtJ1S4X"
      },
      "execution_count": null,
      "outputs": []
    }
  ],
  "metadata": {
    "colab": {
      "collapsed_sections": [],
      "name": "Reviews_text.ipynb",
      "provenance": []
    },
    "kernelspec": {
      "display_name": "Python 3",
      "name": "python3"
    },
    "language_info": {
      "name": "python"
    }
  },
  "nbformat": 4,
  "nbformat_minor": 0
}