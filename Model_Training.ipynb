{
  "cells": [
    {
      "cell_type": "code",
      "execution_count": null,
      "metadata": {
        "colab": {
          "base_uri": "https://localhost:8080/"
        },
        "id": "V8f8yWIFQfwN",
        "outputId": "827a1232-99d6-4d9c-98d1-0a0f726de107"
      },
      "outputs": [
        {
          "output_type": "stream",
          "name": "stdout",
          "text": [
            "Downloading...\n",
            "From: https://drive.google.com/uc?id=1UMIqoa1bykZ0KDjIvloM9jAwdiUgFLGv\n",
            "To: /content/listings_summary_cleaned.csv\n",
            "100% 14.2M/14.2M [00:00<00:00, 86.4MB/s]\n",
            "Downloading...\n",
            "From: https://drive.google.com/uc?id=1RtujuvdSXTIVFpQLz7aTxvXYSByYQlb-\n",
            "To: /content/listings_summary_des.csv\n",
            "100% 32.5M/32.5M [00:00<00:00, 89.3MB/s]\n",
            "Downloading...\n",
            "From: https://drive.google.com/uc?id=1AvBbKfUV6nHoABVzBLmUStGcn-UV42zr\n",
            "To: /content/listings_summary_cleaned_text.csv\n",
            "100% 17.5M/17.5M [00:00<00:00, 154MB/s]\n"
          ]
        }
      ],
      "source": [
        "# listings_summary_cleaned\n",
        "# https://drive.google.com/file/d/1UMIqoa1bykZ0KDjIvloM9jAwdiUgFLGv/view?usp=sharing\n",
        "!gdown --id \"1UMIqoa1bykZ0KDjIvloM9jAwdiUgFLGv\"\n",
        "\n",
        "# https://drive.google.com/file/d/1RtujuvdSXTIVFpQLz7aTxvXYSByYQlb-/view?usp=sharing\n",
        "!gdown --id '1RtujuvdSXTIVFpQLz7aTxvXYSByYQlb-'  # 加Description分數\n",
        "\n",
        "# https://drive.google.com/file/d/1AvBbKfUV6nHoABVzBLmUStGcn-UV42zr/view?usp=sharing\n",
        "!gdown --id '1AvBbKfUV6nHoABVzBLmUStGcn-UV42zr'  # 加Description & Review分數"
      ]
    },
    {
      "cell_type": "code",
      "execution_count": null,
      "metadata": {
        "id": "Urs7MpWTRDuL"
      },
      "outputs": [],
      "source": [
        "from sklearn.model_selection import train_test_split\n",
        "import numpy as np\n",
        "import pandas as pd\n",
        "import seaborn as sns\n",
        "import datetime\n",
        "import warnings\n",
        "pd.set_option('display.max_columns', 500)\n",
        "pd.set_option('display.max_rows', 200)\n",
        "warnings.filterwarnings('ignore')"
      ]
    },
    {
      "cell_type": "code",
      "execution_count": null,
      "metadata": {
        "colab": {
          "base_uri": "https://localhost:8080/",
          "height": 180
        },
        "id": "mJfzCbfCQtAB",
        "outputId": "617eedbb-93cb-4109-b083-893b2c631fef"
      },
      "outputs": [
        {
          "output_type": "stream",
          "name": "stdout",
          "text": [
            "(21936, 259)\n"
          ]
        },
        {
          "output_type": "execute_result",
          "data": {
            "text/html": [
              "\n",
              "  <div id=\"df-8049f502-9f98-4a04-b364-7a1fabb61146\">\n",
              "    <div class=\"colab-df-container\">\n",
              "      <div>\n",
              "<style scoped>\n",
              "    .dataframe tbody tr th:only-of-type {\n",
              "        vertical-align: middle;\n",
              "    }\n",
              "\n",
              "    .dataframe tbody tr th {\n",
              "        vertical-align: top;\n",
              "    }\n",
              "\n",
              "    .dataframe thead th {\n",
              "        text-align: right;\n",
              "    }\n",
              "</style>\n",
              "<table border=\"1\" class=\"dataframe\">\n",
              "  <thead>\n",
              "    <tr style=\"text-align: right;\">\n",
              "      <th></th>\n",
              "      <th>host_since</th>\n",
              "      <th>host_response_rate</th>\n",
              "      <th>host_is_superhost</th>\n",
              "      <th>host_listings_count</th>\n",
              "      <th>host_total_listings_count</th>\n",
              "      <th>host_has_profile_pic</th>\n",
              "      <th>host_identity_verified</th>\n",
              "      <th>latitude</th>\n",
              "      <th>longitude</th>\n",
              "      <th>is_location_exact</th>\n",
              "      <th>accommodates</th>\n",
              "      <th>bathrooms</th>\n",
              "      <th>bedrooms</th>\n",
              "      <th>beds</th>\n",
              "      <th>price</th>\n",
              "      <th>security_deposit</th>\n",
              "      <th>cleaning_fee</th>\n",
              "      <th>guests_included</th>\n",
              "      <th>extra_people</th>\n",
              "      <th>minimum_nights</th>\n",
              "      <th>maximum_nights</th>\n",
              "      <th>calendar_updated</th>\n",
              "      <th>has_availability</th>\n",
              "      <th>availability_30</th>\n",
              "      <th>availability_60</th>\n",
              "      <th>availability_90</th>\n",
              "      <th>availability_365</th>\n",
              "      <th>number_of_reviews</th>\n",
              "      <th>review_scores_rating</th>\n",
              "      <th>review_scores_accuracy</th>\n",
              "      <th>review_scores_cleanliness</th>\n",
              "      <th>review_scores_checkin</th>\n",
              "      <th>review_scores_communication</th>\n",
              "      <th>review_scores_location</th>\n",
              "      <th>review_scores_value</th>\n",
              "      <th>requires_license</th>\n",
              "      <th>instant_bookable</th>\n",
              "      <th>is_business_travel_ready</th>\n",
              "      <th>require_guest_profile_picture</th>\n",
              "      <th>require_guest_phone_verification</th>\n",
              "      <th>calculated_host_listings_count</th>\n",
              "      <th>reviews_per_month</th>\n",
              "      <th>neighbourhood_Charlottenburg</th>\n",
              "      <th>neighbourhood_Friedrichshain</th>\n",
              "      <th>neighbourhood_Kreuzberg</th>\n",
              "      <th>neighbourhood_Mitte</th>\n",
              "      <th>neighbourhood_Moabit</th>\n",
              "      <th>neighbourhood_Neukölln</th>\n",
              "      <th>neighbourhood_Pankow</th>\n",
              "      <th>neighbourhood_Prenzlauer Berg</th>\n",
              "      <th>neighbourhood_Rummelsburg</th>\n",
              "      <th>neighbourhood_Schöneberg</th>\n",
              "      <th>neighbourhood_Tempelhof</th>\n",
              "      <th>neighbourhood_Wedding</th>\n",
              "      <th>neighbourhood_Wilmersdorf</th>\n",
              "      <th>neighbourhood_nan</th>\n",
              "      <th>host_response_time_a few days or more</th>\n",
              "      <th>host_response_time_within a day</th>\n",
              "      <th>host_response_time_within a few hours</th>\n",
              "      <th>host_response_time_within an hour</th>\n",
              "      <th>host_neighbourhood_Charlottenburg</th>\n",
              "      <th>host_neighbourhood_Friedrichshain</th>\n",
              "      <th>host_neighbourhood_Kreuzberg</th>\n",
              "      <th>host_neighbourhood_Mitte</th>\n",
              "      <th>host_neighbourhood_Moabit</th>\n",
              "      <th>host_neighbourhood_Neukölln</th>\n",
              "      <th>host_neighbourhood_Pankow</th>\n",
              "      <th>host_neighbourhood_Prenzlauer Berg</th>\n",
              "      <th>host_neighbourhood_Schöneberg</th>\n",
              "      <th>host_neighbourhood_Tempelhof</th>\n",
              "      <th>host_neighbourhood_Wedding</th>\n",
              "      <th>host_neighbourhood_Wilmersdorf</th>\n",
              "      <th>neighbourhood_cleansed_Alexanderplatz</th>\n",
              "      <th>neighbourhood_cleansed_Brunnenstr. Nord</th>\n",
              "      <th>neighbourhood_cleansed_Brunnenstr. Süd</th>\n",
              "      <th>neighbourhood_cleansed_Frankfurter Allee Nord</th>\n",
              "      <th>neighbourhood_cleansed_Frankfurter Allee Süd FK</th>\n",
              "      <th>neighbourhood_cleansed_Helmholtzplatz</th>\n",
              "      <th>neighbourhood_cleansed_Karl-Marx-Allee-Nord</th>\n",
              "      <th>neighbourhood_cleansed_Karl-Marx-Allee-Süd</th>\n",
              "      <th>neighbourhood_cleansed_Moabit Ost</th>\n",
              "      <th>neighbourhood_cleansed_Moabit West</th>\n",
              "      <th>neighbourhood_cleansed_Neu Lichtenberg</th>\n",
              "      <th>neighbourhood_cleansed_Neuköllner Mitte/Zentrum</th>\n",
              "      <th>neighbourhood_cleansed_Osloer Straße</th>\n",
              "      <th>neighbourhood_cleansed_Parkviertel</th>\n",
              "      <th>neighbourhood_cleansed_Prenzlauer Berg Nord</th>\n",
              "      <th>neighbourhood_cleansed_Prenzlauer Berg Nordwest</th>\n",
              "      <th>neighbourhood_cleansed_Prenzlauer Berg Ost</th>\n",
              "      <th>neighbourhood_cleansed_Prenzlauer Berg Süd</th>\n",
              "      <th>neighbourhood_cleansed_Prenzlauer Berg Südwest</th>\n",
              "      <th>neighbourhood_cleansed_Reuterstraße</th>\n",
              "      <th>neighbourhood_cleansed_Rixdorf</th>\n",
              "      <th>neighbourhood_cleansed_Schillerpromenade</th>\n",
              "      <th>neighbourhood_cleansed_Schöneberg-Nord</th>\n",
              "      <th>neighbourhood_cleansed_Schöneberg-Süd</th>\n",
              "      <th>neighbourhood_cleansed_Südliche Friedrichstadt</th>\n",
              "      <th>neighbourhood_cleansed_Tempelhof</th>\n",
              "      <th>neighbourhood_cleansed_Tempelhofer Vorstadt</th>\n",
              "      <th>neighbourhood_cleansed_Wedding Zentrum</th>\n",
              "      <th>neighbourhood_cleansed_nördliche Luisenstadt</th>\n",
              "      <th>neighbourhood_cleansed_südliche Luisenstadt</th>\n",
              "      <th>property_type_Apartment</th>\n",
              "      <th>property_type_Condominium</th>\n",
              "      <th>property_type_House</th>\n",
              "      <th>property_type_Loft</th>\n",
              "      <th>bed_type_Futon</th>\n",
              "      <th>bed_type_Pull-out Sofa</th>\n",
              "      <th>bed_type_Real Bed</th>\n",
              "      <th>neighbourhood_group_cleansed_Friedrichshain-Kreuzberg</th>\n",
              "      <th>neighbourhood_group_cleansed_Lichtenberg</th>\n",
              "      <th>neighbourhood_group_cleansed_Mitte</th>\n",
              "      <th>neighbourhood_group_cleansed_Neukölln</th>\n",
              "      <th>neighbourhood_group_cleansed_Pankow</th>\n",
              "      <th>neighbourhood_group_cleansed_Reinickendorf</th>\n",
              "      <th>neighbourhood_group_cleansed_Steglitz - Zehlendorf</th>\n",
              "      <th>neighbourhood_group_cleansed_Tempelhof - Schöneberg</th>\n",
              "      <th>neighbourhood_group_cleansed_Treptow - Köpenick</th>\n",
              "      <th>room_type_Private room</th>\n",
              "      <th>room_type_Shared room</th>\n",
              "      <th>cancellation_policy_moderate</th>\n",
              "      <th>cancellation_policy_strict_14_with_grace_period</th>\n",
              "      <th>zipcode_1011</th>\n",
              "      <th>zipcode_1017</th>\n",
              "      <th>zipcode_1024</th>\n",
              "      <th>zipcode_1031</th>\n",
              "      <th>zipcode_1040</th>\n",
              "      <th>zipcode_1043</th>\n",
              "      <th>zipcode_1055</th>\n",
              "      <th>zipcode_1058</th>\n",
              "      <th>zipcode_1062</th>\n",
              "      <th>zipcode_1071</th>\n",
              "      <th>zipcode_1077</th>\n",
              "      <th>zipcode_1078</th>\n",
              "      <th>zipcode_1082</th>\n",
              "      <th>zipcode_1096</th>\n",
              "      <th>zipcode_1099</th>\n",
              "      <th>zipcode_1204</th>\n",
              "      <th>zipcode_1205</th>\n",
              "      <th>zipcode_1243</th>\n",
              "      <th>zipcode_1318</th>\n",
              "      <th>zipcode_1334</th>\n",
              "      <th>zipcode_1335</th>\n",
              "      <th>zipcode_1405</th>\n",
              "      <th>zipcode_nan</th>\n",
              "      <th>host_verifications_email</th>\n",
              "      <th>host_verifications_facebook</th>\n",
              "      <th>host_verifications_google</th>\n",
              "      <th>host_verifications_government_id</th>\n",
              "      <th>host_verifications_identity_manual</th>\n",
              "      <th>host_verifications_jumio</th>\n",
              "      <th>host_verifications_kba</th>\n",
              "      <th>host_verifications_manual_offline</th>\n",
              "      <th>host_verifications_manual_online</th>\n",
              "      <th>host_verifications_offline_government_id</th>\n",
              "      <th>host_verifications_phone</th>\n",
              "      <th>host_verifications_reviews</th>\n",
              "      <th>host_verifications_selfie</th>\n",
              "      <th>host_verifications_work_email</th>\n",
              "      <th>host_verifications_way_num</th>\n",
              "      <th>amenities_24-hourcheck-in</th>\n",
              "      <th>amenities_Accessible-heightbed</th>\n",
              "      <th>amenities_Airconditioning</th>\n",
              "      <th>amenities_BBQgrill</th>\n",
              "      <th>amenities_Babybath</th>\n",
              "      <th>amenities_Bathtub</th>\n",
              "      <th>amenities_Bedlinens</th>\n",
              "      <th>amenities_Breakfast</th>\n",
              "      <th>amenities_Buildingstaff</th>\n",
              "      <th>amenities_Buzzer/wirelessintercom</th>\n",
              "      <th>amenities_CableTV</th>\n",
              "      <th>amenities_Carbonmonoxidedetector</th>\n",
              "      <th>amenities_Cat(s)</th>\n",
              "      <th>amenities_Changingtable</th>\n",
              "      <th>amenities_Children’sbooksandtoys</th>\n",
              "      <th>amenities_Children’sdinnerware</th>\n",
              "      <th>amenities_Cleaningbeforecheckout</th>\n",
              "      <th>amenities_Coffeemaker</th>\n",
              "      <th>amenities_Cookingbasics</th>\n",
              "      <th>amenities_Crib</th>\n",
              "      <th>amenities_Dishesandsilverware</th>\n",
              "      <th>amenities_Dishwasher</th>\n",
              "      <th>amenities_Dog(s)</th>\n",
              "      <th>amenities_Dryer</th>\n",
              "      <th>amenities_Elevator</th>\n",
              "      <th>amenities_Essentials</th>\n",
              "      <th>amenities_Ethernetconnection</th>\n",
              "      <th>amenities_Extrapillowsandblankets</th>\n",
              "      <th>amenities_Family/kidfriendly</th>\n",
              "      <th>amenities_Fireextinguisher</th>\n",
              "      <th>amenities_Firstaidkit</th>\n",
              "      <th>amenities_Flatpathtofrontdoor</th>\n",
              "      <th>amenities_Freeparkingonpremises</th>\n",
              "      <th>amenities_Freestreetparking</th>\n",
              "      <th>amenities_Gameconsole</th>\n",
              "      <th>amenities_Gardenorbackyard</th>\n",
              "      <th>amenities_Hairdryer</th>\n",
              "      <th>amenities_Handheldshowerhead</th>\n",
              "      <th>amenities_Hangers</th>\n",
              "      <th>amenities_Heating</th>\n",
              "      <th>amenities_Highchair</th>\n",
              "      <th>amenities_Hostgreetsyou</th>\n",
              "      <th>amenities_Hottub</th>\n",
              "      <th>amenities_Hotwater</th>\n",
              "      <th>amenities_Indoorfireplace</th>\n",
              "      <th>amenities_Internet</th>\n",
              "      <th>amenities_Iron</th>\n",
              "      <th>amenities_Kitchen</th>\n",
              "      <th>amenities_Laptopfriendlyworkspace</th>\n",
              "      <th>amenities_Lockbox</th>\n",
              "      <th>amenities_Lockonbedroomdoor</th>\n",
              "      <th>amenities_Longtermstaysallowed</th>\n",
              "      <th>amenities_Luggagedropoffallowed</th>\n",
              "      <th>amenities_Microwave</th>\n",
              "      <th>amenities_Other</th>\n",
              "      <th>amenities_Outletcovers</th>\n",
              "      <th>amenities_Oven</th>\n",
              "      <th>amenities_Pack’nPlay/travelcrib</th>\n",
              "      <th>amenities_Paidparkingoffpremises</th>\n",
              "      <th>amenities_Paidparkingonpremises</th>\n",
              "      <th>amenities_Patioorbalcony</th>\n",
              "      <th>amenities_Petsallowed</th>\n",
              "      <th>amenities_Petsliveonthisproperty</th>\n",
              "      <th>amenities_Privateentrance</th>\n",
              "      <th>amenities_Privatelivingroom</th>\n",
              "      <th>amenities_Refrigerator</th>\n",
              "      <th>amenities_Room-darkeningshades</th>\n",
              "      <th>amenities_Safetycard</th>\n",
              "      <th>amenities_Selfcheck-in</th>\n",
              "      <th>amenities_Shampoo</th>\n",
              "      <th>amenities_Singlelevelhome</th>\n",
              "      <th>amenities_Smokedetector</th>\n",
              "      <th>amenities_Smokingallowed</th>\n",
              "      <th>amenities_Step-freeaccess</th>\n",
              "      <th>amenities_Stove</th>\n",
              "      <th>amenities_Suitableforevents</th>\n",
              "      <th>amenities_TV</th>\n",
              "      <th>amenities_Washer</th>\n",
              "      <th>amenities_Well-litpathtoentrance</th>\n",
              "      <th>amenities_Wheelchairaccessible</th>\n",
              "      <th>amenities_Wideclearancetobed</th>\n",
              "      <th>amenities_Widedoorway</th>\n",
              "      <th>amenities_Wideentryway</th>\n",
              "      <th>amenities_Widehallwayclearance</th>\n",
              "      <th>amenities_Wifi</th>\n",
              "      <th>amenities_Windowguards</th>\n",
              "      <th>amenities_translationmissing:en.hosting_amenity_49</th>\n",
              "      <th>amenities_translationmissing:en.hosting_amenity_50</th>\n",
              "      <th>amenities_way_num</th>\n",
              "      <th>des_pc0</th>\n",
              "      <th>des_pc1</th>\n",
              "      <th>des_pc2</th>\n",
              "      <th>des_pc3</th>\n",
              "      <th>des_pc4</th>\n",
              "      <th>des_pc5</th>\n",
              "      <th>des_pc6</th>\n",
              "      <th>des_pc7</th>\n",
              "      <th>des_afinn_score</th>\n",
              "      <th>reviews_afinn_score</th>\n",
              "    </tr>\n",
              "  </thead>\n",
              "  <tbody>\n",
              "    <tr>\n",
              "      <th>0</th>\n",
              "      <td>3733.0</td>\n",
              "      <td>0.96</td>\n",
              "      <td>1</td>\n",
              "      <td>4.0</td>\n",
              "      <td>4.0</td>\n",
              "      <td>1</td>\n",
              "      <td>1</td>\n",
              "      <td>52.534537</td>\n",
              "      <td>13.402557</td>\n",
              "      <td>0</td>\n",
              "      <td>3</td>\n",
              "      <td>1.0</td>\n",
              "      <td>1.0</td>\n",
              "      <td>2.0</td>\n",
              "      <td>60.0</td>\n",
              "      <td>200.0</td>\n",
              "      <td>30.0</td>\n",
              "      <td>1</td>\n",
              "      <td>28.0</td>\n",
              "      <td>4</td>\n",
              "      <td>1125</td>\n",
              "      <td>90</td>\n",
              "      <td>1</td>\n",
              "      <td>0</td>\n",
              "      <td>21</td>\n",
              "      <td>51</td>\n",
              "      <td>141</td>\n",
              "      <td>118</td>\n",
              "      <td>93.0</td>\n",
              "      <td>10.0</td>\n",
              "      <td>9.0</td>\n",
              "      <td>10.0</td>\n",
              "      <td>10.0</td>\n",
              "      <td>10.0</td>\n",
              "      <td>9.0</td>\n",
              "      <td>1</td>\n",
              "      <td>0</td>\n",
              "      <td>0</td>\n",
              "      <td>0</td>\n",
              "      <td>0</td>\n",
              "      <td>4</td>\n",
              "      <td>3.76</td>\n",
              "      <td>0</td>\n",
              "      <td>0</td>\n",
              "      <td>0</td>\n",
              "      <td>1</td>\n",
              "      <td>0</td>\n",
              "      <td>0</td>\n",
              "      <td>0</td>\n",
              "      <td>0</td>\n",
              "      <td>0</td>\n",
              "      <td>0</td>\n",
              "      <td>0</td>\n",
              "      <td>0</td>\n",
              "      <td>0</td>\n",
              "      <td>0</td>\n",
              "      <td>0</td>\n",
              "      <td>0</td>\n",
              "      <td>0</td>\n",
              "      <td>1</td>\n",
              "      <td>0</td>\n",
              "      <td>0</td>\n",
              "      <td>0</td>\n",
              "      <td>1</td>\n",
              "      <td>0</td>\n",
              "      <td>0</td>\n",
              "      <td>0</td>\n",
              "      <td>0</td>\n",
              "      <td>0</td>\n",
              "      <td>0</td>\n",
              "      <td>0</td>\n",
              "      <td>0</td>\n",
              "      <td>0</td>\n",
              "      <td>0</td>\n",
              "      <td>1</td>\n",
              "      <td>0</td>\n",
              "      <td>0</td>\n",
              "      <td>0</td>\n",
              "      <td>0</td>\n",
              "      <td>0</td>\n",
              "      <td>0</td>\n",
              "      <td>0</td>\n",
              "      <td>0</td>\n",
              "      <td>0</td>\n",
              "      <td>0</td>\n",
              "      <td>0</td>\n",
              "      <td>0</td>\n",
              "      <td>0</td>\n",
              "      <td>0</td>\n",
              "      <td>0</td>\n",
              "      <td>0</td>\n",
              "      <td>0</td>\n",
              "      <td>0</td>\n",
              "      <td>0</td>\n",
              "      <td>0</td>\n",
              "      <td>0</td>\n",
              "      <td>0</td>\n",
              "      <td>0</td>\n",
              "      <td>0</td>\n",
              "      <td>0</td>\n",
              "      <td>0</td>\n",
              "      <td>0</td>\n",
              "      <td>0</td>\n",
              "      <td>0</td>\n",
              "      <td>0</td>\n",
              "      <td>0</td>\n",
              "      <td>0</td>\n",
              "      <td>0</td>\n",
              "      <td>1</td>\n",
              "      <td>0</td>\n",
              "      <td>0</td>\n",
              "      <td>1</td>\n",
              "      <td>0</td>\n",
              "      <td>0</td>\n",
              "      <td>0</td>\n",
              "      <td>0</td>\n",
              "      <td>0</td>\n",
              "      <td>0</td>\n",
              "      <td>0</td>\n",
              "      <td>0</td>\n",
              "      <td>0</td>\n",
              "      <td>1</td>\n",
              "      <td>1</td>\n",
              "      <td>0</td>\n",
              "      <td>0</td>\n",
              "      <td>0</td>\n",
              "      <td>0</td>\n",
              "      <td>0</td>\n",
              "      <td>0</td>\n",
              "      <td>0</td>\n",
              "      <td>0</td>\n",
              "      <td>0</td>\n",
              "      <td>0</td>\n",
              "      <td>0</td>\n",
              "      <td>0</td>\n",
              "      <td>0</td>\n",
              "      <td>0</td>\n",
              "      <td>0</td>\n",
              "      <td>0</td>\n",
              "      <td>0</td>\n",
              "      <td>0</td>\n",
              "      <td>0</td>\n",
              "      <td>0</td>\n",
              "      <td>0</td>\n",
              "      <td>0</td>\n",
              "      <td>1</td>\n",
              "      <td>0</td>\n",
              "      <td>0</td>\n",
              "      <td>1</td>\n",
              "      <td>0</td>\n",
              "      <td>1</td>\n",
              "      <td>0</td>\n",
              "      <td>0</td>\n",
              "      <td>0</td>\n",
              "      <td>1</td>\n",
              "      <td>1</td>\n",
              "      <td>1</td>\n",
              "      <td>0</td>\n",
              "      <td>0</td>\n",
              "      <td>6</td>\n",
              "      <td>0</td>\n",
              "      <td>0</td>\n",
              "      <td>0</td>\n",
              "      <td>0</td>\n",
              "      <td>0</td>\n",
              "      <td>1</td>\n",
              "      <td>1</td>\n",
              "      <td>0</td>\n",
              "      <td>0</td>\n",
              "      <td>0</td>\n",
              "      <td>1</td>\n",
              "      <td>0</td>\n",
              "      <td>0</td>\n",
              "      <td>0</td>\n",
              "      <td>0</td>\n",
              "      <td>0</td>\n",
              "      <td>0</td>\n",
              "      <td>1</td>\n",
              "      <td>1</td>\n",
              "      <td>0</td>\n",
              "      <td>1</td>\n",
              "      <td>1</td>\n",
              "      <td>0</td>\n",
              "      <td>0</td>\n",
              "      <td>0</td>\n",
              "      <td>1</td>\n",
              "      <td>0</td>\n",
              "      <td>1</td>\n",
              "      <td>1</td>\n",
              "      <td>0</td>\n",
              "      <td>0</td>\n",
              "      <td>0</td>\n",
              "      <td>0</td>\n",
              "      <td>0</td>\n",
              "      <td>0</td>\n",
              "      <td>0</td>\n",
              "      <td>1</td>\n",
              "      <td>0</td>\n",
              "      <td>1</td>\n",
              "      <td>1</td>\n",
              "      <td>0</td>\n",
              "      <td>0</td>\n",
              "      <td>0</td>\n",
              "      <td>1</td>\n",
              "      <td>0</td>\n",
              "      <td>0</td>\n",
              "      <td>1</td>\n",
              "      <td>1</td>\n",
              "      <td>1</td>\n",
              "      <td>0</td>\n",
              "      <td>1</td>\n",
              "      <td>1</td>\n",
              "      <td>1</td>\n",
              "      <td>1</td>\n",
              "      <td>0</td>\n",
              "      <td>0</td>\n",
              "      <td>0</td>\n",
              "      <td>0</td>\n",
              "      <td>0</td>\n",
              "      <td>0</td>\n",
              "      <td>0</td>\n",
              "      <td>0</td>\n",
              "      <td>0</td>\n",
              "      <td>0</td>\n",
              "      <td>1</td>\n",
              "      <td>1</td>\n",
              "      <td>0</td>\n",
              "      <td>0</td>\n",
              "      <td>0</td>\n",
              "      <td>1</td>\n",
              "      <td>0</td>\n",
              "      <td>1</td>\n",
              "      <td>0</td>\n",
              "      <td>0</td>\n",
              "      <td>1</td>\n",
              "      <td>0</td>\n",
              "      <td>1</td>\n",
              "      <td>0</td>\n",
              "      <td>0</td>\n",
              "      <td>0</td>\n",
              "      <td>0</td>\n",
              "      <td>0</td>\n",
              "      <td>0</td>\n",
              "      <td>0</td>\n",
              "      <td>1</td>\n",
              "      <td>0</td>\n",
              "      <td>0</td>\n",
              "      <td>0</td>\n",
              "      <td>29</td>\n",
              "      <td>0.444661</td>\n",
              "      <td>-1.091391</td>\n",
              "      <td>0.143014</td>\n",
              "      <td>0.161453</td>\n",
              "      <td>0.12506</td>\n",
              "      <td>-0.009617</td>\n",
              "      <td>0.129991</td>\n",
              "      <td>0.912585</td>\n",
              "      <td>11.0</td>\n",
              "      <td>8.82</td>\n",
              "    </tr>\n",
              "  </tbody>\n",
              "</table>\n",
              "</div>\n",
              "      <button class=\"colab-df-convert\" onclick=\"convertToInteractive('df-8049f502-9f98-4a04-b364-7a1fabb61146')\"\n",
              "              title=\"Convert this dataframe to an interactive table.\"\n",
              "              style=\"display:none;\">\n",
              "        \n",
              "  <svg xmlns=\"http://www.w3.org/2000/svg\" height=\"24px\"viewBox=\"0 0 24 24\"\n",
              "       width=\"24px\">\n",
              "    <path d=\"M0 0h24v24H0V0z\" fill=\"none\"/>\n",
              "    <path d=\"M18.56 5.44l.94 2.06.94-2.06 2.06-.94-2.06-.94-.94-2.06-.94 2.06-2.06.94zm-11 1L8.5 8.5l.94-2.06 2.06-.94-2.06-.94L8.5 2.5l-.94 2.06-2.06.94zm10 10l.94 2.06.94-2.06 2.06-.94-2.06-.94-.94-2.06-.94 2.06-2.06.94z\"/><path d=\"M17.41 7.96l-1.37-1.37c-.4-.4-.92-.59-1.43-.59-.52 0-1.04.2-1.43.59L10.3 9.45l-7.72 7.72c-.78.78-.78 2.05 0 2.83L4 21.41c.39.39.9.59 1.41.59.51 0 1.02-.2 1.41-.59l7.78-7.78 2.81-2.81c.8-.78.8-2.07 0-2.86zM5.41 20L4 18.59l7.72-7.72 1.47 1.35L5.41 20z\"/>\n",
              "  </svg>\n",
              "      </button>\n",
              "      \n",
              "  <style>\n",
              "    .colab-df-container {\n",
              "      display:flex;\n",
              "      flex-wrap:wrap;\n",
              "      gap: 12px;\n",
              "    }\n",
              "\n",
              "    .colab-df-convert {\n",
              "      background-color: #E8F0FE;\n",
              "      border: none;\n",
              "      border-radius: 50%;\n",
              "      cursor: pointer;\n",
              "      display: none;\n",
              "      fill: #1967D2;\n",
              "      height: 32px;\n",
              "      padding: 0 0 0 0;\n",
              "      width: 32px;\n",
              "    }\n",
              "\n",
              "    .colab-df-convert:hover {\n",
              "      background-color: #E2EBFA;\n",
              "      box-shadow: 0px 1px 2px rgba(60, 64, 67, 0.3), 0px 1px 3px 1px rgba(60, 64, 67, 0.15);\n",
              "      fill: #174EA6;\n",
              "    }\n",
              "\n",
              "    [theme=dark] .colab-df-convert {\n",
              "      background-color: #3B4455;\n",
              "      fill: #D2E3FC;\n",
              "    }\n",
              "\n",
              "    [theme=dark] .colab-df-convert:hover {\n",
              "      background-color: #434B5C;\n",
              "      box-shadow: 0px 1px 3px 1px rgba(0, 0, 0, 0.15);\n",
              "      filter: drop-shadow(0px 1px 2px rgba(0, 0, 0, 0.3));\n",
              "      fill: #FFFFFF;\n",
              "    }\n",
              "  </style>\n",
              "\n",
              "      <script>\n",
              "        const buttonEl =\n",
              "          document.querySelector('#df-8049f502-9f98-4a04-b364-7a1fabb61146 button.colab-df-convert');\n",
              "        buttonEl.style.display =\n",
              "          google.colab.kernel.accessAllowed ? 'block' : 'none';\n",
              "\n",
              "        async function convertToInteractive(key) {\n",
              "          const element = document.querySelector('#df-8049f502-9f98-4a04-b364-7a1fabb61146');\n",
              "          const dataTable =\n",
              "            await google.colab.kernel.invokeFunction('convertToInteractive',\n",
              "                                                     [key], {});\n",
              "          if (!dataTable) return;\n",
              "\n",
              "          const docLinkHtml = 'Like what you see? Visit the ' +\n",
              "            '<a target=\"_blank\" href=https://colab.research.google.com/notebooks/data_table.ipynb>data table notebook</a>'\n",
              "            + ' to learn more about interactive tables.';\n",
              "          element.innerHTML = '';\n",
              "          dataTable['output_type'] = 'display_data';\n",
              "          await google.colab.output.renderOutput(dataTable, element);\n",
              "          const docLink = document.createElement('div');\n",
              "          docLink.innerHTML = docLinkHtml;\n",
              "          element.appendChild(docLink);\n",
              "        }\n",
              "      </script>\n",
              "    </div>\n",
              "  </div>\n",
              "  "
            ],
            "text/plain": [
              "   host_since  host_response_rate  host_is_superhost  host_listings_count  \\\n",
              "0      3733.0                0.96                  1                  4.0   \n",
              "\n",
              "   host_total_listings_count  host_has_profile_pic  host_identity_verified  \\\n",
              "0                        4.0                     1                       1   \n",
              "\n",
              "    latitude  longitude  is_location_exact  accommodates  bathrooms  bedrooms  \\\n",
              "0  52.534537  13.402557                  0             3        1.0       1.0   \n",
              "\n",
              "   beds  price  security_deposit  cleaning_fee  guests_included  extra_people  \\\n",
              "0   2.0   60.0             200.0          30.0                1          28.0   \n",
              "\n",
              "   minimum_nights  maximum_nights  calendar_updated  has_availability  \\\n",
              "0               4            1125                90                 1   \n",
              "\n",
              "   availability_30  availability_60  availability_90  availability_365  \\\n",
              "0                0               21               51               141   \n",
              "\n",
              "   number_of_reviews  review_scores_rating  review_scores_accuracy  \\\n",
              "0                118                  93.0                    10.0   \n",
              "\n",
              "   review_scores_cleanliness  review_scores_checkin  \\\n",
              "0                        9.0                   10.0   \n",
              "\n",
              "   review_scores_communication  review_scores_location  review_scores_value  \\\n",
              "0                         10.0                    10.0                  9.0   \n",
              "\n",
              "   requires_license  instant_bookable  is_business_travel_ready  \\\n",
              "0                 1                 0                         0   \n",
              "\n",
              "   require_guest_profile_picture  require_guest_phone_verification  \\\n",
              "0                              0                                 0   \n",
              "\n",
              "   calculated_host_listings_count  reviews_per_month  \\\n",
              "0                               4               3.76   \n",
              "\n",
              "   neighbourhood_Charlottenburg  neighbourhood_Friedrichshain  \\\n",
              "0                             0                             0   \n",
              "\n",
              "   neighbourhood_Kreuzberg  neighbourhood_Mitte  neighbourhood_Moabit  \\\n",
              "0                        0                    1                     0   \n",
              "\n",
              "   neighbourhood_Neukölln  neighbourhood_Pankow  \\\n",
              "0                       0                     0   \n",
              "\n",
              "   neighbourhood_Prenzlauer Berg  neighbourhood_Rummelsburg  \\\n",
              "0                              0                          0   \n",
              "\n",
              "   neighbourhood_Schöneberg  neighbourhood_Tempelhof  neighbourhood_Wedding  \\\n",
              "0                         0                        0                      0   \n",
              "\n",
              "   neighbourhood_Wilmersdorf  neighbourhood_nan  \\\n",
              "0                          0                  0   \n",
              "\n",
              "   host_response_time_a few days or more  host_response_time_within a day  \\\n",
              "0                                      0                                0   \n",
              "\n",
              "   host_response_time_within a few hours  host_response_time_within an hour  \\\n",
              "0                                      0                                  1   \n",
              "\n",
              "   host_neighbourhood_Charlottenburg  host_neighbourhood_Friedrichshain  \\\n",
              "0                                  0                                  0   \n",
              "\n",
              "   host_neighbourhood_Kreuzberg  host_neighbourhood_Mitte  \\\n",
              "0                             0                         1   \n",
              "\n",
              "   host_neighbourhood_Moabit  host_neighbourhood_Neukölln  \\\n",
              "0                          0                            0   \n",
              "\n",
              "   host_neighbourhood_Pankow  host_neighbourhood_Prenzlauer Berg  \\\n",
              "0                          0                                   0   \n",
              "\n",
              "   host_neighbourhood_Schöneberg  host_neighbourhood_Tempelhof  \\\n",
              "0                              0                             0   \n",
              "\n",
              "   host_neighbourhood_Wedding  host_neighbourhood_Wilmersdorf  \\\n",
              "0                           0                               0   \n",
              "\n",
              "   neighbourhood_cleansed_Alexanderplatz  \\\n",
              "0                                      0   \n",
              "\n",
              "   neighbourhood_cleansed_Brunnenstr. Nord  \\\n",
              "0                                        0   \n",
              "\n",
              "   neighbourhood_cleansed_Brunnenstr. Süd  \\\n",
              "0                                       1   \n",
              "\n",
              "   neighbourhood_cleansed_Frankfurter Allee Nord  \\\n",
              "0                                              0   \n",
              "\n",
              "   neighbourhood_cleansed_Frankfurter Allee Süd FK  \\\n",
              "0                                                0   \n",
              "\n",
              "   neighbourhood_cleansed_Helmholtzplatz  \\\n",
              "0                                      0   \n",
              "\n",
              "   neighbourhood_cleansed_Karl-Marx-Allee-Nord  \\\n",
              "0                                            0   \n",
              "\n",
              "   neighbourhood_cleansed_Karl-Marx-Allee-Süd  \\\n",
              "0                                           0   \n",
              "\n",
              "   neighbourhood_cleansed_Moabit Ost  neighbourhood_cleansed_Moabit West  \\\n",
              "0                                  0                                   0   \n",
              "\n",
              "   neighbourhood_cleansed_Neu Lichtenberg  \\\n",
              "0                                       0   \n",
              "\n",
              "   neighbourhood_cleansed_Neuköllner Mitte/Zentrum  \\\n",
              "0                                                0   \n",
              "\n",
              "   neighbourhood_cleansed_Osloer Straße  neighbourhood_cleansed_Parkviertel  \\\n",
              "0                                     0                                   0   \n",
              "\n",
              "   neighbourhood_cleansed_Prenzlauer Berg Nord  \\\n",
              "0                                            0   \n",
              "\n",
              "   neighbourhood_cleansed_Prenzlauer Berg Nordwest  \\\n",
              "0                                                0   \n",
              "\n",
              "   neighbourhood_cleansed_Prenzlauer Berg Ost  \\\n",
              "0                                           0   \n",
              "\n",
              "   neighbourhood_cleansed_Prenzlauer Berg Süd  \\\n",
              "0                                           0   \n",
              "\n",
              "   neighbourhood_cleansed_Prenzlauer Berg Südwest  \\\n",
              "0                                               0   \n",
              "\n",
              "   neighbourhood_cleansed_Reuterstraße  neighbourhood_cleansed_Rixdorf  \\\n",
              "0                                    0                               0   \n",
              "\n",
              "   neighbourhood_cleansed_Schillerpromenade  \\\n",
              "0                                         0   \n",
              "\n",
              "   neighbourhood_cleansed_Schöneberg-Nord  \\\n",
              "0                                       0   \n",
              "\n",
              "   neighbourhood_cleansed_Schöneberg-Süd  \\\n",
              "0                                      0   \n",
              "\n",
              "   neighbourhood_cleansed_Südliche Friedrichstadt  \\\n",
              "0                                               0   \n",
              "\n",
              "   neighbourhood_cleansed_Tempelhof  \\\n",
              "0                                 0   \n",
              "\n",
              "   neighbourhood_cleansed_Tempelhofer Vorstadt  \\\n",
              "0                                            0   \n",
              "\n",
              "   neighbourhood_cleansed_Wedding Zentrum  \\\n",
              "0                                       0   \n",
              "\n",
              "   neighbourhood_cleansed_nördliche Luisenstadt  \\\n",
              "0                                             0   \n",
              "\n",
              "   neighbourhood_cleansed_südliche Luisenstadt  property_type_Apartment  \\\n",
              "0                                            0                        0   \n",
              "\n",
              "   property_type_Condominium  property_type_House  property_type_Loft  \\\n",
              "0                          0                    0                   0   \n",
              "\n",
              "   bed_type_Futon  bed_type_Pull-out Sofa  bed_type_Real Bed  \\\n",
              "0               0                       0                  1   \n",
              "\n",
              "   neighbourhood_group_cleansed_Friedrichshain-Kreuzberg  \\\n",
              "0                                                  0       \n",
              "\n",
              "   neighbourhood_group_cleansed_Lichtenberg  \\\n",
              "0                                         0   \n",
              "\n",
              "   neighbourhood_group_cleansed_Mitte  neighbourhood_group_cleansed_Neukölln  \\\n",
              "0                                   1                                      0   \n",
              "\n",
              "   neighbourhood_group_cleansed_Pankow  \\\n",
              "0                                    0   \n",
              "\n",
              "   neighbourhood_group_cleansed_Reinickendorf  \\\n",
              "0                                           0   \n",
              "\n",
              "   neighbourhood_group_cleansed_Steglitz - Zehlendorf  \\\n",
              "0                                                  0    \n",
              "\n",
              "   neighbourhood_group_cleansed_Tempelhof - Schöneberg  \\\n",
              "0                                                  0     \n",
              "\n",
              "   neighbourhood_group_cleansed_Treptow - Köpenick  room_type_Private room  \\\n",
              "0                                                0                       0   \n",
              "\n",
              "   room_type_Shared room  cancellation_policy_moderate  \\\n",
              "0                      0                             0   \n",
              "\n",
              "   cancellation_policy_strict_14_with_grace_period  zipcode_1011  \\\n",
              "0                                                1             1   \n",
              "\n",
              "   zipcode_1017  zipcode_1024  zipcode_1031  zipcode_1040  zipcode_1043  \\\n",
              "0             0             0             0             0             0   \n",
              "\n",
              "   zipcode_1055  zipcode_1058  zipcode_1062  zipcode_1071  zipcode_1077  \\\n",
              "0             0             0             0             0             0   \n",
              "\n",
              "   zipcode_1078  zipcode_1082  zipcode_1096  zipcode_1099  zipcode_1204  \\\n",
              "0             0             0             0             0             0   \n",
              "\n",
              "   zipcode_1205  zipcode_1243  zipcode_1318  zipcode_1334  zipcode_1335  \\\n",
              "0             0             0             0             0             0   \n",
              "\n",
              "   zipcode_1405  zipcode_nan  host_verifications_email  \\\n",
              "0             0            0                         1   \n",
              "\n",
              "   host_verifications_facebook  host_verifications_google  \\\n",
              "0                            0                          0   \n",
              "\n",
              "   host_verifications_government_id  host_verifications_identity_manual  \\\n",
              "0                                 1                                   0   \n",
              "\n",
              "   host_verifications_jumio  host_verifications_kba  \\\n",
              "0                         1                       0   \n",
              "\n",
              "   host_verifications_manual_offline  host_verifications_manual_online  \\\n",
              "0                                  0                                 0   \n",
              "\n",
              "   host_verifications_offline_government_id  host_verifications_phone  \\\n",
              "0                                         1                         1   \n",
              "\n",
              "   host_verifications_reviews  host_verifications_selfie  \\\n",
              "0                           1                          0   \n",
              "\n",
              "   host_verifications_work_email  host_verifications_way_num  \\\n",
              "0                              0                           6   \n",
              "\n",
              "   amenities_24-hourcheck-in  amenities_Accessible-heightbed  \\\n",
              "0                          0                               0   \n",
              "\n",
              "   amenities_Airconditioning  amenities_BBQgrill  amenities_Babybath  \\\n",
              "0                          0                   0                   0   \n",
              "\n",
              "   amenities_Bathtub  amenities_Bedlinens  amenities_Breakfast  \\\n",
              "0                  1                    1                    0   \n",
              "\n",
              "   amenities_Buildingstaff  amenities_Buzzer/wirelessintercom  \\\n",
              "0                        0                                  0   \n",
              "\n",
              "   amenities_CableTV  amenities_Carbonmonoxidedetector  amenities_Cat(s)  \\\n",
              "0                  1                                 0                 0   \n",
              "\n",
              "   amenities_Changingtable  amenities_Children’sbooksandtoys  \\\n",
              "0                        0                                 0   \n",
              "\n",
              "   amenities_Children’sdinnerware  amenities_Cleaningbeforecheckout  \\\n",
              "0                               0                                 0   \n",
              "\n",
              "   amenities_Coffeemaker  amenities_Cookingbasics  amenities_Crib  \\\n",
              "0                      1                        1               0   \n",
              "\n",
              "   amenities_Dishesandsilverware  amenities_Dishwasher  amenities_Dog(s)  \\\n",
              "0                              1                     1                 0   \n",
              "\n",
              "   amenities_Dryer  amenities_Elevator  amenities_Essentials  \\\n",
              "0                0                   0                     1   \n",
              "\n",
              "   amenities_Ethernetconnection  amenities_Extrapillowsandblankets  \\\n",
              "0                             0                                  1   \n",
              "\n",
              "   amenities_Family/kidfriendly  amenities_Fireextinguisher  \\\n",
              "0                             1                           0   \n",
              "\n",
              "   amenities_Firstaidkit  amenities_Flatpathtofrontdoor  \\\n",
              "0                      0                              0   \n",
              "\n",
              "   amenities_Freeparkingonpremises  amenities_Freestreetparking  \\\n",
              "0                                0                            0   \n",
              "\n",
              "   amenities_Gameconsole  amenities_Gardenorbackyard  amenities_Hairdryer  \\\n",
              "0                      0                           0                    1   \n",
              "\n",
              "   amenities_Handheldshowerhead  amenities_Hangers  amenities_Heating  \\\n",
              "0                             0                  1                  1   \n",
              "\n",
              "   amenities_Highchair  amenities_Hostgreetsyou  amenities_Hottub  \\\n",
              "0                    0                        0                 0   \n",
              "\n",
              "   amenities_Hotwater  amenities_Indoorfireplace  amenities_Internet  \\\n",
              "0                   1                          0                   0   \n",
              "\n",
              "   amenities_Iron  amenities_Kitchen  amenities_Laptopfriendlyworkspace  \\\n",
              "0               1                  1                                  1   \n",
              "\n",
              "   amenities_Lockbox  amenities_Lockonbedroomdoor  \\\n",
              "0                  0                            1   \n",
              "\n",
              "   amenities_Longtermstaysallowed  amenities_Luggagedropoffallowed  \\\n",
              "0                               1                                1   \n",
              "\n",
              "   amenities_Microwave  amenities_Other  amenities_Outletcovers  \\\n",
              "0                    1                0                       0   \n",
              "\n",
              "   amenities_Oven  amenities_Pack’nPlay/travelcrib  \\\n",
              "0               0                                0   \n",
              "\n",
              "   amenities_Paidparkingoffpremises  amenities_Paidparkingonpremises  \\\n",
              "0                                 0                                0   \n",
              "\n",
              "   amenities_Patioorbalcony  amenities_Petsallowed  \\\n",
              "0                         0                      0   \n",
              "\n",
              "   amenities_Petsliveonthisproperty  amenities_Privateentrance  \\\n",
              "0                                 0                          0   \n",
              "\n",
              "   amenities_Privatelivingroom  amenities_Refrigerator  \\\n",
              "0                            1                       1   \n",
              "\n",
              "   amenities_Room-darkeningshades  amenities_Safetycard  \\\n",
              "0                               0                     0   \n",
              "\n",
              "   amenities_Selfcheck-in  amenities_Shampoo  amenities_Singlelevelhome  \\\n",
              "0                       0                  1                          0   \n",
              "\n",
              "   amenities_Smokedetector  amenities_Smokingallowed  \\\n",
              "0                        1                         0   \n",
              "\n",
              "   amenities_Step-freeaccess  amenities_Stove  amenities_Suitableforevents  \\\n",
              "0                          0                1                            0   \n",
              "\n",
              "   amenities_TV  amenities_Washer  amenities_Well-litpathtoentrance  \\\n",
              "0             1                 0                                 0   \n",
              "\n",
              "   amenities_Wheelchairaccessible  amenities_Wideclearancetobed  \\\n",
              "0                               0                             0   \n",
              "\n",
              "   amenities_Widedoorway  amenities_Wideentryway  \\\n",
              "0                      0                       0   \n",
              "\n",
              "   amenities_Widehallwayclearance  amenities_Wifi  amenities_Windowguards  \\\n",
              "0                               0               1                       0   \n",
              "\n",
              "   amenities_translationmissing:en.hosting_amenity_49  \\\n",
              "0                                                  0    \n",
              "\n",
              "   amenities_translationmissing:en.hosting_amenity_50  amenities_way_num  \\\n",
              "0                                                  0                  29   \n",
              "\n",
              "    des_pc0   des_pc1   des_pc2   des_pc3  des_pc4   des_pc5   des_pc6  \\\n",
              "0  0.444661 -1.091391  0.143014  0.161453  0.12506 -0.009617  0.129991   \n",
              "\n",
              "    des_pc7  des_afinn_score  reviews_afinn_score  \n",
              "0  0.912585             11.0                 8.82  "
            ]
          },
          "metadata": {},
          "execution_count": 3
        }
      ],
      "source": [
        "df = pd.read_csv('listings_summary_cleaned_text.csv', index_col=0)\n",
        "df.drop(['id'], axis=1, inplace=True)\n",
        "df.drop(['host_id'], axis=1, inplace=True)\n",
        "df.fillna(0, inplace=True)\n",
        "print(df.shape)\n",
        "df.head(1)"
      ]
    },
    {
      "cell_type": "markdown",
      "metadata": {
        "id": "BcjB1jlwRRAd"
      },
      "source": [
        "# Training"
      ]
    },
    {
      "cell_type": "code",
      "execution_count": null,
      "metadata": {
        "id": "0kfsmGtaRFAq"
      },
      "outputs": [],
      "source": [
        "y = df['price']\n",
        "x = df.drop(['price'], axis=1)"
      ]
    },
    {
      "cell_type": "markdown",
      "metadata": {
        "id": "3_ni0l3yRc4j"
      },
      "source": [
        "### Train-Test Split"
      ]
    },
    {
      "cell_type": "code",
      "execution_count": null,
      "metadata": {
        "id": "C7SWCD9_P7AG"
      },
      "outputs": [],
      "source": [
        "from sklearn.model_selection import train_test_split\n",
        "\n",
        "# 70% train, 10% valid, 10% test, 10% stacking\n",
        "x_train, x_test, y_train, y_test = train_test_split(x, y, test_size=0.2, random_state=42)\n",
        "x_train, x_valid, y_train, y_valid = train_test_split(x_train, y_train, test_size=0.125, random_state=42)\n",
        "x_test, x_stack, y_test, y_stack = train_test_split(x_test, y_test, test_size=0.5, random_state=42)"
      ]
    },
    {
      "cell_type": "markdown",
      "metadata": {
        "id": "9HyRlvUboU2Z"
      },
      "source": [
        "### Use y log model"
      ]
    },
    {
      "cell_type": "code",
      "execution_count": null,
      "metadata": {
        "id": "Fm-yxCe3oc9k"
      },
      "outputs": [],
      "source": [
        "# Use y_train_log\n",
        "y_train_log = np.log(y_train[y_train > 0])\n",
        "x_train_ylog = x_train.loc[y_train[y_train > 0].index]"
      ]
    },
    {
      "cell_type": "markdown",
      "metadata": {
        "id": "tPqRpre1RmJX"
      },
      "source": [
        "### Feature Selection"
      ]
    },
    {
      "cell_type": "markdown",
      "metadata": {
        "id": "C6wabbvEk6UL"
      },
      "source": [
        "#### Random Forest"
      ]
    },
    {
      "cell_type": "code",
      "execution_count": null,
      "metadata": {
        "id": "_uQFLJU3Rh9N"
      },
      "outputs": [],
      "source": [
        "from sklearn.ensemble import RandomForestRegressor\n",
        "from sklearn.feature_selection import SelectFromModel\n",
        "\n",
        "sel = SelectFromModel(RandomForestRegressor(n_estimators=400, random_state=30))\n",
        "rf = sel.fit(x_train_ylog, y_train_log)"
      ]
    },
    {
      "cell_type": "code",
      "execution_count": null,
      "metadata": {
        "colab": {
          "base_uri": "https://localhost:8080/"
        },
        "id": "nykChwv1zn-v",
        "outputId": "e89430a7-4e62-417b-cc1d-cfa9f6a94e16"
      },
      "outputs": [
        {
          "output_type": "stream",
          "name": "stdout",
          "text": [
            "37\n",
            "Index(['host_since', 'latitude', 'longitude', 'accommodates', 'bathrooms',\n",
            "       'bedrooms', 'security_deposit', 'cleaning_fee', 'guests_included',\n",
            "       'extra_people', 'minimum_nights', 'maximum_nights', 'calendar_updated',\n",
            "       'availability_30', 'availability_60', 'availability_90',\n",
            "       'availability_365', 'number_of_reviews', 'review_scores_rating',\n",
            "       'calculated_host_listings_count', 'reviews_per_month',\n",
            "       'neighbourhood_Mitte', 'property_type_Apartment',\n",
            "       'room_type_Private room', 'room_type_Shared room',\n",
            "       'host_verifications_way_num', 'amenities_way_num', 'des_pc0', 'des_pc1',\n",
            "       'des_pc2', 'des_pc3', 'des_pc4', 'des_pc5', 'des_pc6', 'des_pc7',\n",
            "       'des_afinn_score', 'reviews_afinn_score'],\n",
            "      dtype='object')\n"
          ]
        }
      ],
      "source": [
        "# make a list and count the selected features\n",
        "selected_feat = x_train_ylog.columns[(sel.get_support())]\n",
        "print(len(selected_feat))\n",
        "print(selected_feat)"
      ]
    },
    {
      "cell_type": "code",
      "execution_count": null,
      "metadata": {
        "colab": {
          "base_uri": "https://localhost:8080/",
          "height": 1000
        },
        "id": "oe9Vz6VBRuYC",
        "outputId": "99abc400-3a63-4980-b818-9b9bb6529653"
      },
      "outputs": [
        {
          "output_type": "execute_result",
          "data": {
            "text/html": [
              "\n",
              "  <div id=\"df-5bea0232-949f-4b96-ac9c-3309a70ddede\">\n",
              "    <div class=\"colab-df-container\">\n",
              "      <div>\n",
              "<style scoped>\n",
              "    .dataframe tbody tr th:only-of-type {\n",
              "        vertical-align: middle;\n",
              "    }\n",
              "\n",
              "    .dataframe tbody tr th {\n",
              "        vertical-align: top;\n",
              "    }\n",
              "\n",
              "    .dataframe thead th {\n",
              "        text-align: right;\n",
              "    }\n",
              "</style>\n",
              "<table border=\"1\" class=\"dataframe\">\n",
              "  <thead>\n",
              "    <tr style=\"text-align: right;\">\n",
              "      <th></th>\n",
              "      <th>x</th>\n",
              "      <th>Importance</th>\n",
              "    </tr>\n",
              "  </thead>\n",
              "  <tbody>\n",
              "    <tr>\n",
              "      <th>117</th>\n",
              "      <td>room_type_Private room</td>\n",
              "      <td>0.275</td>\n",
              "    </tr>\n",
              "    <tr>\n",
              "      <th>10</th>\n",
              "      <td>accommodates</td>\n",
              "      <td>0.073</td>\n",
              "    </tr>\n",
              "    <tr>\n",
              "      <th>12</th>\n",
              "      <td>bedrooms</td>\n",
              "      <td>0.045</td>\n",
              "    </tr>\n",
              "    <tr>\n",
              "      <th>11</th>\n",
              "      <td>bathrooms</td>\n",
              "      <td>0.037</td>\n",
              "    </tr>\n",
              "    <tr>\n",
              "      <th>15</th>\n",
              "      <td>cleaning_fee</td>\n",
              "      <td>0.027</td>\n",
              "    </tr>\n",
              "    <tr>\n",
              "      <th>118</th>\n",
              "      <td>room_type_Shared room</td>\n",
              "      <td>0.025</td>\n",
              "    </tr>\n",
              "    <tr>\n",
              "      <th>22</th>\n",
              "      <td>availability_30</td>\n",
              "      <td>0.023</td>\n",
              "    </tr>\n",
              "    <tr>\n",
              "      <th>251</th>\n",
              "      <td>des_pc3</td>\n",
              "      <td>0.022</td>\n",
              "    </tr>\n",
              "    <tr>\n",
              "      <th>7</th>\n",
              "      <td>latitude</td>\n",
              "      <td>0.022</td>\n",
              "    </tr>\n",
              "    <tr>\n",
              "      <th>23</th>\n",
              "      <td>availability_60</td>\n",
              "      <td>0.021</td>\n",
              "    </tr>\n",
              "    <tr>\n",
              "      <th>17</th>\n",
              "      <td>extra_people</td>\n",
              "      <td>0.018</td>\n",
              "    </tr>\n",
              "    <tr>\n",
              "      <th>8</th>\n",
              "      <td>longitude</td>\n",
              "      <td>0.018</td>\n",
              "    </tr>\n",
              "    <tr>\n",
              "      <th>18</th>\n",
              "      <td>minimum_nights</td>\n",
              "      <td>0.017</td>\n",
              "    </tr>\n",
              "    <tr>\n",
              "      <th>0</th>\n",
              "      <td>host_since</td>\n",
              "      <td>0.017</td>\n",
              "    </tr>\n",
              "    <tr>\n",
              "      <th>250</th>\n",
              "      <td>des_pc2</td>\n",
              "      <td>0.015</td>\n",
              "    </tr>\n",
              "    <tr>\n",
              "      <th>20</th>\n",
              "      <td>calendar_updated</td>\n",
              "      <td>0.015</td>\n",
              "    </tr>\n",
              "    <tr>\n",
              "      <th>248</th>\n",
              "      <td>des_pc0</td>\n",
              "      <td>0.014</td>\n",
              "    </tr>\n",
              "    <tr>\n",
              "      <th>16</th>\n",
              "      <td>guests_included</td>\n",
              "      <td>0.014</td>\n",
              "    </tr>\n",
              "    <tr>\n",
              "      <th>40</th>\n",
              "      <td>reviews_per_month</td>\n",
              "      <td>0.013</td>\n",
              "    </tr>\n",
              "    <tr>\n",
              "      <th>255</th>\n",
              "      <td>des_pc7</td>\n",
              "      <td>0.013</td>\n",
              "    </tr>\n",
              "    <tr>\n",
              "      <th>254</th>\n",
              "      <td>des_pc6</td>\n",
              "      <td>0.013</td>\n",
              "    </tr>\n",
              "    <tr>\n",
              "      <th>24</th>\n",
              "      <td>availability_90</td>\n",
              "      <td>0.012</td>\n",
              "    </tr>\n",
              "    <tr>\n",
              "      <th>249</th>\n",
              "      <td>des_pc1</td>\n",
              "      <td>0.012</td>\n",
              "    </tr>\n",
              "    <tr>\n",
              "      <th>252</th>\n",
              "      <td>des_pc4</td>\n",
              "      <td>0.012</td>\n",
              "    </tr>\n",
              "    <tr>\n",
              "      <th>257</th>\n",
              "      <td>reviews_afinn_score</td>\n",
              "      <td>0.012</td>\n",
              "    </tr>\n",
              "    <tr>\n",
              "      <th>253</th>\n",
              "      <td>des_pc5</td>\n",
              "      <td>0.011</td>\n",
              "    </tr>\n",
              "    <tr>\n",
              "      <th>247</th>\n",
              "      <td>amenities_way_num</td>\n",
              "      <td>0.010</td>\n",
              "    </tr>\n",
              "    <tr>\n",
              "      <th>256</th>\n",
              "      <td>des_afinn_score</td>\n",
              "      <td>0.010</td>\n",
              "    </tr>\n",
              "    <tr>\n",
              "      <th>25</th>\n",
              "      <td>availability_365</td>\n",
              "      <td>0.008</td>\n",
              "    </tr>\n",
              "    <tr>\n",
              "      <th>26</th>\n",
              "      <td>number_of_reviews</td>\n",
              "      <td>0.007</td>\n",
              "    </tr>\n",
              "    <tr>\n",
              "      <th>19</th>\n",
              "      <td>maximum_nights</td>\n",
              "      <td>0.007</td>\n",
              "    </tr>\n",
              "    <tr>\n",
              "      <th>44</th>\n",
              "      <td>neighbourhood_Mitte</td>\n",
              "      <td>0.006</td>\n",
              "    </tr>\n",
              "    <tr>\n",
              "      <th>14</th>\n",
              "      <td>security_deposit</td>\n",
              "      <td>0.006</td>\n",
              "    </tr>\n",
              "    <tr>\n",
              "      <th>27</th>\n",
              "      <td>review_scores_rating</td>\n",
              "      <td>0.005</td>\n",
              "    </tr>\n",
              "    <tr>\n",
              "      <th>158</th>\n",
              "      <td>host_verifications_way_num</td>\n",
              "      <td>0.005</td>\n",
              "    </tr>\n",
              "    <tr>\n",
              "      <th>39</th>\n",
              "      <td>calculated_host_listings_count</td>\n",
              "      <td>0.005</td>\n",
              "    </tr>\n",
              "    <tr>\n",
              "      <th>101</th>\n",
              "      <td>property_type_Apartment</td>\n",
              "      <td>0.005</td>\n",
              "    </tr>\n",
              "    <tr>\n",
              "      <th>13</th>\n",
              "      <td>beds</td>\n",
              "      <td>0.004</td>\n",
              "    </tr>\n",
              "  </tbody>\n",
              "</table>\n",
              "</div>\n",
              "      <button class=\"colab-df-convert\" onclick=\"convertToInteractive('df-5bea0232-949f-4b96-ac9c-3309a70ddede')\"\n",
              "              title=\"Convert this dataframe to an interactive table.\"\n",
              "              style=\"display:none;\">\n",
              "        \n",
              "  <svg xmlns=\"http://www.w3.org/2000/svg\" height=\"24px\"viewBox=\"0 0 24 24\"\n",
              "       width=\"24px\">\n",
              "    <path d=\"M0 0h24v24H0V0z\" fill=\"none\"/>\n",
              "    <path d=\"M18.56 5.44l.94 2.06.94-2.06 2.06-.94-2.06-.94-.94-2.06-.94 2.06-2.06.94zm-11 1L8.5 8.5l.94-2.06 2.06-.94-2.06-.94L8.5 2.5l-.94 2.06-2.06.94zm10 10l.94 2.06.94-2.06 2.06-.94-2.06-.94-.94-2.06-.94 2.06-2.06.94z\"/><path d=\"M17.41 7.96l-1.37-1.37c-.4-.4-.92-.59-1.43-.59-.52 0-1.04.2-1.43.59L10.3 9.45l-7.72 7.72c-.78.78-.78 2.05 0 2.83L4 21.41c.39.39.9.59 1.41.59.51 0 1.02-.2 1.41-.59l7.78-7.78 2.81-2.81c.8-.78.8-2.07 0-2.86zM5.41 20L4 18.59l7.72-7.72 1.47 1.35L5.41 20z\"/>\n",
              "  </svg>\n",
              "      </button>\n",
              "      \n",
              "  <style>\n",
              "    .colab-df-container {\n",
              "      display:flex;\n",
              "      flex-wrap:wrap;\n",
              "      gap: 12px;\n",
              "    }\n",
              "\n",
              "    .colab-df-convert {\n",
              "      background-color: #E8F0FE;\n",
              "      border: none;\n",
              "      border-radius: 50%;\n",
              "      cursor: pointer;\n",
              "      display: none;\n",
              "      fill: #1967D2;\n",
              "      height: 32px;\n",
              "      padding: 0 0 0 0;\n",
              "      width: 32px;\n",
              "    }\n",
              "\n",
              "    .colab-df-convert:hover {\n",
              "      background-color: #E2EBFA;\n",
              "      box-shadow: 0px 1px 2px rgba(60, 64, 67, 0.3), 0px 1px 3px 1px rgba(60, 64, 67, 0.15);\n",
              "      fill: #174EA6;\n",
              "    }\n",
              "\n",
              "    [theme=dark] .colab-df-convert {\n",
              "      background-color: #3B4455;\n",
              "      fill: #D2E3FC;\n",
              "    }\n",
              "\n",
              "    [theme=dark] .colab-df-convert:hover {\n",
              "      background-color: #434B5C;\n",
              "      box-shadow: 0px 1px 3px 1px rgba(0, 0, 0, 0.15);\n",
              "      filter: drop-shadow(0px 1px 2px rgba(0, 0, 0, 0.3));\n",
              "      fill: #FFFFFF;\n",
              "    }\n",
              "  </style>\n",
              "\n",
              "      <script>\n",
              "        const buttonEl =\n",
              "          document.querySelector('#df-5bea0232-949f-4b96-ac9c-3309a70ddede button.colab-df-convert');\n",
              "        buttonEl.style.display =\n",
              "          google.colab.kernel.accessAllowed ? 'block' : 'none';\n",
              "\n",
              "        async function convertToInteractive(key) {\n",
              "          const element = document.querySelector('#df-5bea0232-949f-4b96-ac9c-3309a70ddede');\n",
              "          const dataTable =\n",
              "            await google.colab.kernel.invokeFunction('convertToInteractive',\n",
              "                                                     [key], {});\n",
              "          if (!dataTable) return;\n",
              "\n",
              "          const docLinkHtml = 'Like what you see? Visit the ' +\n",
              "            '<a target=\"_blank\" href=https://colab.research.google.com/notebooks/data_table.ipynb>data table notebook</a>'\n",
              "            + ' to learn more about interactive tables.';\n",
              "          element.innerHTML = '';\n",
              "          dataTable['output_type'] = 'display_data';\n",
              "          await google.colab.output.renderOutput(dataTable, element);\n",
              "          const docLink = document.createElement('div');\n",
              "          docLink.innerHTML = docLinkHtml;\n",
              "          element.appendChild(docLink);\n",
              "        }\n",
              "      </script>\n",
              "    </div>\n",
              "  </div>\n",
              "  "
            ],
            "text/plain": [
              "                                  x  Importance\n",
              "117          room_type_Private room       0.275\n",
              "10                     accommodates       0.073\n",
              "12                         bedrooms       0.045\n",
              "11                        bathrooms       0.037\n",
              "15                     cleaning_fee       0.027\n",
              "118           room_type_Shared room       0.025\n",
              "22                  availability_30       0.023\n",
              "251                         des_pc3       0.022\n",
              "7                          latitude       0.022\n",
              "23                  availability_60       0.021\n",
              "17                     extra_people       0.018\n",
              "8                         longitude       0.018\n",
              "18                   minimum_nights       0.017\n",
              "0                        host_since       0.017\n",
              "250                         des_pc2       0.015\n",
              "20                 calendar_updated       0.015\n",
              "248                         des_pc0       0.014\n",
              "16                  guests_included       0.014\n",
              "40                reviews_per_month       0.013\n",
              "255                         des_pc7       0.013\n",
              "254                         des_pc6       0.013\n",
              "24                  availability_90       0.012\n",
              "249                         des_pc1       0.012\n",
              "252                         des_pc4       0.012\n",
              "257             reviews_afinn_score       0.012\n",
              "253                         des_pc5       0.011\n",
              "247               amenities_way_num       0.010\n",
              "256                 des_afinn_score       0.010\n",
              "25                 availability_365       0.008\n",
              "26                number_of_reviews       0.007\n",
              "19                   maximum_nights       0.007\n",
              "44              neighbourhood_Mitte       0.006\n",
              "14                 security_deposit       0.006\n",
              "27             review_scores_rating       0.005\n",
              "158      host_verifications_way_num       0.005\n",
              "39   calculated_host_listings_count       0.005\n",
              "101         property_type_Apartment       0.005\n",
              "13                             beds       0.004"
            ]
          },
          "metadata": {},
          "execution_count": 9
        }
      ],
      "source": [
        "pd.set_option('display.float_format', lambda x: '%.3f' %x)\n",
        "x_col, imp = list(sel.feature_names_in_), list(sel.estimator_.feature_importances_)\n",
        "pd.DataFrame({'x': x_col, 'Importance': imp}).sort_values(by='Importance', ascending=False)[:38]"
      ]
    },
    {
      "cell_type": "markdown",
      "metadata": {
        "id": "gCudG5r4upRS"
      },
      "source": [
        "#### ElasticNet"
      ]
    },
    {
      "cell_type": "code",
      "execution_count": null,
      "metadata": {
        "colab": {
          "base_uri": "https://localhost:8080/"
        },
        "id": "Q9WYfyU3ufvU",
        "outputId": "47a2d7c4-6f5d-4dd8-b5fe-1eb0edae5d38"
      },
      "outputs": [
        {
          "output_type": "stream",
          "name": "stdout",
          "text": [
            "-1 0.0\n",
            "0\n",
            "Index([], dtype='object')\n"
          ]
        }
      ],
      "source": [
        "from sklearn.linear_model import ElasticNetCV\n",
        "ratios = np.arange(0, 1, 0.01)\n",
        "alphas = np.arange(-5, 2)\n",
        "model = ElasticNetCV(l1_ratio = ratios, alphas = alphas, cv=5, n_jobs=-1).fit(x_train_ylog, y_train_log)\n",
        "print(model.alpha_, model.l1_ratio_)\n",
        "elastic_variables = x_train_ylog.columns[model.coef_ != 0]\n",
        "print(len(elastic_variables))\n",
        "print(elastic_variables)"
      ]
    },
    {
      "cell_type": "code",
      "execution_count": null,
      "metadata": {
        "colab": {
          "base_uri": "https://localhost:8080/",
          "height": 676
        },
        "id": "5YlU20uesDAe",
        "outputId": "b1f637fe-5680-4883-def1-204bc30a91ad"
      },
      "outputs": [
        {
          "data": {
            "text/html": [
              "\n",
              "  <div id=\"df-cfbd8066-40c3-44d8-a2ad-18070e953dc2\">\n",
              "    <div class=\"colab-df-container\">\n",
              "      <div>\n",
              "<style scoped>\n",
              "    .dataframe tbody tr th:only-of-type {\n",
              "        vertical-align: middle;\n",
              "    }\n",
              "\n",
              "    .dataframe tbody tr th {\n",
              "        vertical-align: top;\n",
              "    }\n",
              "\n",
              "    .dataframe thead th {\n",
              "        text-align: right;\n",
              "    }\n",
              "</style>\n",
              "<table border=\"1\" class=\"dataframe\">\n",
              "  <thead>\n",
              "    <tr style=\"text-align: right;\">\n",
              "      <th></th>\n",
              "      <th>x</th>\n",
              "      <th>Coef</th>\n",
              "    </tr>\n",
              "  </thead>\n",
              "  <tbody>\n",
              "    <tr>\n",
              "      <th>34</th>\n",
              "      <td>requires_license</td>\n",
              "      <td>0.806</td>\n",
              "    </tr>\n",
              "    <tr>\n",
              "      <th>193</th>\n",
              "      <td>amenities_Gym</td>\n",
              "      <td>0.453</td>\n",
              "    </tr>\n",
              "    <tr>\n",
              "      <th>160</th>\n",
              "      <td>amenities_Airconditioning</td>\n",
              "      <td>0.377</td>\n",
              "    </tr>\n",
              "    <tr>\n",
              "      <th>53</th>\n",
              "      <td>neighbourhood_Wilmersdorf</td>\n",
              "      <td>0.271</td>\n",
              "    </tr>\n",
              "    <tr>\n",
              "      <th>51</th>\n",
              "      <td>neighbourhood_Tempelhof</td>\n",
              "      <td>0.224</td>\n",
              "    </tr>\n",
              "    <tr>\n",
              "      <th>109</th>\n",
              "      <td>neighbourhood_group_cleansed_Mitte</td>\n",
              "      <td>0.224</td>\n",
              "    </tr>\n",
              "    <tr>\n",
              "      <th>74</th>\n",
              "      <td>neighbourhood_cleansed_Frankfurter Allee Süd FK</td>\n",
              "      <td>0.212</td>\n",
              "    </tr>\n",
              "    <tr>\n",
              "      <th>76</th>\n",
              "      <td>neighbourhood_cleansed_Karl-Marx-Allee-Nord</td>\n",
              "      <td>0.208</td>\n",
              "    </tr>\n",
              "    <tr>\n",
              "      <th>87</th>\n",
              "      <td>neighbourhood_cleansed_Prenzlauer Berg Süd</td>\n",
              "      <td>0.203</td>\n",
              "    </tr>\n",
              "    <tr>\n",
              "      <th>41</th>\n",
              "      <td>neighbourhood_Charlottenburg</td>\n",
              "      <td>0.192</td>\n",
              "    </tr>\n",
              "    <tr>\n",
              "      <th>45</th>\n",
              "      <td>neighbourhood_Moabit</td>\n",
              "      <td>0.188</td>\n",
              "    </tr>\n",
              "    <tr>\n",
              "      <th>75</th>\n",
              "      <td>neighbourhood_cleansed_Helmholtzplatz</td>\n",
              "      <td>0.183</td>\n",
              "    </tr>\n",
              "    <tr>\n",
              "      <th>73</th>\n",
              "      <td>neighbourhood_cleansed_Frankfurter Allee Nord</td>\n",
              "      <td>0.178</td>\n",
              "    </tr>\n",
              "    <tr>\n",
              "      <th>88</th>\n",
              "      <td>neighbourhood_cleansed_Prenzlauer Berg Südwest</td>\n",
              "      <td>0.178</td>\n",
              "    </tr>\n",
              "    <tr>\n",
              "      <th>133</th>\n",
              "      <td>zipcode_1096</td>\n",
              "      <td>0.164</td>\n",
              "    </tr>\n",
              "    <tr>\n",
              "      <th>77</th>\n",
              "      <td>neighbourhood_cleansed_Karl-Marx-Allee-Süd</td>\n",
              "      <td>0.158</td>\n",
              "    </tr>\n",
              "    <tr>\n",
              "      <th>50</th>\n",
              "      <td>neighbourhood_Schöneberg</td>\n",
              "      <td>0.158</td>\n",
              "    </tr>\n",
              "    <tr>\n",
              "      <th>89</th>\n",
              "      <td>neighbourhood_cleansed_Reuterstraße</td>\n",
              "      <td>0.153</td>\n",
              "    </tr>\n",
              "    <tr>\n",
              "      <th>129</th>\n",
              "      <td>zipcode_1071</td>\n",
              "      <td>0.147</td>\n",
              "    </tr>\n",
              "    <tr>\n",
              "      <th>44</th>\n",
              "      <td>neighbourhood_Mitte</td>\n",
              "      <td>0.141</td>\n",
              "    </tr>\n",
              "  </tbody>\n",
              "</table>\n",
              "</div>\n",
              "      <button class=\"colab-df-convert\" onclick=\"convertToInteractive('df-cfbd8066-40c3-44d8-a2ad-18070e953dc2')\"\n",
              "              title=\"Convert this dataframe to an interactive table.\"\n",
              "              style=\"display:none;\">\n",
              "        \n",
              "  <svg xmlns=\"http://www.w3.org/2000/svg\" height=\"24px\"viewBox=\"0 0 24 24\"\n",
              "       width=\"24px\">\n",
              "    <path d=\"M0 0h24v24H0V0z\" fill=\"none\"/>\n",
              "    <path d=\"M18.56 5.44l.94 2.06.94-2.06 2.06-.94-2.06-.94-.94-2.06-.94 2.06-2.06.94zm-11 1L8.5 8.5l.94-2.06 2.06-.94-2.06-.94L8.5 2.5l-.94 2.06-2.06.94zm10 10l.94 2.06.94-2.06 2.06-.94-2.06-.94-.94-2.06-.94 2.06-2.06.94z\"/><path d=\"M17.41 7.96l-1.37-1.37c-.4-.4-.92-.59-1.43-.59-.52 0-1.04.2-1.43.59L10.3 9.45l-7.72 7.72c-.78.78-.78 2.05 0 2.83L4 21.41c.39.39.9.59 1.41.59.51 0 1.02-.2 1.41-.59l7.78-7.78 2.81-2.81c.8-.78.8-2.07 0-2.86zM5.41 20L4 18.59l7.72-7.72 1.47 1.35L5.41 20z\"/>\n",
              "  </svg>\n",
              "      </button>\n",
              "      \n",
              "  <style>\n",
              "    .colab-df-container {\n",
              "      display:flex;\n",
              "      flex-wrap:wrap;\n",
              "      gap: 12px;\n",
              "    }\n",
              "\n",
              "    .colab-df-convert {\n",
              "      background-color: #E8F0FE;\n",
              "      border: none;\n",
              "      border-radius: 50%;\n",
              "      cursor: pointer;\n",
              "      display: none;\n",
              "      fill: #1967D2;\n",
              "      height: 32px;\n",
              "      padding: 0 0 0 0;\n",
              "      width: 32px;\n",
              "    }\n",
              "\n",
              "    .colab-df-convert:hover {\n",
              "      background-color: #E2EBFA;\n",
              "      box-shadow: 0px 1px 2px rgba(60, 64, 67, 0.3), 0px 1px 3px 1px rgba(60, 64, 67, 0.15);\n",
              "      fill: #174EA6;\n",
              "    }\n",
              "\n",
              "    [theme=dark] .colab-df-convert {\n",
              "      background-color: #3B4455;\n",
              "      fill: #D2E3FC;\n",
              "    }\n",
              "\n",
              "    [theme=dark] .colab-df-convert:hover {\n",
              "      background-color: #434B5C;\n",
              "      box-shadow: 0px 1px 3px 1px rgba(0, 0, 0, 0.15);\n",
              "      filter: drop-shadow(0px 1px 2px rgba(0, 0, 0, 0.3));\n",
              "      fill: #FFFFFF;\n",
              "    }\n",
              "  </style>\n",
              "\n",
              "      <script>\n",
              "        const buttonEl =\n",
              "          document.querySelector('#df-cfbd8066-40c3-44d8-a2ad-18070e953dc2 button.colab-df-convert');\n",
              "        buttonEl.style.display =\n",
              "          google.colab.kernel.accessAllowed ? 'block' : 'none';\n",
              "\n",
              "        async function convertToInteractive(key) {\n",
              "          const element = document.querySelector('#df-cfbd8066-40c3-44d8-a2ad-18070e953dc2');\n",
              "          const dataTable =\n",
              "            await google.colab.kernel.invokeFunction('convertToInteractive',\n",
              "                                                     [key], {});\n",
              "          if (!dataTable) return;\n",
              "\n",
              "          const docLinkHtml = 'Like what you see? Visit the ' +\n",
              "            '<a target=\"_blank\" href=https://colab.research.google.com/notebooks/data_table.ipynb>data table notebook</a>'\n",
              "            + ' to learn more about interactive tables.';\n",
              "          element.innerHTML = '';\n",
              "          dataTable['output_type'] = 'display_data';\n",
              "          await google.colab.output.renderOutput(dataTable, element);\n",
              "          const docLink = document.createElement('div');\n",
              "          docLink.innerHTML = docLinkHtml;\n",
              "          element.appendChild(docLink);\n",
              "        }\n",
              "      </script>\n",
              "    </div>\n",
              "  </div>\n",
              "  "
            ],
            "text/plain": [
              "                                                   x  Coef\n",
              "34                                  requires_license 0.806\n",
              "193                                    amenities_Gym 0.453\n",
              "160                        amenities_Airconditioning 0.377\n",
              "53                         neighbourhood_Wilmersdorf 0.271\n",
              "51                           neighbourhood_Tempelhof 0.224\n",
              "109               neighbourhood_group_cleansed_Mitte 0.224\n",
              "74   neighbourhood_cleansed_Frankfurter Allee Süd FK 0.212\n",
              "76       neighbourhood_cleansed_Karl-Marx-Allee-Nord 0.208\n",
              "87        neighbourhood_cleansed_Prenzlauer Berg Süd 0.203\n",
              "41                      neighbourhood_Charlottenburg 0.192\n",
              "45                              neighbourhood_Moabit 0.188\n",
              "75             neighbourhood_cleansed_Helmholtzplatz 0.183\n",
              "73     neighbourhood_cleansed_Frankfurter Allee Nord 0.178\n",
              "88    neighbourhood_cleansed_Prenzlauer Berg Südwest 0.178\n",
              "133                                     zipcode_1096 0.164\n",
              "77        neighbourhood_cleansed_Karl-Marx-Allee-Süd 0.158\n",
              "50                          neighbourhood_Schöneberg 0.158\n",
              "89               neighbourhood_cleansed_Reuterstraße 0.153\n",
              "129                                     zipcode_1071 0.147\n",
              "44                               neighbourhood_Mitte 0.141"
            ]
          },
          "execution_count": 13,
          "metadata": {},
          "output_type": "execute_result"
        }
      ],
      "source": [
        "pd.set_option('display.float_format', lambda x: '%.3f' %x)\n",
        "x_col, imp = list(x_train_ylog.columns), list(model.coef_)\n",
        "pd.DataFrame({\"x\": x_col, \"Coef\": imp}).sort_values(by=\"Coef\",ascending=False)[:20]"
      ]
    },
    {
      "cell_type": "markdown",
      "metadata": {
        "id": "NUg7HvF8qDBn"
      },
      "source": [
        "#### Lasso"
      ]
    },
    {
      "cell_type": "code",
      "execution_count": null,
      "metadata": {
        "colab": {
          "base_uri": "https://localhost:8080/",
          "height": 307
        },
        "id": "4bL9joSjrYF_",
        "outputId": "aec18e9f-ed14-42c0-af01-629dc13f33bf"
      },
      "outputs": [
        {
          "name": "stdout",
          "output_type": "stream",
          "text": [
            "Index(['host_since', 'security_deposit', 'cleaning_fee', 'maximum_nights',\n",
            "       'calendar_updated', 'availability_365'],\n",
            "      dtype='object')\n",
            "6\n"
          ]
        },
        {
          "data": {
            "text/html": [
              "\n",
              "  <div id=\"df-13bfab77-766d-4389-a187-bd899ce71943\">\n",
              "    <div class=\"colab-df-container\">\n",
              "      <div>\n",
              "<style scoped>\n",
              "    .dataframe tbody tr th:only-of-type {\n",
              "        vertical-align: middle;\n",
              "    }\n",
              "\n",
              "    .dataframe tbody tr th {\n",
              "        vertical-align: top;\n",
              "    }\n",
              "\n",
              "    .dataframe thead th {\n",
              "        text-align: right;\n",
              "    }\n",
              "</style>\n",
              "<table border=\"1\" class=\"dataframe\">\n",
              "  <thead>\n",
              "    <tr style=\"text-align: right;\">\n",
              "      <th></th>\n",
              "      <th>x</th>\n",
              "      <th>Coef</th>\n",
              "    </tr>\n",
              "  </thead>\n",
              "  <tbody>\n",
              "    <tr>\n",
              "      <th>15</th>\n",
              "      <td>cleaning_fee</td>\n",
              "      <td>0.001</td>\n",
              "    </tr>\n",
              "    <tr>\n",
              "      <th>25</th>\n",
              "      <td>availability_365</td>\n",
              "      <td>0.001</td>\n",
              "    </tr>\n",
              "    <tr>\n",
              "      <th>14</th>\n",
              "      <td>security_deposit</td>\n",
              "      <td>0.000</td>\n",
              "    </tr>\n",
              "    <tr>\n",
              "      <th>0</th>\n",
              "      <td>host_since</td>\n",
              "      <td>0.000</td>\n",
              "    </tr>\n",
              "    <tr>\n",
              "      <th>166</th>\n",
              "      <td>amenities_Buildingstaff</td>\n",
              "      <td>0.000</td>\n",
              "    </tr>\n",
              "    <tr>\n",
              "      <th>167</th>\n",
              "      <td>amenities_Buzzer/wirelessintercom</td>\n",
              "      <td>0.000</td>\n",
              "    </tr>\n",
              "  </tbody>\n",
              "</table>\n",
              "</div>\n",
              "      <button class=\"colab-df-convert\" onclick=\"convertToInteractive('df-13bfab77-766d-4389-a187-bd899ce71943')\"\n",
              "              title=\"Convert this dataframe to an interactive table.\"\n",
              "              style=\"display:none;\">\n",
              "        \n",
              "  <svg xmlns=\"http://www.w3.org/2000/svg\" height=\"24px\"viewBox=\"0 0 24 24\"\n",
              "       width=\"24px\">\n",
              "    <path d=\"M0 0h24v24H0V0z\" fill=\"none\"/>\n",
              "    <path d=\"M18.56 5.44l.94 2.06.94-2.06 2.06-.94-2.06-.94-.94-2.06-.94 2.06-2.06.94zm-11 1L8.5 8.5l.94-2.06 2.06-.94-2.06-.94L8.5 2.5l-.94 2.06-2.06.94zm10 10l.94 2.06.94-2.06 2.06-.94-2.06-.94-.94-2.06-.94 2.06-2.06.94z\"/><path d=\"M17.41 7.96l-1.37-1.37c-.4-.4-.92-.59-1.43-.59-.52 0-1.04.2-1.43.59L10.3 9.45l-7.72 7.72c-.78.78-.78 2.05 0 2.83L4 21.41c.39.39.9.59 1.41.59.51 0 1.02-.2 1.41-.59l7.78-7.78 2.81-2.81c.8-.78.8-2.07 0-2.86zM5.41 20L4 18.59l7.72-7.72 1.47 1.35L5.41 20z\"/>\n",
              "  </svg>\n",
              "      </button>\n",
              "      \n",
              "  <style>\n",
              "    .colab-df-container {\n",
              "      display:flex;\n",
              "      flex-wrap:wrap;\n",
              "      gap: 12px;\n",
              "    }\n",
              "\n",
              "    .colab-df-convert {\n",
              "      background-color: #E8F0FE;\n",
              "      border: none;\n",
              "      border-radius: 50%;\n",
              "      cursor: pointer;\n",
              "      display: none;\n",
              "      fill: #1967D2;\n",
              "      height: 32px;\n",
              "      padding: 0 0 0 0;\n",
              "      width: 32px;\n",
              "    }\n",
              "\n",
              "    .colab-df-convert:hover {\n",
              "      background-color: #E2EBFA;\n",
              "      box-shadow: 0px 1px 2px rgba(60, 64, 67, 0.3), 0px 1px 3px 1px rgba(60, 64, 67, 0.15);\n",
              "      fill: #174EA6;\n",
              "    }\n",
              "\n",
              "    [theme=dark] .colab-df-convert {\n",
              "      background-color: #3B4455;\n",
              "      fill: #D2E3FC;\n",
              "    }\n",
              "\n",
              "    [theme=dark] .colab-df-convert:hover {\n",
              "      background-color: #434B5C;\n",
              "      box-shadow: 0px 1px 3px 1px rgba(0, 0, 0, 0.15);\n",
              "      filter: drop-shadow(0px 1px 2px rgba(0, 0, 0, 0.3));\n",
              "      fill: #FFFFFF;\n",
              "    }\n",
              "  </style>\n",
              "\n",
              "      <script>\n",
              "        const buttonEl =\n",
              "          document.querySelector('#df-13bfab77-766d-4389-a187-bd899ce71943 button.colab-df-convert');\n",
              "        buttonEl.style.display =\n",
              "          google.colab.kernel.accessAllowed ? 'block' : 'none';\n",
              "\n",
              "        async function convertToInteractive(key) {\n",
              "          const element = document.querySelector('#df-13bfab77-766d-4389-a187-bd899ce71943');\n",
              "          const dataTable =\n",
              "            await google.colab.kernel.invokeFunction('convertToInteractive',\n",
              "                                                     [key], {});\n",
              "          if (!dataTable) return;\n",
              "\n",
              "          const docLinkHtml = 'Like what you see? Visit the ' +\n",
              "            '<a target=\"_blank\" href=https://colab.research.google.com/notebooks/data_table.ipynb>data table notebook</a>'\n",
              "            + ' to learn more about interactive tables.';\n",
              "          element.innerHTML = '';\n",
              "          dataTable['output_type'] = 'display_data';\n",
              "          await google.colab.output.renderOutput(dataTable, element);\n",
              "          const docLink = document.createElement('div');\n",
              "          docLink.innerHTML = docLinkHtml;\n",
              "          element.appendChild(docLink);\n",
              "        }\n",
              "      </script>\n",
              "    </div>\n",
              "  </div>\n",
              "  "
            ],
            "text/plain": [
              "                                     x  Coef\n",
              "15                        cleaning_fee 0.001\n",
              "25                    availability_365 0.001\n",
              "14                    security_deposit 0.000\n",
              "0                           host_since 0.000\n",
              "166            amenities_Buildingstaff 0.000\n",
              "167  amenities_Buzzer/wirelessintercom 0.000"
            ]
          },
          "execution_count": 16,
          "metadata": {},
          "output_type": "execute_result"
        }
      ],
      "source": [
        "from sklearn import linear_model\n",
        "from sklearn.linear_model import Lasso\n",
        "\n",
        "lasso_cv = linear_model.LassoCV(cv=5,random_state=30, max_iter=5000).fit(x_train_ylog, y_train_log)\n",
        "lasso_variables = x_train_ylog.columns[lasso_cv.coef_ != 0]\n",
        "print(lasso_variables)\n",
        "print(len(lasso_variables))\n",
        "\n",
        "pd.set_option('display.float_format', lambda x: '%.3f' %x)\n",
        "x_col, imp = list(x_train_ylog.columns), list(lasso_cv.coef_)\n",
        "pd.DataFrame({\"x\": x_col, \"Coef\": imp}).sort_values(by=\"Coef\",ascending=False)[:6]"
      ]
    },
    {
      "cell_type": "markdown",
      "metadata": {
        "id": "yKpnVE4MSjA1"
      },
      "source": [
        "## Feature Selection - Evaluation\n",
        " - Random Forest: selected_variable\n",
        " - ElasticNet: elastic_variable\n",
        " - Lasso: lasso_variables\n",
        "\n",
        "由於ElasticNet只篩除2個變數(254個)，Lasso則是只留下6個變數，n_estimators=400的Random Forest則是40個，在變數的挑選上，Random Forest的數量可能是較合理的。\n",
        "我們也嘗試把三種Feature Selection的結果都丟進模型中去跑看Validation，發現Random Forest和Elastic Net結果不相上下，因此最後選擇了有效篩選feature的Random Forest作為主要Feature Selection。"
      ]
    },
    {
      "cell_type": "code",
      "execution_count": null,
      "metadata": {
        "id": "J0k2Uvgr1Kbu"
      },
      "outputs": [],
      "source": [
        "from sklearn.linear_model import LinearRegression\n",
        "from sklearn.metrics import mean_absolute_error as mae\n",
        "from sklearn.metrics import mean_squared_error as mse\n",
        "from sklearn.linear_model import Lasso\n",
        "from sklearn.linear_model import Ridge\n",
        "from sklearn.ensemble import RandomForestRegressor\n",
        "from sklearn.ensemble import GradientBoostingRegressor\n",
        "import xgboost as xgb"
      ]
    },
    {
      "cell_type": "markdown",
      "metadata": {
        "id": "WaaOVjOG7WxP"
      },
      "source": [
        "### Random Forest"
      ]
    },
    {
      "cell_type": "code",
      "execution_count": null,
      "metadata": {
        "id": "WHvQ7crPSh70"
      },
      "outputs": [],
      "source": [
        "x_train, x_test, x_valid, x_stack = x_train[selected_feat], x_test[selected_feat], x_valid[selected_feat], x_stack[selected_feat]"
      ]
    },
    {
      "cell_type": "code",
      "execution_count": null,
      "metadata": {
        "colab": {
          "base_uri": "https://localhost:8080/"
        },
        "id": "w1Oqy7ro9L5v",
        "outputId": "11859200-4dca-4095-c882-7085dec8d5c3"
      },
      "outputs": [
        {
          "output_type": "stream",
          "name": "stdout",
          "text": [
            "[118.30673171  74.16271971  28.43561822 ... 102.96636252  55.29926714\n",
            "  30.92218642]\n",
            "Linear:\n",
            "MAE 20.5416\n",
            "RMSE 76.5731\n",
            "[4.02837779 3.95513669 3.71277489 ... 4.02720119 4.02631009 3.8356948 ]\n",
            "Lasso:\n",
            "MAE 57.6218\n",
            "RMSE 102.9762\n",
            "[118.27122633  74.16562401  28.42819675 ... 102.97050119  55.27447192\n",
            "  30.94021677]\n",
            "Ridge:\n",
            "MAE 20.5421\n",
            "RMSE 76.5782\n",
            "[111.81683796  82.31201382  30.65260833 ... 109.55441974  54.21455332\n",
            "  25.83497989]\n",
            "Random Forest:\n",
            "MAE 18.4188\n",
            "RMSE 73.1571\n",
            "[109.69865127  81.19093182  26.28192224 ... 110.02580406  59.05994201\n",
            "  27.71118995]\n",
            "Gradient Boosting Regressor:\n",
            "MAE 18.5876\n",
            "RMSE 72.8316\n",
            "[07:36:03] WARNING: /workspace/src/objective/regression_obj.cu:152: reg:linear is now deprecated in favor of reg:squarederror.\n",
            "[111.63437   80.438515  25.98295  ... 111.45859   59.64546   29.351103]\n",
            "XGBoost:\n",
            "MAE 18.7083\n",
            "RMSE 72.4802\n"
          ]
        }
      ],
      "source": [
        "# Linear\n",
        "lr_log = LinearRegression().fit(x_train.loc[y_train[y_train > 0].index], y_train_log)\n",
        "y_valid_pred = np.exp(lr_log.predict(x_valid))\n",
        "print(y_valid_pred)\n",
        "print(\"Linear:\")\n",
        "print('MAE {:.4f}'.format(mae(y_valid, y_valid_pred)))\n",
        "print('RMSE {:.4f}'.format(mse(y_valid, y_valid_pred, squared=False)))\n",
        "\n",
        "# Lasso\n",
        "# y_log\n",
        "lasso = Lasso(positive=True).fit(x_train.loc[y_train[y_train > 0].index], y_train_log)\n",
        "y_valid_pred = lasso.predict(x_valid)\n",
        "print(y_valid_pred)\n",
        "print(\"Lasso:\")\n",
        "print('MAE {:.4f}'.format(mae(y_valid, y_valid_pred)))\n",
        "print('RMSE {:.4f}'.format(mse(y_valid, y_valid_pred, squared=False)))\n",
        "\n",
        "\n",
        "# Ridge\n",
        "# y_log\n",
        "ridge_log = Ridge().fit(x_train.loc[y_train[y_train > 0].index], y_train_log)\n",
        "y_valid_pred = np.exp(ridge_log.predict(x_valid))\n",
        "print(y_valid_pred)\n",
        "print(\"Ridge:\")\n",
        "print('MAE {:.4f}'.format(mae(y_valid, y_valid_pred)))\n",
        "print('RMSE {:.4f}'.format(mse(y_valid, y_valid_pred, squared=False)))\n",
        "\n",
        "# Random Forest\n",
        "rf_log = RandomForestRegressor().fit(x_train.loc[y_train[y_train > 0].index], y_train_log)\n",
        "y_valid_pred = np.exp(rf_log.predict(x_valid))\n",
        "print(y_valid_pred)\n",
        "print(\"Random Forest:\")\n",
        "print('MAE {:.4f}'.format(mae(y_valid, y_valid_pred)))\n",
        "print('RMSE {:.4f}'.format(mse(y_valid, y_valid_pred, squared=False)))\n",
        "\n",
        "# Gradient Boosting Regressor\n",
        "gb_log = GradientBoostingRegressor().fit(x_train.loc[y_train[y_train > 0].index], y_train_log)\n",
        "y_valid_pred = np.exp(gb_log.predict(x_valid))\n",
        "print(y_valid_pred)\n",
        "print(\"Gradient Boosting Regressor:\")\n",
        "print('MAE {:.4f}'.format(mae(y_valid, y_valid_pred)))\n",
        "print('RMSE {:.4f}'.format(mse(y_valid, y_valid_pred, squared=False)))\n",
        "\n",
        "# XGBoost\n",
        "xg_log = xgb.XGBRegressor(eval_metric='mae').fit(x_train.loc[y_train[y_train > 0].index], y_train_log)\n",
        "y_valid_pred = np.exp(xg_log.predict(x_valid))\n",
        "print(y_valid_pred)\n",
        "print(\"XGBoost:\")\n",
        "print('MAE {:.4f}'.format(mae(y_valid, y_valid_pred)))\n",
        "print('RMSE {:.4f}'.format(mse(y_valid, y_valid_pred, squared=False)))\n"
      ]
    },
    {
      "cell_type": "markdown",
      "metadata": {
        "id": "ICUbN3AcxXag"
      },
      "source": [
        "### ElasticNet variables"
      ]
    },
    {
      "cell_type": "code",
      "execution_count": null,
      "metadata": {
        "id": "A76uz47qxWxP"
      },
      "outputs": [],
      "source": [
        "x_train, x_test, y_train, y_test = train_test_split(x, y, test_size=0.2, random_state=42)\n",
        "x_train, x_valid, y_train, y_valid = train_test_split(x_train, y_train, test_size=0.125, random_state=42)\n",
        "x_test, x_stack, y_test, y_stack = train_test_split(x_test, y_test, test_size=0.5, random_state=42)\n",
        "y_train_log = np.log(y_train[y_train > 0])\n",
        "x_train_ylog = x_train.loc[y_train[y_train > 0].index]\n",
        "x_train, x_test, x_valid, x_stack = x_train[elastic_variables], x_test[elastic_variables], x_valid[elastic_variables], x_stack[elastic_variables]"
      ]
    },
    {
      "cell_type": "code",
      "execution_count": null,
      "metadata": {
        "colab": {
          "base_uri": "https://localhost:8080/"
        },
        "id": "d5_4UShH5lTk",
        "outputId": "8b1c0562-ad09-42ce-f5e3-cfd0f5ecca11"
      },
      "outputs": [
        {
          "name": "stdout",
          "output_type": "stream",
          "text": [
            "[ 70.69866746 127.04619701  25.8765427  ...  36.32890492  40.57913982\n",
            "  37.99944694]\n",
            "Linear:\n",
            "MAE 25.9518\n",
            "RMSE 188.1486\n",
            "[3.68315644 3.99441541 3.65923414 ... 3.79301519 3.85965015 3.77059277]\n",
            "Lasso:\n",
            "MAE 61.9861\n",
            "RMSE 204.5468\n",
            "[ 70.73162524 127.06225194  25.84129462 ...  36.38475439  40.6150373\n",
            "  37.97991809]\n",
            "Ridge:\n",
            "MAE 25.9520\n",
            "RMSE 188.4093\n",
            "[ 64.35310205 114.90398098  27.32314644 ...  44.34193499  45.66762985\n",
            "  35.85476664]\n",
            "Random Forest:\n",
            "MAE 18.5155\n",
            "RMSE 66.8954\n",
            "[ 62.3770126  119.49317961  29.25352686 ...  47.58828991  47.92366281\n",
            "  34.48805838]\n",
            "Gradient Boosting Regressor:\n",
            "MAE 20.8613\n",
            "RMSE 125.5368\n",
            "[13:40:34] WARNING: /workspace/src/objective/regression_obj.cu:152: reg:linear is now deprecated in favor of reg:squarederror.\n",
            "[ 59.942924 116.973915  28.970476 ...  48.66079   47.492943  34.50936 ]\n",
            "XGBoost:\n",
            "MAE 20.9308\n",
            "RMSE 126.2815\n"
          ]
        }
      ],
      "source": [
        "# Linear\n",
        "lr_log = LinearRegression().fit(x_train.loc[y_train[y_train > 0].index], y_train_log)\n",
        "y_valid_pred = np.exp(lr_log.predict(x_valid))\n",
        "print(y_valid_pred)\n",
        "print(\"Linear:\")\n",
        "print('MAE {:.4f}'.format(mae(y_valid, y_valid_pred)))\n",
        "print('RMSE {:.4f}'.format(mse(y_valid, y_valid_pred, squared=False)))\n",
        "\n",
        "# Lasso\n",
        "# y_log\n",
        "from sklearn.linear_model import Lasso\n",
        "\n",
        "lasso = Lasso(positive=True).fit(x_train.loc[y_train[y_train > 0].index], y_train_log)\n",
        "y_valid_pred = lasso.predict(x_valid)\n",
        "print(y_valid_pred)\n",
        "print(\"Lasso:\")\n",
        "print('MAE {:.4f}'.format(mae(y_valid, y_valid_pred)))\n",
        "print('RMSE {:.4f}'.format(mse(y_valid, y_valid_pred, squared=False)))\n",
        "\n",
        "\n",
        "# Ridge\n",
        "# y_log\n",
        "from sklearn.linear_model import Ridge\n",
        "ridge_log = Ridge().fit(x_train.loc[y_train[y_train > 0].index], y_train_log)\n",
        "y_valid_pred = np.exp(ridge_log.predict(x_valid))\n",
        "print(y_valid_pred)\n",
        "print(\"Ridge:\")\n",
        "print('MAE {:.4f}'.format(mae(y_valid, y_valid_pred)))\n",
        "print('RMSE {:.4f}'.format(mse(y_valid, y_valid_pred, squared=False)))\n",
        "\n",
        "# Random Forest\n",
        "rf_log = RandomForestRegressor().fit(x_train.loc[y_train[y_train > 0].index], y_train_log)\n",
        "y_valid_pred = np.exp(rf_log.predict(x_valid))\n",
        "print(y_valid_pred)\n",
        "print(\"Random Forest:\")\n",
        "print('MAE {:.4f}'.format(mae(y_valid, y_valid_pred)))\n",
        "print('RMSE {:.4f}'.format(mse(y_valid, y_valid_pred, squared=False)))\n",
        "\n",
        "# Gradient Boosting Regressor\n",
        "gb_log = GradientBoostingRegressor().fit(x_train.loc[y_train[y_train > 0].index], y_train_log)\n",
        "y_valid_pred = np.exp(gb_log.predict(x_valid))\n",
        "print(y_valid_pred)\n",
        "print(\"Gradient Boosting Regressor:\")\n",
        "print('MAE {:.4f}'.format(mae(y_valid, y_valid_pred)))\n",
        "print('RMSE {:.4f}'.format(mse(y_valid, y_valid_pred, squared=False)))\n",
        "\n",
        "# XGBoost\n",
        "xg_log = xgb.XGBRegressor(eval_metric='mae').fit(x_train.loc[y_train[y_train > 0].index], y_train_log)\n",
        "y_valid_pred = np.exp(xg_log.predict(x_valid))\n",
        "print(y_valid_pred)\n",
        "print(\"XGBoost:\")\n",
        "print('MAE {:.4f}'.format(mae(y_valid, y_valid_pred)))\n",
        "print('RMSE {:.4f}'.format(mse(y_valid, y_valid_pred, squared=False)))"
      ]
    },
    {
      "cell_type": "markdown",
      "metadata": {
        "id": "GU-JuzeHrqw9"
      },
      "source": [
        "### Lasso"
      ]
    },
    {
      "cell_type": "code",
      "execution_count": null,
      "metadata": {
        "id": "R8DnxWPx8vmN"
      },
      "outputs": [],
      "source": [
        "x_train, x_test, y_train, y_test = train_test_split(x, y, test_size=0.2, random_state=42)\n",
        "x_train, x_valid, y_train, y_valid = train_test_split(x_train, y_train, test_size=0.125, random_state=42)\n",
        "x_test, x_stack, y_test, y_stack = train_test_split(x_test, y_test, test_size=0.5, random_state=42)\n",
        "y_train_log = np.log(y_train[y_train > 0])\n",
        "x_train_ylog = x_train.loc[y_train[y_train > 0].index]\n",
        "x_train, x_test, x_valid, x_stack = x_train[lasso_variables], x_test[lasso_variables], x_valid[lasso_variables], x_stack[lasso_variables]"
      ]
    },
    {
      "cell_type": "code",
      "execution_count": null,
      "metadata": {
        "colab": {
          "base_uri": "https://localhost:8080/"
        },
        "id": "WNhtJNpf81q3",
        "outputId": "d8981c7d-71fa-4729-e989-730e84de59b0"
      },
      "outputs": [
        {
          "name": "stdout",
          "output_type": "stream",
          "text": [
            "[38.92339245 57.56506853 38.1778296  ... 41.38391021 43.69090883\n",
            " 40.95533235]\n",
            "Linear:\n",
            "MAE 33.0705\n",
            "RMSE 197.2072\n",
            "[3.69092252 4.01224798 3.66926676 ... 3.73336118 3.80615181 3.75600364]\n",
            "Lasso:\n",
            "MAE 61.9858\n",
            "RMSE 204.5487\n",
            "[38.92339293 57.56506716 38.17782996 ... 41.38391047 43.69090974\n",
            " 40.95533345]\n",
            "Ridge:\n",
            "MAE 33.0705\n",
            "RMSE 197.2072\n",
            "[38.31582408 61.93843497 29.17509539 ... 27.91128991 36.5926432\n",
            " 50.23530782]\n",
            "Random Forest:\n",
            "MAE 27.4888\n",
            "RMSE 144.2865\n",
            "[35.41070039 66.26880881 33.75322434 ... 35.21116658 45.60705403\n",
            " 55.53887882]\n",
            "Gradient Boosting Regressor:\n",
            "MAE 30.4509\n",
            "RMSE 184.6454\n",
            "[13:48:38] WARNING: /workspace/src/objective/regression_obj.cu:152: reg:linear is now deprecated in favor of reg:squarederror.\n",
            "[35.376503 66.28888  33.633    ... 36.761364 45.03749  55.22077 ]\n",
            "XGBoost:\n",
            "MAE 30.5449\n",
            "RMSE 187.0946\n"
          ]
        }
      ],
      "source": [
        "# Linear\n",
        "lr_log = LinearRegression().fit(x_train.loc[y_train[y_train > 0].index], y_train_log)\n",
        "y_valid_pred = np.exp(lr_log.predict(x_valid))\n",
        "print(y_valid_pred)\n",
        "print(\"Linear:\")\n",
        "print('MAE {:.4f}'.format(mae(y_valid, y_valid_pred)))\n",
        "print('RMSE {:.4f}'.format(mse(y_valid, y_valid_pred, squared=False)))\n",
        "\n",
        "# Lasso\n",
        "# y_log\n",
        "from sklearn.linear_model import Lasso\n",
        "\n",
        "lasso = Lasso(positive=True).fit(x_train.loc[y_train[y_train > 0].index], y_train_log)\n",
        "y_valid_pred = lasso.predict(x_valid)\n",
        "print(y_valid_pred)\n",
        "print(\"Lasso:\")\n",
        "print('MAE {:.4f}'.format(mae(y_valid, y_valid_pred)))\n",
        "print('RMSE {:.4f}'.format(mse(y_valid, y_valid_pred, squared=False)))\n",
        "\n",
        "\n",
        "# Ridge\n",
        "# y_log\n",
        "from sklearn.linear_model import Ridge\n",
        "ridge_log = Ridge().fit(x_train.loc[y_train[y_train > 0].index], y_train_log)\n",
        "y_valid_pred = np.exp(ridge_log.predict(x_valid))\n",
        "print(y_valid_pred)\n",
        "print(\"Ridge:\")\n",
        "print('MAE {:.4f}'.format(mae(y_valid, y_valid_pred)))\n",
        "print('RMSE {:.4f}'.format(mse(y_valid, y_valid_pred, squared=False)))\n",
        "\n",
        "# Random Forest\n",
        "rf_log = RandomForestRegressor().fit(x_train.loc[y_train[y_train > 0].index], y_train_log)\n",
        "y_valid_pred = np.exp(rf_log.predict(x_valid))\n",
        "print(y_valid_pred)\n",
        "print(\"Random Forest:\")\n",
        "print('MAE {:.4f}'.format(mae(y_valid, y_valid_pred)))\n",
        "print('RMSE {:.4f}'.format(mse(y_valid, y_valid_pred, squared=False)))\n",
        "\n",
        "# Gradient Boosting Regressor\n",
        "gb_log = GradientBoostingRegressor().fit(x_train.loc[y_train[y_train > 0].index], y_train_log)\n",
        "y_valid_pred = np.exp(gb_log.predict(x_valid))\n",
        "print(y_valid_pred)\n",
        "print(\"Gradient Boosting Regressor:\")\n",
        "print('MAE {:.4f}'.format(mae(y_valid, y_valid_pred)))\n",
        "print('RMSE {:.4f}'.format(mse(y_valid, y_valid_pred, squared=False)))\n",
        "\n",
        "# XGBoost\n",
        "xg_log = xgb.XGBRegressor(eval_metric='mae').fit(x_train.loc[y_train[y_train > 0].index], y_train_log)\n",
        "y_valid_pred = np.exp(xg_log.predict(x_valid))\n",
        "print(y_valid_pred)\n",
        "print(\"XGBoost:\")\n",
        "print('MAE {:.4f}'.format(mae(y_valid, y_valid_pred)))\n",
        "print('RMSE {:.4f}'.format(mse(y_valid, y_valid_pred, squared=False)))"
      ]
    },
    {
      "cell_type": "markdown",
      "metadata": {
        "id": "SJKxCNTsrjfR"
      },
      "source": [
        "## Model Evaluation"
      ]
    },
    {
      "cell_type": "code",
      "execution_count": null,
      "metadata": {
        "id": "XqpC4ksaq6bo"
      },
      "outputs": [],
      "source": [
        "x_train, x_test, y_train, y_test = train_test_split(x, y, test_size=0.2, random_state=42)\n",
        "x_train, x_valid, y_train, y_valid = train_test_split(x_train, y_train, test_size=0.125, random_state=42)\n",
        "x_test, x_stack, y_test, y_stack = train_test_split(x_test, y_test, test_size=0.5, random_state=42)\n",
        "y_train_log = np.log(y_train[y_train > 0])\n",
        "x_train_ylog = x_train.loc[y_train[y_train > 0].index]\n",
        "x_train, x_test, x_valid, x_stack = x_train[selected_feat], x_test[selected_feat], x_valid[selected_feat], x_stack[selected_feat]"
      ]
    },
    {
      "cell_type": "code",
      "execution_count": null,
      "metadata": {
        "id": "bunKgJAT1R1z"
      },
      "outputs": [],
      "source": [
        "from sklearn.linear_model import LinearRegression\n",
        "from sklearn.metrics import mean_absolute_error as mae\n",
        "from sklearn.metrics import mean_squared_error as mse\n",
        "from sklearn.linear_model import Lasso\n",
        "from sklearn.linear_model import Ridge\n",
        "from sklearn.ensemble import RandomForestRegressor\n",
        "from sklearn.ensemble import GradientBoostingRegressor\n",
        "import xgboost as xgb"
      ]
    },
    {
      "cell_type": "markdown",
      "metadata": {
        "id": "QKY-6GLhLuHO"
      },
      "source": [
        "#### Linear Regression - rf"
      ]
    },
    {
      "cell_type": "code",
      "execution_count": null,
      "metadata": {
        "colab": {
          "base_uri": "https://localhost:8080/"
        },
        "id": "JS26jxU1N_q2",
        "outputId": "fe8d4cb1-826e-43a5-8115-92446c337b19"
      },
      "outputs": [
        {
          "output_type": "stream",
          "name": "stdout",
          "text": [
            "[144.5784507   78.4018113   11.11534215 ... 114.98837994  68.25780261\n",
            "  31.95527155]\n",
            "MAE 24.1594\n",
            "RMSE 76.5549\n"
          ]
        }
      ],
      "source": [
        "lr = LinearRegression(positive=True).fit(x_train, y_train)\n",
        "y_valid_pred = lr.predict(x_valid)\n",
        "print(y_valid_pred)\n",
        "print('MAE {:.4f}'.format(mae(y_valid, y_valid_pred)))\n",
        "print('RMSE {:.4f}'.format(mse(y_valid, y_valid_pred, squared=False)))"
      ]
    },
    {
      "cell_type": "markdown",
      "metadata": {
        "id": "g-9D1_OSPMUj"
      },
      "source": [
        "模型表現非常差，且預測結果有部分為負值，因此可轉換y，使模型不會預測出負數的結果"
      ]
    },
    {
      "cell_type": "code",
      "execution_count": null,
      "metadata": {
        "colab": {
          "base_uri": "https://localhost:8080/"
        },
        "id": "3xkHfajaQv8T",
        "outputId": "9d89b3bc-0e2f-4e20-b280-8cb858b41569"
      },
      "outputs": [
        {
          "output_type": "stream",
          "name": "stdout",
          "text": [
            "[118.30673171  74.16271971  28.43561822 ... 102.96636252  55.29926714\n",
            "  30.92218642]\n",
            "MAE 20.5416\n",
            "RMSE 76.5731\n"
          ]
        }
      ],
      "source": [
        "lr_log = LinearRegression().fit(x_train.loc[y_train[y_train > 0].index], y_train_log)\n",
        "y_valid_pred = np.exp(lr_log.predict(x_valid))\n",
        "print(y_valid_pred)\n",
        "print('MAE {:.4f}'.format(mae(y_valid, y_valid_pred)))\n",
        "print('RMSE {:.4f}'.format(mse(y_valid, y_valid_pred, squared=False)))"
      ]
    },
    {
      "cell_type": "markdown",
      "metadata": {
        "id": "RhMtMYAhVrJW"
      },
      "source": [
        "#### Lasso - rf"
      ]
    },
    {
      "cell_type": "code",
      "execution_count": null,
      "metadata": {
        "colab": {
          "base_uri": "https://localhost:8080/"
        },
        "id": "q6JwPZ55Vu96",
        "outputId": "e39ac9d8-7629-41c9-a097-5b62b76d5f1d"
      },
      "outputs": [
        {
          "name": "stdout",
          "output_type": "stream",
          "text": [
            "[129.01981067  82.37312029  12.66808775 ... 114.31599009  65.13869173\n",
            "  34.78703812]\n",
            "MAE 24.0306\n",
            "RMSE 77.4498\n"
          ]
        }
      ],
      "source": [
        "lasso = Lasso(positive=True).fit(x_train, y_train)\n",
        "y_valid_pred = lasso.predict(x_valid)\n",
        "print(y_valid_pred)\n",
        "print('MAE {:.4f}'.format(mae(y_valid, y_valid_pred)))\n",
        "print('RMSE {:.4f}'.format(mse(y_valid, y_valid_pred, squared=False)))"
      ]
    },
    {
      "cell_type": "code",
      "execution_count": null,
      "metadata": {
        "colab": {
          "base_uri": "https://localhost:8080/"
        },
        "id": "Je8N_5I0TkpN",
        "outputId": "6f77a89d-f741-45fb-ef82-47846e1d72c8"
      },
      "outputs": [
        {
          "name": "stdout",
          "output_type": "stream",
          "text": [
            "[4.02837779 3.95513669 3.71277489 ... 4.02720119 4.02631009 3.8356948 ]\n",
            "MAE 57.6218\n",
            "RMSE 102.9762\n"
          ]
        }
      ],
      "source": [
        "# y_log\n",
        "lasso = Lasso(positive=True).fit(x_train.loc[y_train[y_train > 0].index], y_train_log)\n",
        "y_valid_pred = lasso.predict(x_valid)\n",
        "print(y_valid_pred)\n",
        "print('MAE {:.4f}'.format(mae(y_valid, y_valid_pred)))\n",
        "print('RMSE {:.4f}'.format(mse(y_valid, y_valid_pred, squared=False)))"
      ]
    },
    {
      "cell_type": "markdown",
      "metadata": {
        "id": "9YJi57NLZSsg"
      },
      "source": [
        "#### Ridge - rf"
      ]
    },
    {
      "cell_type": "code",
      "execution_count": null,
      "metadata": {
        "colab": {
          "base_uri": "https://localhost:8080/"
        },
        "id": "2arHHLVKZS4j",
        "outputId": "23647bef-d002-4d21-fcd5-7f98ec641caf"
      },
      "outputs": [
        {
          "name": "stdout",
          "output_type": "stream",
          "text": [
            "[58.51404152 50.98094362 50.75386637 ... 59.26024689 83.62041446\n",
            " 68.22393906]\n",
            "MAE 30.8666\n",
            "RMSE 83.9585\n"
          ]
        }
      ],
      "source": [
        "ridge = Ridge(positive=True).fit(x_train, y_train)\n",
        "y_valid_pred = ridge.predict(x_valid)\n",
        "print(y_valid_pred)\n",
        "print('MAE {:.4f}'.format(mae(y_valid, y_valid_pred)))\n",
        "print('RMSE {:.4f}'.format(mse(y_valid, y_valid_pred, squared=False)))"
      ]
    },
    {
      "cell_type": "code",
      "execution_count": null,
      "metadata": {
        "colab": {
          "base_uri": "https://localhost:8080/"
        },
        "id": "sMByscC8ZS77",
        "outputId": "6cd45549-aacb-4f43-a30f-b7e72d22f1c0"
      },
      "outputs": [
        {
          "name": "stdout",
          "output_type": "stream",
          "text": [
            "[118.27122633  74.16562401  28.42819675 ... 102.97050119  55.27447192\n",
            "  30.94021677]\n",
            "MAE 20.5421\n",
            "RMSE 76.5782\n"
          ]
        }
      ],
      "source": [
        "# y_log\n",
        "ridge_log = Ridge().fit(x_train.loc[y_train[y_train > 0].index], y_train_log)\n",
        "y_valid_pred = np.exp(ridge_log.predict(x_valid))\n",
        "print(y_valid_pred)\n",
        "print('MAE {:.4f}'.format(mae(y_valid, y_valid_pred)))\n",
        "print('RMSE {:.4f}'.format(mse(y_valid, y_valid_pred, squared=False)))"
      ]
    },
    {
      "cell_type": "markdown",
      "metadata": {
        "id": "XaaqPM5VPy-K"
      },
      "source": [
        "#### Random Forest - rf"
      ]
    },
    {
      "cell_type": "code",
      "execution_count": null,
      "metadata": {
        "colab": {
          "base_uri": "https://localhost:8080/"
        },
        "id": "2GgoG5gMZ78Y",
        "outputId": "3520c3fd-c582-49f3-9415-35be104e0a33"
      },
      "outputs": [
        {
          "name": "stdout",
          "output_type": "stream",
          "text": [
            "[113.22  83.73  34.42 ... 116.87  70.47  27.93]\n",
            "MAE 20.0563\n",
            "RMSE 73.0865\n"
          ]
        }
      ],
      "source": [
        "rf = RandomForestRegressor().fit(x_train, y_train)\n",
        "y_valid_pred = rf.predict(x_valid)\n",
        "print(y_valid_pred)\n",
        "print('MAE {:.4f}'.format(mae(y_valid, y_valid_pred)))\n",
        "print('RMSE {:.4f}'.format(mse(y_valid, y_valid_pred, squared=False)))"
      ]
    },
    {
      "cell_type": "code",
      "execution_count": null,
      "metadata": {
        "colab": {
          "base_uri": "https://localhost:8080/"
        },
        "id": "Ql9wCJ57T7rn",
        "outputId": "0e3809f1-85b2-44fb-b416-c0701dd3ba17"
      },
      "outputs": [
        {
          "name": "stdout",
          "output_type": "stream",
          "text": [
            "[108.76963973  84.7744942   32.08450208 ... 117.28529335  55.63207747\n",
            "  24.82692924]\n",
            "MAE 18.3601\n",
            "RMSE 72.9509\n"
          ]
        }
      ],
      "source": [
        "# y_log\n",
        "rf_log = RandomForestRegressor().fit(x_train.loc[y_train[y_train > 0].index], y_train_log)\n",
        "y_valid_pred = np.exp(rf_log.predict(x_valid))\n",
        "print(y_valid_pred)\n",
        "print('MAE {:.4f}'.format(mae(y_valid, y_valid_pred)))\n",
        "print('RMSE {:.4f}'.format(mse(y_valid, y_valid_pred, squared=False)))"
      ]
    },
    {
      "cell_type": "markdown",
      "metadata": {
        "id": "RunUcET0aKLk"
      },
      "source": [
        "#### Gradient Boosting Regressor - rf"
      ]
    },
    {
      "cell_type": "code",
      "execution_count": null,
      "metadata": {
        "colab": {
          "base_uri": "https://localhost:8080/"
        },
        "id": "db-tsxAbaQK8",
        "outputId": "c745ac3f-814a-441e-e05b-bd93c2afa246"
      },
      "outputs": [
        {
          "name": "stdout",
          "output_type": "stream",
          "text": [
            "[120.14241608  78.85300315  33.29659869 ... 111.35588744  64.23735548\n",
            "  33.98430421]\n",
            "MAE 19.8989\n",
            "RMSE 71.9480\n"
          ]
        }
      ],
      "source": [
        "gb = GradientBoostingRegressor().fit(x_train, y_train)\n",
        "y_valid_pred = gb.predict(x_valid)\n",
        "print(y_valid_pred)\n",
        "print('MAE {:.4f}'.format(mae(y_valid, y_valid_pred)))\n",
        "print('RMSE {:.4f}'.format(mse(y_valid, y_valid_pred, squared=False)))"
      ]
    },
    {
      "cell_type": "code",
      "execution_count": null,
      "metadata": {
        "colab": {
          "base_uri": "https://localhost:8080/"
        },
        "id": "2bqsfhD2MQN9",
        "outputId": "130c5525-8942-4c39-bfe8-17e7ef1efd9d"
      },
      "outputs": [
        {
          "name": "stdout",
          "output_type": "stream",
          "text": [
            "[109.69865127  81.19093182  26.28192224 ... 110.02580406  59.05994201\n",
            "  27.71118995]\n",
            "MAE 18.5662\n",
            "RMSE 72.8171\n"
          ]
        }
      ],
      "source": [
        "# y_log\n",
        "gb_log = GradientBoostingRegressor().fit(x_train.loc[y_train[y_train > 0].index], y_train_log)\n",
        "y_valid_pred = np.exp(gb_log.predict(x_valid))\n",
        "print(y_valid_pred)\n",
        "print('MAE {:.4f}'.format(mae(y_valid, y_valid_pred)))\n",
        "print('RMSE {:.4f}'.format(mse(y_valid, y_valid_pred, squared=False)))"
      ]
    },
    {
      "cell_type": "markdown",
      "metadata": {
        "id": "4vu_w8cebgXg"
      },
      "source": [
        "#### XGBoost - rf"
      ]
    },
    {
      "cell_type": "code",
      "execution_count": null,
      "metadata": {
        "colab": {
          "base_uri": "https://localhost:8080/"
        },
        "id": "cyx7WFwIm9mm",
        "outputId": "f22e7496-e310-46c5-fada-762cd5219e63"
      },
      "outputs": [
        {
          "name": "stdout",
          "output_type": "stream",
          "text": [
            "[16:33:37] WARNING: /workspace/src/objective/regression_obj.cu:152: reg:linear is now deprecated in favor of reg:squarederror.\n",
            "[124.80225   77.57628   33.14533  ... 107.537766  63.181225  34.17374 ]\n",
            "MAE 20.1658\n",
            "RMSE 73.1090\n"
          ]
        }
      ],
      "source": [
        "xg = xgb.XGBRegressor(eval_metric='mae').fit(x_train, y_train)\n",
        "y_valid_pred = xg.predict(x_valid)\n",
        "print(y_valid_pred)\n",
        "print('MAE {:.4f}'.format(mae(y_valid, y_valid_pred)))\n",
        "print('RMSE {:.4f}'.format(mse(y_valid, y_valid_pred, squared=False)))"
      ]
    },
    {
      "cell_type": "code",
      "execution_count": null,
      "metadata": {
        "colab": {
          "base_uri": "https://localhost:8080/"
        },
        "id": "nkSeMDIhbTEE",
        "outputId": "44645e93-68ea-41f9-87c6-f6b7c7448225"
      },
      "outputs": [
        {
          "name": "stdout",
          "output_type": "stream",
          "text": [
            "[16:33:39] WARNING: /workspace/src/objective/regression_obj.cu:152: reg:linear is now deprecated in favor of reg:squarederror.\n",
            "[111.63437   80.438515  25.98295  ... 111.45859   59.64546   29.351103]\n",
            "MAE 18.7083\n",
            "RMSE 72.4802\n"
          ]
        }
      ],
      "source": [
        "# y_log\n",
        "xg_log = xgb.XGBRegressor(eval_metric='mae').fit(x_train.loc[y_train[y_train > 0].index], y_train_log)\n",
        "y_valid_pred = np.exp(xg_log.predict(x_valid))\n",
        "print(y_valid_pred)\n",
        "print('MAE {:.4f}'.format(mae(y_valid, y_valid_pred)))\n",
        "print('RMSE {:.4f}'.format(mse(y_valid, y_valid_pred, squared=False)))"
      ]
    },
    {
      "cell_type": "markdown",
      "metadata": {
        "id": "fzn28OrIsWxc"
      },
      "source": [
        "### Conclusion\n",
        "價格的預測在經濟研究上時常以log變數來衡量彈性變化，也避免所衡量的數值產生負值問題，因此log表現整體來說較一搬變數好。以下我們使用log變數。"
      ]
    },
    {
      "cell_type": "markdown",
      "metadata": {
        "id": "wCyTNU82uX_r"
      },
      "source": [
        "## Hyperparameter Tuning"
      ]
    },
    {
      "cell_type": "code",
      "execution_count": null,
      "metadata": {
        "id": "nEWU22W4ucL3"
      },
      "outputs": [],
      "source": [
        "from sklearn.model_selection import train_test_split\n",
        "from sklearn.model_selection import  StratifiedKFold, GridSearchCV\n",
        "import numpy as np\n",
        "import pandas as pd\n",
        "import math\n",
        "from sklearn.ensemble import GradientBoostingRegressor\n",
        "from sklearn.metrics import mean_absolute_error as mae\n",
        "from sklearn.metrics import mean_squared_error as mse"
      ]
    },
    {
      "cell_type": "code",
      "execution_count": null,
      "metadata": {
        "id": "av9RGsA2vEig"
      },
      "outputs": [],
      "source": [
        "tmp_x_train = x_train.loc[y_train[y_train > 0].index]\n",
        "tmp_x_valid = x_valid.loc[y_valid[y_valid > 0].index]\n",
        "y_train_log = np.log(y_train[y_train > 0])\n",
        "y_valid_log = np.log(y_valid[y_valid > 0])"
      ]
    },
    {
      "cell_type": "markdown",
      "metadata": {
        "id": "YCNZX933v8DG"
      },
      "source": [
        "#### Random Forest"
      ]
    },
    {
      "cell_type": "code",
      "execution_count": null,
      "metadata": {
        "id": "-rvViRb33EeG"
      },
      "outputs": [],
      "source": [
        "log_y = np.log(y[y > 0])\n",
        "log_x = x.loc[y[y > 0].index] #不能跑log"
      ]
    },
    {
      "cell_type": "code",
      "execution_count": null,
      "metadata": {
        "id": "5BmEUcOc1gPn"
      },
      "outputs": [],
      "source": [
        "x_train, x_test, y_train, y_test = train_test_split(x, y, test_size=0.2, random_state=42)\n",
        "x_train, x_test = x_train[selected_feat], x_test[selected_feat]"
      ]
    },
    {
      "cell_type": "code",
      "execution_count": null,
      "metadata": {
        "id": "i_rWjikKv90j"
      },
      "outputs": [],
      "source": [
        "random_state = 42\n",
        "rf = RandomForestRegressor(random_state=random_state)\n",
        "rf_param_grid = {\"n_estimators\": [100,300],\n",
        "                \"criterion\":[\"squared_error\"],\n",
        "                \"min_samples_leaf\":[1,3,10],\n",
        "                \"bootstrap\":[True]}"
      ]
    },
    {
      "cell_type": "code",
      "execution_count": null,
      "metadata": {
        "colab": {
          "base_uri": "https://localhost:8080/",
          "height": 401
        },
        "id": "OYLiCbaqwm58",
        "outputId": "f9743d88-6995-474b-e16d-960a9011c487"
      },
      "outputs": [
        {
          "output_type": "stream",
          "name": "stdout",
          "text": [
            "Fitting 10 folds for each of 6 candidates, totalling 60 fits\n"
          ]
        },
        {
          "output_type": "error",
          "ename": "KeyboardInterrupt",
          "evalue": "ignored",
          "traceback": [
            "\u001b[0;31m---------------------------------------------------------------------------\u001b[0m",
            "\u001b[0;31mKeyboardInterrupt\u001b[0m                         Traceback (most recent call last)",
            "\u001b[0;32m<ipython-input-18-20c85515baaa>\u001b[0m in \u001b[0;36m<module>\u001b[0;34m()\u001b[0m\n\u001b[1;32m      4\u001b[0m                     scoring = \"neg_mean_absolute_error\", n_jobs = -1, verbose = 1)\n\u001b[1;32m      5\u001b[0m                     \u001b[0;31m# verbose: Controls the verbosity: the higher, the more messages.\u001b[0m\u001b[0;34m\u001b[0m\u001b[0;34m\u001b[0m\u001b[0;34m\u001b[0m\u001b[0m\n\u001b[0;32m----> 6\u001b[0;31m \u001b[0mreg\u001b[0m\u001b[0;34m.\u001b[0m\u001b[0mfit\u001b[0m\u001b[0;34m(\u001b[0m\u001b[0mx_train\u001b[0m\u001b[0;34m,\u001b[0m\u001b[0my_train\u001b[0m\u001b[0;34m)\u001b[0m\u001b[0;34m\u001b[0m\u001b[0;34m\u001b[0m\u001b[0m\n\u001b[0m\u001b[1;32m      7\u001b[0m \u001b[0mprint\u001b[0m\u001b[0;34m(\u001b[0m\u001b[0mreg\u001b[0m\u001b[0;34m.\u001b[0m\u001b[0mbest_score_\u001b[0m\u001b[0;34m)\u001b[0m\u001b[0;34m\u001b[0m\u001b[0;34m\u001b[0m\u001b[0m\n\u001b[1;32m      8\u001b[0m \u001b[0mprint\u001b[0m\u001b[0;34m(\u001b[0m\u001b[0mreg\u001b[0m\u001b[0;34m.\u001b[0m\u001b[0mbest_estimator_\u001b[0m\u001b[0;34m)\u001b[0m\u001b[0;34m\u001b[0m\u001b[0;34m\u001b[0m\u001b[0m\n",
            "\u001b[0;32m/usr/local/lib/python3.7/dist-packages/sklearn/model_selection/_search.py\u001b[0m in \u001b[0;36mfit\u001b[0;34m(self, X, y, groups, **fit_params)\u001b[0m\n\u001b[1;32m    889\u001b[0m                 \u001b[0;32mreturn\u001b[0m \u001b[0mresults\u001b[0m\u001b[0;34m\u001b[0m\u001b[0;34m\u001b[0m\u001b[0m\n\u001b[1;32m    890\u001b[0m \u001b[0;34m\u001b[0m\u001b[0m\n\u001b[0;32m--> 891\u001b[0;31m             \u001b[0mself\u001b[0m\u001b[0;34m.\u001b[0m\u001b[0m_run_search\u001b[0m\u001b[0;34m(\u001b[0m\u001b[0mevaluate_candidates\u001b[0m\u001b[0;34m)\u001b[0m\u001b[0;34m\u001b[0m\u001b[0;34m\u001b[0m\u001b[0m\n\u001b[0m\u001b[1;32m    892\u001b[0m \u001b[0;34m\u001b[0m\u001b[0m\n\u001b[1;32m    893\u001b[0m             \u001b[0;31m# multimetric is determined here because in the case of a callable\u001b[0m\u001b[0;34m\u001b[0m\u001b[0;34m\u001b[0m\u001b[0;34m\u001b[0m\u001b[0m\n",
            "\u001b[0;32m/usr/local/lib/python3.7/dist-packages/sklearn/model_selection/_search.py\u001b[0m in \u001b[0;36m_run_search\u001b[0;34m(self, evaluate_candidates)\u001b[0m\n\u001b[1;32m   1390\u001b[0m     \u001b[0;32mdef\u001b[0m \u001b[0m_run_search\u001b[0m\u001b[0;34m(\u001b[0m\u001b[0mself\u001b[0m\u001b[0;34m,\u001b[0m \u001b[0mevaluate_candidates\u001b[0m\u001b[0;34m)\u001b[0m\u001b[0;34m:\u001b[0m\u001b[0;34m\u001b[0m\u001b[0;34m\u001b[0m\u001b[0m\n\u001b[1;32m   1391\u001b[0m         \u001b[0;34m\"\"\"Search all candidates in param_grid\"\"\"\u001b[0m\u001b[0;34m\u001b[0m\u001b[0;34m\u001b[0m\u001b[0m\n\u001b[0;32m-> 1392\u001b[0;31m         \u001b[0mevaluate_candidates\u001b[0m\u001b[0;34m(\u001b[0m\u001b[0mParameterGrid\u001b[0m\u001b[0;34m(\u001b[0m\u001b[0mself\u001b[0m\u001b[0;34m.\u001b[0m\u001b[0mparam_grid\u001b[0m\u001b[0;34m)\u001b[0m\u001b[0;34m)\u001b[0m\u001b[0;34m\u001b[0m\u001b[0;34m\u001b[0m\u001b[0m\n\u001b[0m\u001b[1;32m   1393\u001b[0m \u001b[0;34m\u001b[0m\u001b[0m\n\u001b[1;32m   1394\u001b[0m \u001b[0;34m\u001b[0m\u001b[0m\n",
            "\u001b[0;32m/usr/local/lib/python3.7/dist-packages/sklearn/model_selection/_search.py\u001b[0m in \u001b[0;36mevaluate_candidates\u001b[0;34m(candidate_params, cv, more_results)\u001b[0m\n\u001b[1;32m    849\u001b[0m                     )\n\u001b[1;32m    850\u001b[0m                     for (cand_idx, parameters), (split_idx, (train, test)) in product(\n\u001b[0;32m--> 851\u001b[0;31m                         \u001b[0menumerate\u001b[0m\u001b[0;34m(\u001b[0m\u001b[0mcandidate_params\u001b[0m\u001b[0;34m)\u001b[0m\u001b[0;34m,\u001b[0m \u001b[0menumerate\u001b[0m\u001b[0;34m(\u001b[0m\u001b[0mcv\u001b[0m\u001b[0;34m.\u001b[0m\u001b[0msplit\u001b[0m\u001b[0;34m(\u001b[0m\u001b[0mX\u001b[0m\u001b[0;34m,\u001b[0m \u001b[0my\u001b[0m\u001b[0;34m,\u001b[0m \u001b[0mgroups\u001b[0m\u001b[0;34m)\u001b[0m\u001b[0;34m)\u001b[0m\u001b[0;34m\u001b[0m\u001b[0;34m\u001b[0m\u001b[0m\n\u001b[0m\u001b[1;32m    852\u001b[0m                     )\n\u001b[1;32m    853\u001b[0m                 )\n",
            "\u001b[0;32m/usr/local/lib/python3.7/dist-packages/joblib/parallel.py\u001b[0m in \u001b[0;36m__call__\u001b[0;34m(self, iterable)\u001b[0m\n\u001b[1;32m   1054\u001b[0m \u001b[0;34m\u001b[0m\u001b[0m\n\u001b[1;32m   1055\u001b[0m             \u001b[0;32mwith\u001b[0m \u001b[0mself\u001b[0m\u001b[0;34m.\u001b[0m\u001b[0m_backend\u001b[0m\u001b[0;34m.\u001b[0m\u001b[0mretrieval_context\u001b[0m\u001b[0;34m(\u001b[0m\u001b[0;34m)\u001b[0m\u001b[0;34m:\u001b[0m\u001b[0;34m\u001b[0m\u001b[0;34m\u001b[0m\u001b[0m\n\u001b[0;32m-> 1056\u001b[0;31m                 \u001b[0mself\u001b[0m\u001b[0;34m.\u001b[0m\u001b[0mretrieve\u001b[0m\u001b[0;34m(\u001b[0m\u001b[0;34m)\u001b[0m\u001b[0;34m\u001b[0m\u001b[0;34m\u001b[0m\u001b[0m\n\u001b[0m\u001b[1;32m   1057\u001b[0m             \u001b[0;31m# Make sure that we get a last message telling us we are done\u001b[0m\u001b[0;34m\u001b[0m\u001b[0;34m\u001b[0m\u001b[0;34m\u001b[0m\u001b[0m\n\u001b[1;32m   1058\u001b[0m             \u001b[0melapsed_time\u001b[0m \u001b[0;34m=\u001b[0m \u001b[0mtime\u001b[0m\u001b[0;34m.\u001b[0m\u001b[0mtime\u001b[0m\u001b[0;34m(\u001b[0m\u001b[0;34m)\u001b[0m \u001b[0;34m-\u001b[0m \u001b[0mself\u001b[0m\u001b[0;34m.\u001b[0m\u001b[0m_start_time\u001b[0m\u001b[0;34m\u001b[0m\u001b[0;34m\u001b[0m\u001b[0m\n",
            "\u001b[0;32m/usr/local/lib/python3.7/dist-packages/joblib/parallel.py\u001b[0m in \u001b[0;36mretrieve\u001b[0;34m(self)\u001b[0m\n\u001b[1;32m    933\u001b[0m             \u001b[0;32mtry\u001b[0m\u001b[0;34m:\u001b[0m\u001b[0;34m\u001b[0m\u001b[0;34m\u001b[0m\u001b[0m\n\u001b[1;32m    934\u001b[0m                 \u001b[0;32mif\u001b[0m \u001b[0mgetattr\u001b[0m\u001b[0;34m(\u001b[0m\u001b[0mself\u001b[0m\u001b[0;34m.\u001b[0m\u001b[0m_backend\u001b[0m\u001b[0;34m,\u001b[0m \u001b[0;34m'supports_timeout'\u001b[0m\u001b[0;34m,\u001b[0m \u001b[0;32mFalse\u001b[0m\u001b[0;34m)\u001b[0m\u001b[0;34m:\u001b[0m\u001b[0;34m\u001b[0m\u001b[0;34m\u001b[0m\u001b[0m\n\u001b[0;32m--> 935\u001b[0;31m                     \u001b[0mself\u001b[0m\u001b[0;34m.\u001b[0m\u001b[0m_output\u001b[0m\u001b[0;34m.\u001b[0m\u001b[0mextend\u001b[0m\u001b[0;34m(\u001b[0m\u001b[0mjob\u001b[0m\u001b[0;34m.\u001b[0m\u001b[0mget\u001b[0m\u001b[0;34m(\u001b[0m\u001b[0mtimeout\u001b[0m\u001b[0;34m=\u001b[0m\u001b[0mself\u001b[0m\u001b[0;34m.\u001b[0m\u001b[0mtimeout\u001b[0m\u001b[0;34m)\u001b[0m\u001b[0;34m)\u001b[0m\u001b[0;34m\u001b[0m\u001b[0;34m\u001b[0m\u001b[0m\n\u001b[0m\u001b[1;32m    936\u001b[0m                 \u001b[0;32melse\u001b[0m\u001b[0;34m:\u001b[0m\u001b[0;34m\u001b[0m\u001b[0;34m\u001b[0m\u001b[0m\n\u001b[1;32m    937\u001b[0m                     \u001b[0mself\u001b[0m\u001b[0;34m.\u001b[0m\u001b[0m_output\u001b[0m\u001b[0;34m.\u001b[0m\u001b[0mextend\u001b[0m\u001b[0;34m(\u001b[0m\u001b[0mjob\u001b[0m\u001b[0;34m.\u001b[0m\u001b[0mget\u001b[0m\u001b[0;34m(\u001b[0m\u001b[0;34m)\u001b[0m\u001b[0;34m)\u001b[0m\u001b[0;34m\u001b[0m\u001b[0;34m\u001b[0m\u001b[0m\n",
            "\u001b[0;32m/usr/local/lib/python3.7/dist-packages/joblib/_parallel_backends.py\u001b[0m in \u001b[0;36mwrap_future_result\u001b[0;34m(future, timeout)\u001b[0m\n\u001b[1;32m    540\u001b[0m         AsyncResults.get from multiprocessing.\"\"\"\n\u001b[1;32m    541\u001b[0m         \u001b[0;32mtry\u001b[0m\u001b[0;34m:\u001b[0m\u001b[0;34m\u001b[0m\u001b[0;34m\u001b[0m\u001b[0m\n\u001b[0;32m--> 542\u001b[0;31m             \u001b[0;32mreturn\u001b[0m \u001b[0mfuture\u001b[0m\u001b[0;34m.\u001b[0m\u001b[0mresult\u001b[0m\u001b[0;34m(\u001b[0m\u001b[0mtimeout\u001b[0m\u001b[0;34m=\u001b[0m\u001b[0mtimeout\u001b[0m\u001b[0;34m)\u001b[0m\u001b[0;34m\u001b[0m\u001b[0;34m\u001b[0m\u001b[0m\n\u001b[0m\u001b[1;32m    543\u001b[0m         \u001b[0;32mexcept\u001b[0m \u001b[0mCfTimeoutError\u001b[0m \u001b[0;32mas\u001b[0m \u001b[0me\u001b[0m\u001b[0;34m:\u001b[0m\u001b[0;34m\u001b[0m\u001b[0;34m\u001b[0m\u001b[0m\n\u001b[1;32m    544\u001b[0m             \u001b[0;32mraise\u001b[0m \u001b[0mTimeoutError\u001b[0m \u001b[0;32mfrom\u001b[0m \u001b[0me\u001b[0m\u001b[0;34m\u001b[0m\u001b[0;34m\u001b[0m\u001b[0m\n",
            "\u001b[0;32m/usr/lib/python3.7/concurrent/futures/_base.py\u001b[0m in \u001b[0;36mresult\u001b[0;34m(self, timeout)\u001b[0m\n\u001b[1;32m    428\u001b[0m                 \u001b[0;32mreturn\u001b[0m \u001b[0mself\u001b[0m\u001b[0;34m.\u001b[0m\u001b[0m__get_result\u001b[0m\u001b[0;34m(\u001b[0m\u001b[0;34m)\u001b[0m\u001b[0;34m\u001b[0m\u001b[0;34m\u001b[0m\u001b[0m\n\u001b[1;32m    429\u001b[0m \u001b[0;34m\u001b[0m\u001b[0m\n\u001b[0;32m--> 430\u001b[0;31m             \u001b[0mself\u001b[0m\u001b[0;34m.\u001b[0m\u001b[0m_condition\u001b[0m\u001b[0;34m.\u001b[0m\u001b[0mwait\u001b[0m\u001b[0;34m(\u001b[0m\u001b[0mtimeout\u001b[0m\u001b[0;34m)\u001b[0m\u001b[0;34m\u001b[0m\u001b[0;34m\u001b[0m\u001b[0m\n\u001b[0m\u001b[1;32m    431\u001b[0m \u001b[0;34m\u001b[0m\u001b[0m\n\u001b[1;32m    432\u001b[0m             \u001b[0;32mif\u001b[0m \u001b[0mself\u001b[0m\u001b[0;34m.\u001b[0m\u001b[0m_state\u001b[0m \u001b[0;32min\u001b[0m \u001b[0;34m[\u001b[0m\u001b[0mCANCELLED\u001b[0m\u001b[0;34m,\u001b[0m \u001b[0mCANCELLED_AND_NOTIFIED\u001b[0m\u001b[0;34m]\u001b[0m\u001b[0;34m:\u001b[0m\u001b[0;34m\u001b[0m\u001b[0;34m\u001b[0m\u001b[0m\n",
            "\u001b[0;32m/usr/lib/python3.7/threading.py\u001b[0m in \u001b[0;36mwait\u001b[0;34m(self, timeout)\u001b[0m\n\u001b[1;32m    294\u001b[0m         \u001b[0;32mtry\u001b[0m\u001b[0;34m:\u001b[0m    \u001b[0;31m# restore state no matter what (e.g., KeyboardInterrupt)\u001b[0m\u001b[0;34m\u001b[0m\u001b[0;34m\u001b[0m\u001b[0m\n\u001b[1;32m    295\u001b[0m             \u001b[0;32mif\u001b[0m \u001b[0mtimeout\u001b[0m \u001b[0;32mis\u001b[0m \u001b[0;32mNone\u001b[0m\u001b[0;34m:\u001b[0m\u001b[0;34m\u001b[0m\u001b[0;34m\u001b[0m\u001b[0m\n\u001b[0;32m--> 296\u001b[0;31m                 \u001b[0mwaiter\u001b[0m\u001b[0;34m.\u001b[0m\u001b[0macquire\u001b[0m\u001b[0;34m(\u001b[0m\u001b[0;34m)\u001b[0m\u001b[0;34m\u001b[0m\u001b[0;34m\u001b[0m\u001b[0m\n\u001b[0m\u001b[1;32m    297\u001b[0m                 \u001b[0mgotit\u001b[0m \u001b[0;34m=\u001b[0m \u001b[0;32mTrue\u001b[0m\u001b[0;34m\u001b[0m\u001b[0;34m\u001b[0m\u001b[0m\n\u001b[1;32m    298\u001b[0m             \u001b[0;32melse\u001b[0m\u001b[0;34m:\u001b[0m\u001b[0;34m\u001b[0m\u001b[0;34m\u001b[0m\u001b[0m\n",
            "\u001b[0;31mKeyboardInterrupt\u001b[0m: "
          ]
        }
      ],
      "source": [
        "reg = GridSearchCV( estimator=rf, \n",
        "                    param_grid=rf_param_grid, \n",
        "                    cv = StratifiedKFold(n_splits = 10), \n",
        "                    scoring = \"neg_mean_absolute_error\", n_jobs = -1, verbose = 1)\n",
        "                    # verbose: Controls the verbosity: the higher, the more messages.\n",
        "reg.fit(x_train,y_train)\n",
        "print(reg.best_score_)\n",
        "print(reg.best_estimator_)"
      ]
    },
    {
      "cell_type": "code",
      "execution_count": null,
      "metadata": {
        "id": "iIpwcqlkTBll"
      },
      "outputs": [],
      "source": [
        "x_train, x_test, y_train, y_test = train_test_split(x, y, test_size=0.2, random_state=42)\n",
        "x_train, x_valid, y_train, y_valid = train_test_split(x_train, y_train, test_size=0.125, random_state=42)\n",
        "x_test, x_stack, y_test, y_stack = train_test_split(x_test, y_test, test_size=0.5, random_state=42)\n",
        "y_train_log = np.log(y_train[y_train > 0])\n",
        "x_train_ylog = x_train.loc[y_train[y_train > 0].index]\n",
        "x_train, x_test, x_valid, x_stack = x_train[selected_feat], x_test[selected_feat], x_valid[selected_feat], x_stack[selected_feat]\n",
        "\n",
        "rf_log = RandomForestRegressor(min_samples_leaf=3, n_estimators=300, random_state=42).fit(x_train.loc[y_train[y_train > 0].index], y_train_log)\n",
        "y_valid_pred = np.exp(rf_log.predict(x_valid))\n",
        "print(y_valid_pred)\n",
        "print('MAE {:.4f}'.format(mae(y_valid, y_valid_pred)))\n",
        "print('RMSE {:.4f}'.format(mse(y_valid, y_valid_pred, squared=False)))"
      ]
    },
    {
      "cell_type": "markdown",
      "metadata": {
        "id": "Xcr_YvIdu-bQ"
      },
      "source": [
        "#### Gradient Boosting"
      ]
    },
    {
      "cell_type": "code",
      "execution_count": null,
      "metadata": {
        "id": "frhHUJypvBXi"
      },
      "outputs": [],
      "source": [
        "def tune_gradient_boosting(x_train, x_valid, y_train, y_valid, learning_rate, mae_dct, log):\n",
        "    for lr in learning_rate:\n",
        "        clf = GradientBoostingRegressor(n_estimators=800, learning_rate=lr, random_state=0)\n",
        "        clf = clf.fit(x_train, y_train)\n",
        "        if log == True:\n",
        "            y_pred = np.exp(clf.predict(x_valid))\n",
        "        else:\n",
        "            y_pred = clf.predict(x_valid)\n",
        "\n",
        "        for y_pred in clf.staged_predict(x_valid):\n",
        "            mae_dct[str(lr)].append(mae(y_valid, y_pred))\n",
        "\n",
        "    best_mae = 1000\n",
        "    best_lr = 1000\n",
        "    best_n = 1000\n",
        "\n",
        "    for lr in learning_rate:\n",
        "        for n, current_mae in enumerate(mae_dct[str(lr)]):\n",
        "            if current_mae < best_mae:\n",
        "                best_mae = current_mae\n",
        "                best_lr = lr\n",
        "                best_n = n\n",
        "    print(\"The best learning rate is {} and the best number of stage is {}\".format(best_lr, best_n)) \n",
        "    print(mae_dct[str(best_lr)][best_n])\n",
        "\n",
        "    import matplotlib.pyplot as plt\n",
        "    for lr in learning_rate:\n",
        "        plt.plot(mae_dct[str(lr)], label='lr: {}'.format(lr))\n",
        "\n",
        "    plt.xlabel(\"log number of stage\")\n",
        "    plt.ylabel(\"MAE\")\n",
        "    plt.legend()"
      ]
    },
    {
      "cell_type": "code",
      "execution_count": null,
      "metadata": {
        "colab": {
          "base_uri": "https://localhost:8080/",
          "height": 313
        },
        "id": "q8KEehWhvJzb",
        "outputId": "272ea4f5-d9bf-4e58-914e-93911d2ceb1b"
      },
      "outputs": [
        {
          "name": "stdout",
          "output_type": "stream",
          "text": [
            "The best learning rate is 0.46415888336127775 and the best number of stage is 686\n",
            "57.61202837420308\n"
          ]
        },
        {
          "data": {
            "image/png": "[encoded data removed]",
            "text/plain": [
              "<Figure size 432x288 with 1 Axes>"
            ]
          },
          "metadata": {},
          "output_type": "display_data"
        }
      ],
      "source": [
        "learning_rate = np.logspace(-3, 0, 10, endpoint=True)\n",
        "mae_dct = {}\n",
        "for lr in learning_rate :\n",
        "    mae_dct[str(lr)] = []\n",
        "\n",
        "tune_gradient_boosting(tmp_x_train, tmp_x_valid, y_train_log, y_valid, learning_rate, mae_dct, True)"
      ]
    },
    {
      "cell_type": "markdown",
      "metadata": {
        "id": "kvwre0meovTR"
      },
      "source": [
        "# Stacking"
      ]
    },
    {
      "cell_type": "markdown",
      "metadata": {
        "id": "FW66DEQogIdD"
      },
      "source": [
        "## Training Again with Training and Validation Data"
      ]
    },
    {
      "cell_type": "code",
      "execution_count": null,
      "metadata": {
        "id": "oTZq4TxZgfIa"
      },
      "outputs": [],
      "source": [
        "x_train_valid = pd.concat([x_train, x_valid])\n",
        "y_train_valid = pd.concat([y_train, y_valid])\n",
        "y_train_valid_log = np.log(y_train_valid[y_train_valid > 0])"
      ]
    },
    {
      "cell_type": "code",
      "execution_count": null,
      "metadata": {
        "colab": {
          "base_uri": "https://localhost:8080/"
        },
        "id": "jvMO-vZMXmZd",
        "outputId": "23796c11-61db-4978-9547-71089e1c51c6"
      },
      "outputs": [
        {
          "output_type": "stream",
          "name": "stdout",
          "text": [
            "[07:44:31] WARNING: /workspace/src/objective/regression_obj.cu:152: reg:linear is now deprecated in favor of reg:squarederror.\n"
          ]
        }
      ],
      "source": [
        "# 1. Linear Log\n",
        "lr_log = LinearRegression().fit(x_train_valid.loc[y_train_valid[y_train_valid > 0].index], y_train_valid_log)\n",
        "\n",
        "# 2. Lasso Log\n",
        "lasso_log = Lasso().fit(x_train_valid.loc[y_train_valid[y_train_valid > 0].index], y_train_valid_log)\n",
        "\n",
        "# 3. Ridge Log\n",
        "ridge_log = Ridge().fit(x_train_valid.loc[y_train_valid[y_train_valid > 0].index], y_train_valid_log)\n",
        "\n",
        "# 4. RandomForest Log\n",
        "# rf_log = RandomForestRegressor().fit(x_train_valid.loc[y_train_valid[y_train_valid > 0].index], y_train_valid_log)\n",
        "rf_log = RandomForestRegressor(min_samples_leaf=3, n_estimators=300, random_state=42).fit(x_train_valid.loc[y_train_valid[y_train_valid > 0].index], y_train_valid_log)\n",
        "\n",
        "# 5. Gradient Boosting Regressor\n",
        "gb = GradientBoostingRegressor(learning_rate=0.464, n_estimators=485).fit(x_train_valid, y_train_valid)\n",
        "\n",
        "# 6. XGBoost\n",
        "xg = xgb.XGBRegressor(eval_metric='mae').fit(x_train_valid, y_train_valid)"
      ]
    },
    {
      "cell_type": "markdown",
      "metadata": {
        "id": "hgKMPR3XUfot"
      },
      "source": [
        "### Start Stacking"
      ]
    },
    {
      "cell_type": "code",
      "execution_count": null,
      "metadata": {
        "colab": {
          "base_uri": "https://localhost:8080/",
          "height": 418
        },
        "id": "DDLm1ssqc9FT",
        "outputId": "2819bf58-7150-4b40-850a-bdc296d6ebe0"
      },
      "outputs": [
        {
          "data": {
            "text/plain": [
              "<matplotlib.axes._subplots.AxesSubplot at 0x7fd9a98c03d0>"
            ]
          },
          "execution_count": 47,
          "metadata": {},
          "output_type": "execute_result"
        },
        {
          "data": {
            "image/png": "[encoded data removed]",
            "text/plain": [
              "<Figure size 432x288 with 2 Axes>"
            ]
          },
          "metadata": {},
          "output_type": "display_data"
        }
      ],
      "source": [
        "# 觀察各模型的相似程度\n",
        "x_stack_df = pd.DataFrame({\n",
        "    'Linear Log': np.exp(lr_log.predict(x_stack)),\n",
        "    'Lasso Log': np.exp(lasso_log.predict(x_stack)),\n",
        "    'Ridge Log': np.exp(ridge_log.predict(x_stack)),\n",
        "    'Random Froest Log': np.exp(rf_log.predict(x_stack)),\n",
        "    'Gradient Boosting Regressor': gb.predict(x_stack),\n",
        "    'XGBoost': xg.predict(x_stack)\n",
        "})\n",
        "sns.heatmap(x_stack_df.corr(), annot=True, cmap='YlGnBu')"
      ]
    },
    {
      "cell_type": "markdown",
      "metadata": {
        "id": "z43V7na8npvx"
      },
      "source": [
        "1. Linear和Ridge太相似，所以丟掉Ridge\n",
        "2. Gradient Boosting Regressor和XGBoost太相似，所以丟掉XGBoost"
      ]
    },
    {
      "cell_type": "code",
      "execution_count": null,
      "metadata": {
        "id": "KDpKvQJAn2y5"
      },
      "outputs": [],
      "source": [
        "# 觀察各模型的相似程度\n",
        "x_stack_df = pd.DataFrame({\n",
        "    'Linear Log': np.exp(lr_log.predict(x_stack)),\n",
        "    'Lasso Log': np.exp(lasso_log.predict(x_stack)),\n",
        "    'Random Froest Log': np.exp(rf_log.predict(x_stack)),\n",
        "    'Gradient Boosting Regressor': gb.predict(x_stack)\n",
        "})"
      ]
    },
    {
      "cell_type": "code",
      "execution_count": null,
      "metadata": {
        "colab": {
          "base_uri": "https://localhost:8080/"
        },
        "id": "nX2UsHWCealv",
        "outputId": "95e717ff-29ad-4b7f-c8e9-65091c474126"
      },
      "outputs": [
        {
          "name": "stdout",
          "output_type": "stream",
          "text": [
            "[-0.19596422 -0.31970941  1.40543683  0.31821955]\n"
          ]
        }
      ],
      "source": [
        "stack = LinearRegression().fit(x_stack_df, y_stack)\n",
        "print(stack.coef_)"
      ]
    },
    {
      "cell_type": "markdown",
      "metadata": {
        "id": "TwIL-8XjUtCb"
      },
      "source": [
        "### Testing Data"
      ]
    },
    {
      "cell_type": "code",
      "execution_count": null,
      "metadata": {
        "colab": {
          "base_uri": "https://localhost:8080/",
          "height": 423
        },
        "id": "9sVXCUuaUu40",
        "outputId": "72f16849-716d-474c-9d07-91a293f1901d"
      },
      "outputs": [
        {
          "data": {
            "text/html": [
              "\n",
              "  <div id=\"df-846c5400-3aa7-406f-87f3-ecbf13356eac\">\n",
              "    <div class=\"colab-df-container\">\n",
              "      <div>\n",
              "<style scoped>\n",
              "    .dataframe tbody tr th:only-of-type {\n",
              "        vertical-align: middle;\n",
              "    }\n",
              "\n",
              "    .dataframe tbody tr th {\n",
              "        vertical-align: top;\n",
              "    }\n",
              "\n",
              "    .dataframe thead th {\n",
              "        text-align: right;\n",
              "    }\n",
              "</style>\n",
              "<table border=\"1\" class=\"dataframe\">\n",
              "  <thead>\n",
              "    <tr style=\"text-align: right;\">\n",
              "      <th></th>\n",
              "      <th>Linear Log</th>\n",
              "      <th>Lasso Log</th>\n",
              "      <th>Random Froest Log</th>\n",
              "      <th>Gradient Boosting Regressor</th>\n",
              "    </tr>\n",
              "  </thead>\n",
              "  <tbody>\n",
              "    <tr>\n",
              "      <th>0</th>\n",
              "      <td>113.922</td>\n",
              "      <td>48.697</td>\n",
              "      <td>293.431</td>\n",
              "      <td>295.179</td>\n",
              "    </tr>\n",
              "    <tr>\n",
              "      <th>1</th>\n",
              "      <td>31.933</td>\n",
              "      <td>38.906</td>\n",
              "      <td>30.661</td>\n",
              "      <td>29.428</td>\n",
              "    </tr>\n",
              "    <tr>\n",
              "      <th>2</th>\n",
              "      <td>66.834</td>\n",
              "      <td>44.008</td>\n",
              "      <td>61.849</td>\n",
              "      <td>73.257</td>\n",
              "    </tr>\n",
              "    <tr>\n",
              "      <th>3</th>\n",
              "      <td>59.980</td>\n",
              "      <td>57.474</td>\n",
              "      <td>69.357</td>\n",
              "      <td>74.971</td>\n",
              "    </tr>\n",
              "    <tr>\n",
              "      <th>4</th>\n",
              "      <td>68.176</td>\n",
              "      <td>53.635</td>\n",
              "      <td>70.900</td>\n",
              "      <td>60.946</td>\n",
              "    </tr>\n",
              "    <tr>\n",
              "      <th>...</th>\n",
              "      <td>...</td>\n",
              "      <td>...</td>\n",
              "      <td>...</td>\n",
              "      <td>...</td>\n",
              "    </tr>\n",
              "    <tr>\n",
              "      <th>2189</th>\n",
              "      <td>71.520</td>\n",
              "      <td>54.074</td>\n",
              "      <td>75.131</td>\n",
              "      <td>79.237</td>\n",
              "    </tr>\n",
              "    <tr>\n",
              "      <th>2190</th>\n",
              "      <td>54.619</td>\n",
              "      <td>61.079</td>\n",
              "      <td>35.997</td>\n",
              "      <td>95.476</td>\n",
              "    </tr>\n",
              "    <tr>\n",
              "      <th>2191</th>\n",
              "      <td>38.790</td>\n",
              "      <td>40.179</td>\n",
              "      <td>41.486</td>\n",
              "      <td>51.809</td>\n",
              "    </tr>\n",
              "    <tr>\n",
              "      <th>2192</th>\n",
              "      <td>27.255</td>\n",
              "      <td>40.141</td>\n",
              "      <td>27.579</td>\n",
              "      <td>27.573</td>\n",
              "    </tr>\n",
              "    <tr>\n",
              "      <th>2193</th>\n",
              "      <td>117.793</td>\n",
              "      <td>58.956</td>\n",
              "      <td>147.183</td>\n",
              "      <td>150.445</td>\n",
              "    </tr>\n",
              "  </tbody>\n",
              "</table>\n",
              "<p>2194 rows × 4 columns</p>\n",
              "</div>\n",
              "      <button class=\"colab-df-convert\" onclick=\"convertToInteractive('df-846c5400-3aa7-406f-87f3-ecbf13356eac')\"\n",
              "              title=\"Convert this dataframe to an interactive table.\"\n",
              "              style=\"display:none;\">\n",
              "        \n",
              "  <svg xmlns=\"http://www.w3.org/2000/svg\" height=\"24px\"viewBox=\"0 0 24 24\"\n",
              "       width=\"24px\">\n",
              "    <path d=\"M0 0h24v24H0V0z\" fill=\"none\"/>\n",
              "    <path d=\"M18.56 5.44l.94 2.06.94-2.06 2.06-.94-2.06-.94-.94-2.06-.94 2.06-2.06.94zm-11 1L8.5 8.5l.94-2.06 2.06-.94-2.06-.94L8.5 2.5l-.94 2.06-2.06.94zm10 10l.94 2.06.94-2.06 2.06-.94-2.06-.94-.94-2.06-.94 2.06-2.06.94z\"/><path d=\"M17.41 7.96l-1.37-1.37c-.4-.4-.92-.59-1.43-.59-.52 0-1.04.2-1.43.59L10.3 9.45l-7.72 7.72c-.78.78-.78 2.05 0 2.83L4 21.41c.39.39.9.59 1.41.59.51 0 1.02-.2 1.41-.59l7.78-7.78 2.81-2.81c.8-.78.8-2.07 0-2.86zM5.41 20L4 18.59l7.72-7.72 1.47 1.35L5.41 20z\"/>\n",
              "  </svg>\n",
              "      </button>\n",
              "      \n",
              "  <style>\n",
              "    .colab-df-container {\n",
              "      display:flex;\n",
              "      flex-wrap:wrap;\n",
              "      gap: 12px;\n",
              "    }\n",
              "\n",
              "    .colab-df-convert {\n",
              "      background-color: #E8F0FE;\n",
              "      border: none;\n",
              "      border-radius: 50%;\n",
              "      cursor: pointer;\n",
              "      display: none;\n",
              "      fill: #1967D2;\n",
              "      height: 32px;\n",
              "      padding: 0 0 0 0;\n",
              "      width: 32px;\n",
              "    }\n",
              "\n",
              "    .colab-df-convert:hover {\n",
              "      background-color: #E2EBFA;\n",
              "      box-shadow: 0px 1px 2px rgba(60, 64, 67, 0.3), 0px 1px 3px 1px rgba(60, 64, 67, 0.15);\n",
              "      fill: #174EA6;\n",
              "    }\n",
              "\n",
              "    [theme=dark] .colab-df-convert {\n",
              "      background-color: #3B4455;\n",
              "      fill: #D2E3FC;\n",
              "    }\n",
              "\n",
              "    [theme=dark] .colab-df-convert:hover {\n",
              "      background-color: #434B5C;\n",
              "      box-shadow: 0px 1px 3px 1px rgba(0, 0, 0, 0.15);\n",
              "      filter: drop-shadow(0px 1px 2px rgba(0, 0, 0, 0.3));\n",
              "      fill: #FFFFFF;\n",
              "    }\n",
              "  </style>\n",
              "\n",
              "      <script>\n",
              "        const buttonEl =\n",
              "          document.querySelector('#df-846c5400-3aa7-406f-87f3-ecbf13356eac button.colab-df-convert');\n",
              "        buttonEl.style.display =\n",
              "          google.colab.kernel.accessAllowed ? 'block' : 'none';\n",
              "\n",
              "        async function convertToInteractive(key) {\n",
              "          const element = document.querySelector('#df-846c5400-3aa7-406f-87f3-ecbf13356eac');\n",
              "          const dataTable =\n",
              "            await google.colab.kernel.invokeFunction('convertToInteractive',\n",
              "                                                     [key], {});\n",
              "          if (!dataTable) return;\n",
              "\n",
              "          const docLinkHtml = 'Like what you see? Visit the ' +\n",
              "            '<a target=\"_blank\" href=https://colab.research.google.com/notebooks/data_table.ipynb>data table notebook</a>'\n",
              "            + ' to learn more about interactive tables.';\n",
              "          element.innerHTML = '';\n",
              "          dataTable['output_type'] = 'display_data';\n",
              "          await google.colab.output.renderOutput(dataTable, element);\n",
              "          const docLink = document.createElement('div');\n",
              "          docLink.innerHTML = docLinkHtml;\n",
              "          element.appendChild(docLink);\n",
              "        }\n",
              "      </script>\n",
              "    </div>\n",
              "  </div>\n",
              "  "
            ],
            "text/plain": [
              "      Linear Log  Lasso Log  Random Froest Log  Gradient Boosting Regressor\n",
              "0        113.922     48.697            293.431                      295.179\n",
              "1         31.933     38.906             30.661                       29.428\n",
              "2         66.834     44.008             61.849                       73.257\n",
              "3         59.980     57.474             69.357                       74.971\n",
              "4         68.176     53.635             70.900                       60.946\n",
              "...          ...        ...                ...                          ...\n",
              "2189      71.520     54.074             75.131                       79.237\n",
              "2190      54.619     61.079             35.997                       95.476\n",
              "2191      38.790     40.179             41.486                       51.809\n",
              "2192      27.255     40.141             27.579                       27.573\n",
              "2193     117.793     58.956            147.183                      150.445\n",
              "\n",
              "[2194 rows x 4 columns]"
            ]
          },
          "execution_count": 50,
          "metadata": {},
          "output_type": "execute_result"
        }
      ],
      "source": [
        "x_test_df = pd.DataFrame({\n",
        "    'Linear Log': np.exp(lr_log.predict(x_test)),\n",
        "    'Lasso Log': np.exp(lasso_log.predict(x_test)),\n",
        "    'Random Froest Log': np.exp(rf_log.predict(x_test)),\n",
        "    'Gradient Boosting Regressor': gb.predict(x_test),\n",
        "})\n",
        "x_test_df"
      ]
    },
    {
      "cell_type": "code",
      "execution_count": null,
      "metadata": {
        "colab": {
          "base_uri": "https://localhost:8080/"
        },
        "id": "yftA4DOhW_SN",
        "outputId": "be7d53ed-bec0-4dbf-9d26-83c9f05b1822"
      },
      "outputs": [
        {
          "name": "stdout",
          "output_type": "stream",
          "text": [
            "Linear MAE 18.5451 \n",
            "Linear RMSE 37.1016\n",
            "Lasso MAE 25.2496 \n",
            "Lasso RMSE 46.3766\n",
            "Ridge MAE 18.5455\n",
            "Ridge RMSE 37.1040\n",
            "Random Forest MAE 16.6048 \n",
            "Random Forest RMSE 31.6652\n",
            "Gradient Boosting Regressor MAE 20.7481 \n",
            "Gradient Boosting Regressor RMSE 42.1720\n",
            "XGBoost MAE 18.5973 \n",
            "XGBoost RMSE 34.8597\n",
            "Stack MAE 19.8019 \n",
            "Stack RMSE 34.9831\n"
          ]
        }
      ],
      "source": [
        "print('Linear MAE {:.4f} '.format(mae(y_test, np.exp(lr_log.predict(x_test)))))\n",
        "print('Linear RMSE {:.4f}'.format(mse(y_test, np.exp(lr_log.predict(x_test)), squared=False)))\n",
        "print('Lasso MAE {:.4f} '.format(mae(y_test, np.exp(lasso_log.predict(x_test)))))\n",
        "print('Lasso RMSE {:.4f}'.format(mse(y_test, np.exp(lasso_log.predict(x_test)), squared=False)))\n",
        "print('Ridge MAE {:.4f}'.format(mae(y_test, np.exp(ridge_log.predict(x_test)))))\n",
        "print('Ridge RMSE {:.4f}'.format(mse(y_test, np.exp(ridge_log.predict(x_test)), squared=False)))\n",
        "print('Random Forest MAE {:.4f} '.format(mae(y_test, np.exp(rf_log.predict(x_test)))))\n",
        "print('Random Forest RMSE {:.4f}'.format(mse(y_test, np.exp(rf_log.predict(x_test)), squared=False)))\n",
        "print('Gradient Boosting Regressor MAE {:.4f} '.format(mae(y_test, gb.predict(x_test))))\n",
        "print('Gradient Boosting Regressor RMSE {:.4f}'.format(mse(y_test, gb.predict(x_test), squared=False)))\n",
        "print('XGBoost MAE {:.4f} '.format(mae(y_test, xg.predict(x_test))))\n",
        "print('XGBoost RMSE {:.4f}'.format(mse(y_test, xg.predict(x_test), squared=False)))\n",
        "print('Stack MAE {:.4f} '.format(mae(y_test, stack.predict(x_test_df))))\n",
        "print('Stack RMSE {:.4f}'.format(mse(y_test, stack.predict(x_test_df), squared=False)))"
      ]
    },
    {
      "cell_type": "markdown",
      "metadata": {
        "id": "V4fHmPPpKlHE"
      },
      "source": [
        "```\n",
        "之前的結果，可刪除\n",
        "Linear MAE 25.5006 \n",
        "Linear RMSE 163.0820\n",
        "Lasso MAE 32.9845 \n",
        "Lasso RMSE 172.0374\n",
        "Ridge MAE 25.4963\n",
        "Ridge RMSE 163.0915\n",
        "Random Forest MAE 20.9288 \n",
        "Random Forest RMSE 103.7417\n",
        "Gradient Boosting Regressor MAE 23.2252 \n",
        "Gradient Boosting Regressor RMSE 105.8292\n",
        "XGBoost MAE 23.7135 \n",
        "XGBoost RMSE 109.6494\n",
        "Stack MAE 22.8711 \n",
        "Stack RMSE 103.5356\n",
        "```"
      ]
    },
    {
      "cell_type": "markdown",
      "metadata": {
        "id": "MYtL6KagYyx8"
      },
      "source": [
        "\n",
        "## Next - Deep learning\n",
        "[Colab-MicTu1212_DeepLearning](https://colab.research.google.com/drive/1HOwvfBuSlfNq2ZrkBM809vvFbqvuNQqY#scrollTo=z6IkuHy74zqr://)"
      ]
    }
  ],
  "metadata": {
    "colab": {
      "collapsed_sections": [],
      "name": "Model_Training.ipynb",
      "provenance": [],
      "toc_visible": true
    },
    "kernelspec": {
      "display_name": "Python 3",
      "name": "python3"
    },
    "language_info": {
      "name": "python"
    }
  },
  "nbformat": 4,
  "nbformat_minor": 0
}