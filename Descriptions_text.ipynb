{
  "nbformat": 4,
  "nbformat_minor": 0,
  "metadata": {
    "colab": {
      "name": "Descriptions_text.ipynb",
      "provenance": []
    },
    "kernelspec": {
      "name": "python3",
      "display_name": "Python 3"
    },
    "language_info": {
      "name": "python"
    }
  },
  "cells": [
    {
      "cell_type": "markdown",
      "source": [
        "# Import package and data"
      ],
      "metadata": {
        "id": "LVFmUom53kxU"
      }
    },
    {
      "cell_type": "code",
      "execution_count": null,
      "metadata": {
        "id": "sA1VusP1n9W8"
      },
      "outputs": [],
      "source": [
        "import warnings \n",
        "warnings.filterwarnings('ignore')"
      ]
    },
    {
      "cell_type": "code",
      "source": [
        "!pip install gdown\n",
        "\n",
        "!gdown --id \"1XEsMoAKUg10YkYI-VYmVCWhyzVpwwJnI\"\n",
        "# https://drive.google.com/file/d/1XEsMoAKUg10YkYI-VYmVCWhyzVpwwJnI/view?usp=sharing\n",
        "# !gdown --id \"1BfpxvsjCe00lMLdk-9shLF7ZwrdzhbCG\"\n",
        "# !gdown --id \"1DbElvm2Ir27vd2OY98M01AOysq9iLIjb\"\n",
        "# !gdown --id \"1_Y_rS5YeneItKi6Xa-WkLDgp7xpY7Z0P\"\n",
        "# !gdown --id \"1d0JXRo-7oYQ0r33qNQ4wIV6WR0FcU5De\""
      ],
      "metadata": {
        "colab": {
          "base_uri": "https://localhost:8080/"
        },
        "id": "sAddLAQXoZFr",
        "outputId": "43da5523-b107-4166-edd6-fa47bdb19e09"
      },
      "execution_count": null,
      "outputs": [
        {
          "output_type": "stream",
          "name": "stdout",
          "text": [
            "Requirement already satisfied: gdown in /usr/local/lib/python3.7/dist-packages (3.6.4)\n",
            "Requirement already satisfied: requests in /usr/local/lib/python3.7/dist-packages (from gdown) (2.23.0)\n",
            "Requirement already satisfied: tqdm in /usr/local/lib/python3.7/dist-packages (from gdown) (4.62.3)\n",
            "Requirement already satisfied: six in /usr/local/lib/python3.7/dist-packages (from gdown) (1.15.0)\n",
            "Requirement already satisfied: chardet<4,>=3.0.2 in /usr/local/lib/python3.7/dist-packages (from requests->gdown) (3.0.4)\n",
            "Requirement already satisfied: certifi>=2017.4.17 in /usr/local/lib/python3.7/dist-packages (from requests->gdown) (2021.10.8)\n",
            "Requirement already satisfied: urllib3!=1.25.0,!=1.25.1,<1.26,>=1.21.1 in /usr/local/lib/python3.7/dist-packages (from requests->gdown) (1.24.3)\n",
            "Requirement already satisfied: idna<3,>=2.5 in /usr/local/lib/python3.7/dist-packages (from requests->gdown) (2.10)\n",
            "Downloading...\n",
            "From: https://drive.google.com/uc?id=1XEsMoAKUg10YkYI-VYmVCWhyzVpwwJnI\n",
            "To: /content/listings_summary.csv\n",
            "100% 73.5M/73.5M [00:01<00:00, 73.4MB/s]\n"
          ]
        }
      ]
    },
    {
      "cell_type": "code",
      "source": [
        "import pandas as pd\n",
        "\n",
        "df = pd.read_csv('listings_summary.csv')\n",
        "pd.set_option('display.max_rows', 30)\n",
        "df.shape"
      ],
      "metadata": {
        "colab": {
          "base_uri": "https://localhost:8080/"
        },
        "id": "F0jEkf4ZoeUi",
        "outputId": "0faae4fd-f54c-4979-c8a0-69843f1ca24b"
      },
      "execution_count": null,
      "outputs": [
        {
          "output_type": "execute_result",
          "data": {
            "text/plain": [
              "(22552, 96)"
            ]
          },
          "metadata": {},
          "execution_count": 3
        }
      ]
    },
    {
      "cell_type": "code",
      "source": [
        "df_des = df[df['description'].notnull()]\n",
        "df_des = df_des[[\"id\", \"description\"]]\n",
        "df_des.shape"
      ],
      "metadata": {
        "colab": {
          "base_uri": "https://localhost:8080/"
        },
        "id": "JkCF19MSoopR",
        "outputId": "c9471d09-e204-48ee-8363-e574f30f7da8"
      },
      "execution_count": null,
      "outputs": [
        {
          "output_type": "execute_result",
          "data": {
            "text/plain": [
              "(22349, 2)"
            ]
          },
          "metadata": {},
          "execution_count": 4
        }
      ]
    },
    {
      "cell_type": "code",
      "source": [
        "df_des['description'][0]"
      ],
      "metadata": {
        "colab": {
          "base_uri": "https://localhost:8080/",
          "height": 139
        },
        "id": "XxPUcMH9v8AE",
        "outputId": "341afa47-be7f-496c-b633-a1ce11b5d860"
      },
      "execution_count": null,
      "outputs": [
        {
          "output_type": "execute_result",
          "data": {
            "application/vnd.google.colaboratory.intrinsic+json": {
              "type": "string"
            },
            "text/plain": [
              "'Great location!  30 of 75 sq meters. This wood floored/high ceiling typical Berlin \"Altbau\" section of an apartment consists of 1 simple large room, a small kitchen and a bathroom + shower. The apartment is in Mitte, close to Prenzlauer Berg/Mauerpark. Perfect for short visits, singles or couples. Your section is closed from the rest of the bigger flat wich is not noticeable. You will not be sharing your space. A+++ location! This „Einliegerwohnung“ is an extention of a larger apartment with a separate entrance, bathroom and kitchen. The door to the rest of the apartment is soundproof, hidden, locked and barely noticable (behind mirror in pictures). Your 30 sq meters are facing a quiet courtyard. This wood floored/high ceiling typical Berlin \"Altbau\" apartment consists of 1 large room with a large double bed, optionally with an extra matress for a 3rd guest), a small kitchen suitable for preparing simple meals, a bathroom + shower + bathtub and of course your own entrance (all linens a'"
            ]
          },
          "metadata": {},
          "execution_count": 7
        }
      ]
    },
    {
      "cell_type": "markdown",
      "source": [
        "# Translation"
      ],
      "metadata": {
        "id": "_OPFIzh-3zXP"
      }
    },
    {
      "cell_type": "code",
      "source": [
        "!pip install googletrans==4.0.0-rc1"
      ],
      "metadata": {
        "id": "tqg19CSfr7aJ"
      },
      "execution_count": null,
      "outputs": []
    },
    {
      "cell_type": "code",
      "source": [
        "from googletrans import Translator\n",
        "import time\n",
        "\n",
        "translator = Translator()\n",
        "\n",
        "def trans(text):\n",
        "  try:\n",
        "    lang = translator.detect(text).lang\n",
        "  except:\n",
        "    lang = \"en\"\n",
        "\n",
        "  if lang != \"en\":\n",
        "    try:\n",
        "      text = translator.translate(text, dest='en').text\n",
        "      time.sleep(1)\n",
        "    except:\n",
        "      pass\n",
        "  \n",
        "  return text"
      ],
      "metadata": {
        "id": "qpAdjD_Ur8ho"
      },
      "execution_count": null,
      "outputs": []
    },
    {
      "cell_type": "code",
      "source": [
        "df_des[\"description\"] = df_des[\"description\"].apply(trans)"
      ],
      "metadata": {
        "id": "rrP059WDsIT6"
      },
      "execution_count": null,
      "outputs": []
    },
    {
      "cell_type": "markdown",
      "source": [
        "# Tokenize(nltk) "
      ],
      "metadata": {
        "id": "M8jxU8VG32tJ"
      }
    },
    {
      "cell_type": "code",
      "source": [
        "!pip install nltk\n",
        "\n",
        "import nltk\n",
        "from nltk.tokenize import word_tokenize\n",
        "from nltk.corpus import stopwords\n",
        "nltk.download('punkt')\n",
        "nltk.download('averaged_perceptron_tagger')\n",
        "nltk.download('wordnet')\n",
        "nltk.download('stopwords')"
      ],
      "metadata": {
        "colab": {
          "base_uri": "https://localhost:8080/"
        },
        "id": "JDfYzDRkoo3m",
        "outputId": "bab63c1b-379c-4361-8c8c-5e9ea3dbe269"
      },
      "execution_count": null,
      "outputs": [
        {
          "output_type": "stream",
          "name": "stdout",
          "text": [
            "Requirement already satisfied: nltk in /usr/local/lib/python3.7/dist-packages (3.2.5)\n",
            "Requirement already satisfied: six in /usr/local/lib/python3.7/dist-packages (from nltk) (1.15.0)\n",
            "[nltk_data] Downloading package punkt to /root/nltk_data...\n",
            "[nltk_data]   Unzipping tokenizers/punkt.zip.\n",
            "[nltk_data] Downloading package averaged_perceptron_tagger to\n",
            "[nltk_data]     /root/nltk_data...\n",
            "[nltk_data]   Unzipping taggers/averaged_perceptron_tagger.zip.\n",
            "[nltk_data] Downloading package wordnet to /root/nltk_data...\n",
            "[nltk_data]   Unzipping corpora/wordnet.zip.\n",
            "[nltk_data] Downloading package stopwords to /root/nltk_data...\n",
            "[nltk_data]   Unzipping corpora/stopwords.zip.\n"
          ]
        },
        {
          "output_type": "execute_result",
          "data": {
            "text/plain": [
              "True"
            ]
          },
          "metadata": {},
          "execution_count": 5
        }
      ]
    },
    {
      "cell_type": "code",
      "source": [
        "def lower_remove_whitespace(text):\n",
        "    try:\n",
        "        return  \" \".join(text.lower().split())\n",
        "    except:\n",
        "        return \"\""
      ],
      "metadata": {
        "id": "nV-ZYa3rofPY"
      },
      "execution_count": null,
      "outputs": []
    },
    {
      "cell_type": "code",
      "source": [
        "df_des[\"description\"] = df_des[\"description\"].apply(lambda X: lower_remove_whitespace(X))"
      ],
      "metadata": {
        "id": "nYwdwZNjsJ-c"
      },
      "execution_count": null,
      "outputs": []
    },
    {
      "cell_type": "code",
      "source": [
        "# 斷詞\n",
        "def tokenize_func(text):\n",
        "    try:\n",
        "        return word_tokenize(text)\n",
        "    except:\n",
        "        return \"\""
      ],
      "metadata": {
        "id": "-NUblb54sVOY"
      },
      "execution_count": null,
      "outputs": []
    },
    {
      "cell_type": "code",
      "source": [
        "df_des[\"description_token\"] = df_des[\"description\"].apply(tokenize_func)"
      ],
      "metadata": {
        "id": "MSnl7RXduwUY"
      },
      "execution_count": null,
      "outputs": []
    },
    {
      "cell_type": "code",
      "source": [
        "from nltk.stem import WordNetLemmatizer\n",
        "from nltk import word_tokenize, pos_tag\n",
        "\n",
        "def lemmatization(text):\n",
        "    \n",
        "    result=[]\n",
        "    wordnet = WordNetLemmatizer()\n",
        "    for token,tag in pos_tag(text):\n",
        "        pos = tag[0].lower()\n",
        "        \n",
        "        if pos not in ['a', 'r', 'n', 'v']:\n",
        "            pos='n'\n",
        "            \n",
        "        result.append(wordnet.lemmatize(token,pos))\n",
        "    \n",
        "    return result"
      ],
      "metadata": {
        "id": "NeTqeswbtcZ_"
      },
      "execution_count": null,
      "outputs": []
    },
    {
      "cell_type": "code",
      "source": [
        "df_des[\"description_token\"] = df_des[\"description_token\"].apply(lemmatization)"
      ],
      "metadata": {
        "id": "f0xsbgWnt7Op"
      },
      "execution_count": null,
      "outputs": []
    },
    {
      "cell_type": "code",
      "source": [
        "df_des.head()"
      ],
      "metadata": {
        "id": "2cIaVq8nuMT6"
      },
      "execution_count": null,
      "outputs": []
    },
    {
      "cell_type": "markdown",
      "source": [
        "# Token(one word & two word)"
      ],
      "metadata": {
        "id": "MXhSAIx94Sb_"
      }
    },
    {
      "cell_type": "code",
      "source": [
        "'''移除stopwords和標點符號'''\n",
        "stopword_list_eng = stopwords.words('english')\n",
        "text_list = df_des['description'].tolist()\n",
        "tokens_list = []\n",
        "clean_tokens = []\n",
        "\n",
        "for text in text_list:\n",
        "    try:\n",
        "        tokens_list.append(word_tokenize(text))\n",
        "    except:\n",
        "        pass\n",
        "\n",
        "for lst in tokens_list:\n",
        "    for tok in lst:\n",
        "        if tok.lower() not in stopword_list_eng and tok.isalpha():\n",
        "            clean_tokens.append(tok)"
      ],
      "metadata": {
        "id": "i_Kq4tudutTp"
      },
      "execution_count": null,
      "outputs": []
    },
    {
      "cell_type": "code",
      "source": [
        "len(clean_tokens)\n",
        "# 1383772"
      ],
      "metadata": {
        "id": "Z_mM3McfxPs4"
      },
      "execution_count": null,
      "outputs": []
    },
    {
      "cell_type": "code",
      "source": [
        "from collections import Counter\n",
        "\n",
        "word_count = Counter(clean_tokens)\n",
        "frequent_words = word_count.most_common(200)\n",
        "\n",
        "frequent_words[:10]"
      ],
      "metadata": {
        "colab": {
          "base_uri": "https://localhost:8080/"
        },
        "id": "myG-xd2fxTEt",
        "outputId": "4b10cd78-cde6-4fb6-c811-0c004d5002f8"
      },
      "execution_count": null,
      "outputs": [
        {
          "output_type": "execute_result",
          "data": {
            "text/plain": [
              "[('und', 26331),\n",
              " ('room', 21562),\n",
              " ('apartment', 19834),\n",
              " ('berlin', 18357),\n",
              " ('die', 14429),\n",
              " ('kitchen', 13673),\n",
              " ('der', 12887),\n",
              " ('mit', 12619),\n",
              " ('ist', 12430),\n",
              " ('flat', 10933)]"
            ]
          },
          "metadata": {},
          "execution_count": 23
        }
      ]
    },
    {
      "cell_type": "code",
      "source": [
        "'''不移除stopwords, 只移除標點符號的pairs'''\n",
        "tokens_no_punc = []\n",
        "for lst in tokens_list:\n",
        "    word_list = []\n",
        "    for tok in lst:\n",
        "        if tok.isalpha():\n",
        "            word_list.append(tok)\n",
        "    tokens_no_punc.append(word_list)"
      ],
      "metadata": {
        "id": "KjriaLj6xWkF"
      },
      "execution_count": null,
      "outputs": []
    },
    {
      "cell_type": "code",
      "source": [
        "'''移除stopwords後的pairs'''\n",
        "word_pair_counts = Counter()\n",
        "\n",
        "clean_tokens_pair = []\n",
        "for tokens in tokens_no_punc:\n",
        "    for i in range(len(tokens)-1):\n",
        "        (w1, w2) = (tokens[i], tokens[i+1])\n",
        "        if w1.lower() not in stopword_list_eng and w2.lower() not in stopword_list_eng:\n",
        "            word_pair_counts[(w1, w2)] += 1\n",
        "            clean_tokens_pair.append(str(w1)+\" \"+str(w2))\n",
        "\n",
        "common_pairs = word_pair_counts.most_common(100)"
      ],
      "metadata": {
        "id": "QpqGFhndyMNU"
      },
      "execution_count": null,
      "outputs": []
    },
    {
      "cell_type": "code",
      "source": [
        "len(clean_tokens_pair)\n",
        "# 670868"
      ],
      "metadata": {
        "colab": {
          "base_uri": "https://localhost:8080/"
        },
        "id": "GMiI528xynk_",
        "outputId": "9d09fa3a-9af7-4527-971a-312d9a04019d"
      },
      "execution_count": null,
      "outputs": [
        {
          "output_type": "execute_result",
          "data": {
            "text/plain": [
              "1056577"
            ]
          },
          "metadata": {},
          "execution_count": 26
        }
      ]
    },
    {
      "cell_type": "code",
      "source": [
        "'''出現次數超過200次的詞'''\n",
        "features_list = clean_tokens + clean_tokens_pair\n",
        "clean_tokens_pair_200 = [n for n in word_pair_counts.elements() if word_pair_counts[n]>200]\n",
        "clean_tokens_pair_200 = [clean_tokens_pair_200[i][0] + \" \" + clean_tokens_pair_200[i][1] for i in range(len(clean_tokens_pair_200))]\n",
        "clean_tokens_200 = [n.lower() for n in word_count.elements() if word_count[n]>200]\n",
        "features_list_200 = list(set(clean_tokens_200)) + list(set(clean_tokens_pair_200))"
      ],
      "metadata": {
        "id": "rloW4sDnzMeW"
      },
      "execution_count": null,
      "outputs": []
    },
    {
      "cell_type": "code",
      "source": [
        "len(features_list_200)  # 1151個要轉成dummy的詞"
      ],
      "metadata": {
        "id": "6hdVtMbBzh5-"
      },
      "execution_count": null,
      "outputs": []
    },
    {
      "cell_type": "markdown",
      "source": [
        "# Dummy"
      ],
      "metadata": {
        "id": "NR1FM-j54uFG"
      }
    },
    {
      "cell_type": "code",
      "source": [
        "for n in features_list_200:\n",
        "    df_des_dummy[n] = 0\n",
        "\n",
        "for index, row in df_des.iterrows():\n",
        "    word = row['description_token']\n",
        "    for w in features_list_200:\n",
        "        try:\n",
        "            if str(w) in word:\n",
        "                df_des_dummy.at[index, str(w)] = 1\n",
        "        except:\n",
        "            continue"
      ],
      "metadata": {
        "id": "ZaNbyFTXzkb0"
      },
      "execution_count": null,
      "outputs": []
    },
    {
      "cell_type": "markdown",
      "source": [
        "# PCA on dummy"
      ],
      "metadata": {
        "id": "ruMsndCv4wSG"
      }
    },
    {
      "cell_type": "code",
      "source": [
        "from sklearn.decomposition import PCA\n",
        "import numpy as np\n",
        "import pandas as pd\n",
        "\n",
        "data_col = df_des_dummy.drop(columns=[\"id\", \"description\", \"description_token\"])"
      ],
      "metadata": {
        "id": "XOYhuqqjz7B5"
      },
      "execution_count": null,
      "outputs": []
    },
    {
      "cell_type": "code",
      "source": [
        "'''n_components=8'''\n",
        "pca = PCA(n_components=8)\n",
        "pca.fit(data_col)\n",
        "data_pca = pca.transform(data_col)"
      ],
      "metadata": {
        "id": "nLYUvwpKz-F3"
      },
      "execution_count": null,
      "outputs": []
    },
    {
      "cell_type": "code",
      "source": [
        "data_pca_df = pd.DataFrame(data_pca)\n",
        "data_pca_df.columns =  [\"des_pc\"+str(x) for x in range(8)] \n",
        "data_pca_df.shape"
      ],
      "metadata": {
        "colab": {
          "base_uri": "https://localhost:8080/"
        },
        "id": "lhaS20Rw0n4d",
        "outputId": "e3e894ad-75eb-4031-d489-71ebd4cfe8b4"
      },
      "execution_count": null,
      "outputs": [
        {
          "output_type": "execute_result",
          "data": {
            "text/plain": [
              "(22349, 8)"
            ]
          },
          "metadata": {},
          "execution_count": 37
        }
      ]
    },
    {
      "cell_type": "code",
      "source": [
        "df_out = pd.concat([df_des, data_pca_df], axis=1)\n",
        "df_out.head()"
      ],
      "metadata": {
        "id": "iGfHv1rQ1o2_"
      },
      "execution_count": null,
      "outputs": []
    },
    {
      "cell_type": "markdown",
      "source": [
        "# Sentiment analysis (Afinn)"
      ],
      "metadata": {
        "id": "TfauAORe40ek"
      }
    },
    {
      "cell_type": "code",
      "source": [
        "!pip install afinn\n",
        "from afinn import Afinn"
      ],
      "metadata": {
        "colab": {
          "base_uri": "https://localhost:8080/"
        },
        "id": "ISrkagz62Dqv",
        "outputId": "3576c31b-8b83-4465-a85c-d637ff813ff7"
      },
      "execution_count": null,
      "outputs": [
        {
          "output_type": "stream",
          "name": "stdout",
          "text": [
            "Collecting afinn\n",
            "  Downloading afinn-0.1.tar.gz (52 kB)\n",
            "\u001b[?25l\r\u001b[K     |██████▎                         | 10 kB 24.9 MB/s eta 0:00:01\r\u001b[K     |████████████▌                   | 20 kB 9.5 MB/s eta 0:00:01\r\u001b[K     |██████████████████▊             | 30 kB 8.2 MB/s eta 0:00:01\r\u001b[K     |█████████████████████████       | 40 kB 7.5 MB/s eta 0:00:01\r\u001b[K     |███████████████████████████████▏| 51 kB 4.2 MB/s eta 0:00:01\r\u001b[K     |████████████████████████████████| 52 kB 894 kB/s \n",
            "\u001b[?25hBuilding wheels for collected packages: afinn\n",
            "  Building wheel for afinn (setup.py) ... \u001b[?25l\u001b[?25hdone\n",
            "  Created wheel for afinn: filename=afinn-0.1-py3-none-any.whl size=53448 sha256=a40d3b581ed3685862babab994a095bb43673abca62025758eb16e51783d777f\n",
            "  Stored in directory: /root/.cache/pip/wheels/9d/16/3a/9f0953027434eab5dadf3f33ab3298fa95afa8292fcf7aba75\n",
            "Successfully built afinn\n",
            "Installing collected packages: afinn\n",
            "Successfully installed afinn-0.1\n"
          ]
        }
      ]
    },
    {
      "cell_type": "code",
      "source": [
        "'''看看afinn裡面是怎麼評分的'''\n",
        "afinn_wl_url = ('https://raw.githubusercontent.com'\n",
        "                '/fnielsen/afinn/master/afinn/data/AFINN-111.txt')\n",
        "\n",
        "afinn_wl_df = pd.read_csv(afinn_wl_url,\n",
        "                          header=None, # no column names\n",
        "                          sep='\\t',  # tab sepeated\n",
        "                          names=['term', 'value']) #new column names\n",
        "\n",
        "seed = 808 # seed for sample so results are stable\n",
        "afinn_wl_df.sample(10, random_state = seed)"
      ],
      "metadata": {
        "colab": {
          "base_uri": "https://localhost:8080/",
          "height": 363
        },
        "id": "cEfgAoJr2FgN",
        "outputId": "4cf3be32-b8d5-4048-874c-5b64b6d53306"
      },
      "execution_count": null,
      "outputs": [
        {
          "output_type": "execute_result",
          "data": {
            "text/html": [
              "<div>\n",
              "<style scoped>\n",
              "    .dataframe tbody tr th:only-of-type {\n",
              "        vertical-align: middle;\n",
              "    }\n",
              "\n",
              "    .dataframe tbody tr th {\n",
              "        vertical-align: top;\n",
              "    }\n",
              "\n",
              "    .dataframe thead th {\n",
              "        text-align: right;\n",
              "    }\n",
              "</style>\n",
              "<table border=\"1\" class=\"dataframe\">\n",
              "  <thead>\n",
              "    <tr style=\"text-align: right;\">\n",
              "      <th></th>\n",
              "      <th>term</th>\n",
              "      <th>value</th>\n",
              "    </tr>\n",
              "  </thead>\n",
              "  <tbody>\n",
              "    <tr>\n",
              "      <th>1852</th>\n",
              "      <td>regret</td>\n",
              "      <td>-2</td>\n",
              "    </tr>\n",
              "    <tr>\n",
              "      <th>1285</th>\n",
              "      <td>indifferent</td>\n",
              "      <td>-2</td>\n",
              "    </tr>\n",
              "    <tr>\n",
              "      <th>681</th>\n",
              "      <td>disappoints</td>\n",
              "      <td>-2</td>\n",
              "    </tr>\n",
              "    <tr>\n",
              "      <th>770</th>\n",
              "      <td>doubts</td>\n",
              "      <td>-1</td>\n",
              "    </tr>\n",
              "    <tr>\n",
              "      <th>1644</th>\n",
              "      <td>outmaneuvered</td>\n",
              "      <td>-2</td>\n",
              "    </tr>\n",
              "    <tr>\n",
              "      <th>55</th>\n",
              "      <td>admit</td>\n",
              "      <td>-1</td>\n",
              "    </tr>\n",
              "    <tr>\n",
              "      <th>1133</th>\n",
              "      <td>haha</td>\n",
              "      <td>3</td>\n",
              "    </tr>\n",
              "    <tr>\n",
              "      <th>1160</th>\n",
              "      <td>haunt</td>\n",
              "      <td>-1</td>\n",
              "    </tr>\n",
              "    <tr>\n",
              "      <th>2435</th>\n",
              "      <td>wishing</td>\n",
              "      <td>1</td>\n",
              "    </tr>\n",
              "    <tr>\n",
              "      <th>21</th>\n",
              "      <td>abused</td>\n",
              "      <td>-3</td>\n",
              "    </tr>\n",
              "  </tbody>\n",
              "</table>\n",
              "</div>"
            ],
            "text/plain": [
              "               term  value\n",
              "1852         regret     -2\n",
              "1285    indifferent     -2\n",
              "681     disappoints     -2\n",
              "770          doubts     -1\n",
              "1644  outmaneuvered     -2\n",
              "55            admit     -1\n",
              "1133           haha      3\n",
              "1160          haunt     -1\n",
              "2435        wishing      1\n",
              "21           abused     -3"
            ]
          },
          "metadata": {},
          "execution_count": 40
        }
      ]
    },
    {
      "cell_type": "code",
      "source": [
        "'''看一下afinn裡面正面、負面字的分布和給分'''\n",
        "afinn_wl_df['value'].hist()  # 負面的字比較多，且 +2 和 -2 這兩種分數最多"
      ],
      "metadata": {
        "colab": {
          "base_uri": "https://localhost:8080/",
          "height": 284
        },
        "id": "5Hsc4rIS2JoS",
        "outputId": "4743fe6d-7781-4b81-eca4-fb66f155d7dc"
      },
      "execution_count": null,
      "outputs": [
        {
          "output_type": "execute_result",
          "data": {
            "text/plain": [
              "<matplotlib.axes._subplots.AxesSubplot at 0x7f98d026f1d0>"
            ]
          },
          "metadata": {},
          "execution_count": 41
        },
        {
          "output_type": "display_data",
          "data": {
            "image/png": "[encoded data removed]",
            "text/plain": [
              "<Figure size 432x288 with 1 Axes>"
            ]
          },
          "metadata": {
            "needs_background": "light"
          }
        }
      ]
    },
    {
      "cell_type": "code",
      "metadata": {
        "id": "yHYlQVa1xF_9"
      },
      "source": [
        "afinn = Afinn(language='en')\n",
        "afinn_score = []\n",
        "\n",
        "for text in df_des[\"description\"]:\n",
        "  score = afinn.score(text)\n",
        "  afinn_score.append(score)\n",
        "\n",
        "# afinn_score"
      ],
      "execution_count": null,
      "outputs": []
    },
    {
      "cell_type": "code",
      "metadata": {
        "colab": {
          "base_uri": "https://localhost:8080/",
          "height": 300
        },
        "id": "zBNfF1301k7e",
        "outputId": "f61bd29e-e69f-4adb-a50e-7aa0c1bb084b"
      },
      "source": [
        "afinn_df = pd.DataFrame({\"id\": df_des[\"id\"], \n",
        "                                            \"des_afinn_score\": afinn_score})\n",
        "\n",
        "afinn_df.describe()"
      ],
      "execution_count": null,
      "outputs": [
        {
          "output_type": "execute_result",
          "data": {
            "text/html": [
              "<div>\n",
              "<style scoped>\n",
              "    .dataframe tbody tr th:only-of-type {\n",
              "        vertical-align: middle;\n",
              "    }\n",
              "\n",
              "    .dataframe tbody tr th {\n",
              "        vertical-align: top;\n",
              "    }\n",
              "\n",
              "    .dataframe thead th {\n",
              "        text-align: right;\n",
              "    }\n",
              "</style>\n",
              "<table border=\"1\" class=\"dataframe\">\n",
              "  <thead>\n",
              "    <tr style=\"text-align: right;\">\n",
              "      <th></th>\n",
              "      <th>id</th>\n",
              "      <th>des_afinn_score</th>\n",
              "    </tr>\n",
              "  </thead>\n",
              "  <tbody>\n",
              "    <tr>\n",
              "      <th>count</th>\n",
              "      <td>2.234900e+04</td>\n",
              "      <td>22349.000000</td>\n",
              "    </tr>\n",
              "    <tr>\n",
              "      <th>mean</th>\n",
              "      <td>1.561461e+07</td>\n",
              "      <td>6.446687</td>\n",
              "    </tr>\n",
              "    <tr>\n",
              "      <th>std</th>\n",
              "      <td>8.515158e+06</td>\n",
              "      <td>11.943707</td>\n",
              "    </tr>\n",
              "    <tr>\n",
              "      <th>min</th>\n",
              "      <td>2.015000e+03</td>\n",
              "      <td>-39.000000</td>\n",
              "    </tr>\n",
              "    <tr>\n",
              "      <th>25%</th>\n",
              "      <td>8.026645e+06</td>\n",
              "      <td>0.000000</td>\n",
              "    </tr>\n",
              "    <tr>\n",
              "      <th>50%</th>\n",
              "      <td>1.670125e+07</td>\n",
              "      <td>6.000000</td>\n",
              "    </tr>\n",
              "    <tr>\n",
              "      <th>75%</th>\n",
              "      <td>2.240766e+07</td>\n",
              "      <td>14.000000</td>\n",
              "    </tr>\n",
              "    <tr>\n",
              "      <th>max</th>\n",
              "      <td>2.986735e+07</td>\n",
              "      <td>56.000000</td>\n",
              "    </tr>\n",
              "  </tbody>\n",
              "</table>\n",
              "</div>"
            ],
            "text/plain": [
              "                 id  des_afinn_score\n",
              "count  2.234900e+04     22349.000000\n",
              "mean   1.561461e+07         6.446687\n",
              "std    8.515158e+06        11.943707\n",
              "min    2.015000e+03       -39.000000\n",
              "25%    8.026645e+06         0.000000\n",
              "50%    1.670125e+07         6.000000\n",
              "75%    2.240766e+07        14.000000\n",
              "max    2.986735e+07        56.000000"
            ]
          },
          "metadata": {},
          "execution_count": 45
        }
      ]
    },
    {
      "cell_type": "markdown",
      "source": [
        "# Data output"
      ],
      "metadata": {
        "id": "tN25Pmar48UU"
      }
    },
    {
      "cell_type": "code",
      "metadata": {
        "id": "R7UfNcFBJZ8X"
      },
      "source": [
        "df_out2 = pd.merge(df_out, afinn_df, on=\"id\", left_index=True, how=\"left\")\n",
        "df_out2.head()"
      ],
      "execution_count": null,
      "outputs": []
    },
    {
      "cell_type": "code",
      "metadata": {
        "colab": {
          "base_uri": "https://localhost:8080/"
        },
        "id": "Khmloxk7KOy0",
        "outputId": "49848771-561f-4753-e2e8-077dfe78ff3f"
      },
      "source": [
        "df_out2.shape"
      ],
      "execution_count": null,
      "outputs": [
        {
          "output_type": "execute_result",
          "data": {
            "text/plain": [
              "(22537, 1555)"
            ]
          },
          "metadata": {},
          "execution_count": 48
        }
      ]
    },
    {
      "cell_type": "code",
      "metadata": {
        "colab": {
          "base_uri": "https://localhost:8080/",
          "height": 17
        },
        "id": "PPgtntFaJZ8X",
        "outputId": "153ae810-48d2-4dfd-c77c-993d8d62e32f"
      },
      "source": [
        "from google.colab import files\n",
        "df_out2.to_csv('data_des.csv', index=True) \n",
        "files.download('data_des.csv')"
      ],
      "execution_count": null,
      "outputs": [
        {
          "output_type": "display_data",
          "data": {
            "application/javascript": [
              "\n",
              "    async function download(id, filename, size) {\n",
              "      if (!google.colab.kernel.accessAllowed) {\n",
              "        return;\n",
              "      }\n",
              "      const div = document.createElement('div');\n",
              "      const label = document.createElement('label');\n",
              "      label.textContent = `Downloading \"${filename}\": `;\n",
              "      div.appendChild(label);\n",
              "      const progress = document.createElement('progress');\n",
              "      progress.max = size;\n",
              "      div.appendChild(progress);\n",
              "      document.body.appendChild(div);\n",
              "\n",
              "      const buffers = [];\n",
              "      let downloaded = 0;\n",
              "\n",
              "      const channel = await google.colab.kernel.comms.open(id);\n",
              "      // Send a message to notify the kernel that we're ready.\n",
              "      channel.send({})\n",
              "\n",
              "      for await (const message of channel.messages) {\n",
              "        // Send a message to notify the kernel that we're ready.\n",
              "        channel.send({})\n",
              "        if (message.buffers) {\n",
              "          for (const buffer of message.buffers) {\n",
              "            buffers.push(buffer);\n",
              "            downloaded += buffer.byteLength;\n",
              "            progress.value = downloaded;\n",
              "          }\n",
              "        }\n",
              "      }\n",
              "      const blob = new Blob(buffers, {type: 'application/binary'});\n",
              "      const a = document.createElement('a');\n",
              "      a.href = window.URL.createObjectURL(blob);\n",
              "      a.download = filename;\n",
              "      div.appendChild(a);\n",
              "      a.click();\n",
              "      div.remove();\n",
              "    }\n",
              "  "
            ],
            "text/plain": [
              "<IPython.core.display.Javascript object>"
            ]
          },
          "metadata": {}
        },
        {
          "output_type": "display_data",
          "data": {
            "application/javascript": [
              "download(\"download_0b0d7894-df0e-42ff-93a7-5b84303355d2\", \"data_des.csv\", 33016972)"
            ],
            "text/plain": [
              "<IPython.core.display.Javascript object>"
            ]
          },
          "metadata": {}
        }
      ]
    }
  ]
}